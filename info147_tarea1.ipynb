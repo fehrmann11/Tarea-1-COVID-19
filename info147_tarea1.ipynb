{
 "cells": [
  {
   "cell_type": "code",
   "execution_count": 2,
   "metadata": {},
   "outputs": [],
   "source": [
    "import pandas as pd\n"
   ]
  },
  {
   "cell_type": "markdown",
   "metadata": {},
   "source": [
    "# Tarea 1: Explorando datos mundiales de COVID-19 \n",
    "\n",
    "En esta actividad se pide que explore los datos del repositorio [\"COVID-19 Data Repository by the Center for Systems Science and Engineering (CSSE) at Johns Hopkins University\"](https://github.com/CSSEGISandData/COVID-19)\n",
    "\n",
    "Adjunto a este cuadernillo encontrará los datos al 26 de Abril de 2021 de dicho repositorio en el archivo `data.zip`. Luego de descomprimir debería observar cuatro archivos\n",
    "\n",
    "- `covid19_confirmados.csv` : Número de casos diarios acumulado reportados como COVID-19 positivos (confirmados)\n",
    "- `covid19_recuperados.csv` : Número de casos diarios acumulado reportados como recuperados \n",
    "- `covid19_decesos.csv` : Número de decesos diarios por COVID-19 acumulado \n",
    "- `population_by_country_2020.csv`:  Población por país más otros indicadores socioeconómicos al 2020 descargados desde: https://www.kaggle.com/tanuprabhu/population-by-country-2020\n",
    "\n",
    "En los primeros tres archivos cada fila corresponde a un país o un estado/provincia de un país. Las columnas son las coordenadas geográficas (latitud y longitud) y el número de casos diarios para cada día desde Enero de 2020 a la fecha. Según quienes compilaron este repositorio, la información de casos recuperados debe analizarse con cautela pues podría estar considerablemente subestimada. \n",
    "\n",
    "A modo de ejemplo se muestra a continuación una gráfica de la series de tiempo del número de casos confirmados totales acumulados de Chile, Argentina y Bolivia \n",
    "\n",
    "<img src=\"ejemplo1.png\">\n",
    "\n",
    "A partir de esta información se puede calcular la serie de tiempo de los casos confirmados \"nuevos\" por día\n",
    "\n",
    "<img src=\"ejemplo2.png\">\n",
    "\n",
    "En esta tarea se pide que procese, visualice, analice y discuta en base a estos datos. Escriba las rutinas de Python necesarias para resolver las actividades específicas que encontrará en este enunciado. **Use las librerías vistas en el curso**. Discuta con sus compañeros de grupo y complete con su análisis donde corresponda."
   ]
  },
  {
   "cell_type": "markdown",
   "metadata": {},
   "source": [
    "## Instrucciones generales \n",
    "\n",
    "1. Forme un grupo de **máximo tres estudiantes**\n",
    "1. Versione su trabajo usando un **repositorio privado de github**. Agregue a sus compañeros y a su profesor (usuario github: phuijse) en la pestaña *Settings/Manage access*. No se aceptarán consultas de programación si no se cumple este requisito\n",
    "1. Su tarea se evaluará en base al último commit antes de la fecha de entrega: **14:10 del Martes 11 de Mayo de 2021**. La nota se calcula como (\"pt totales\" + 1)\n",
    "1. [Sean leales y honestos](https://www.acm.org/about-acm/code-of-ethics-in-spanish), no copie ni comparta resultados con otros grupos"
   ]
  },
  {
   "cell_type": "markdown",
   "metadata": {},
   "source": [
    "## Enunciado"
   ]
  },
  {
   "cell_type": "markdown",
   "metadata": {},
   "source": [
    "### Preparación de datos (1.5pt)"
   ]
  },
  {
   "cell_type": "markdown",
   "metadata": {},
   "source": [
    "1. Explore el archivo `covid19_confirmados.csv` y configure la función `read_csv` de pandas para importarlo como un `DataFrame`. \n",
    "    1. Utilice el nombre de país como índice principal\n",
    "    1. Elimine las columnas `Lat` y `Long`\n",
    "    1. Use TimeStamps para los \"nombres de columna\" asociados a fechas\n",
    "    1. Reduzca la columna `Province/State`, el DataFrame resultante debe tener los totales a nivel país\n",
    "1. Explore el archivo `population_by_country_2020.csv` y configure la función `read_csv` de pandas para importarlo como un `DataFrame`. \n",
    "    1. Utilice el nombre de país como índice principal. Algunos siglas o nombres podrían no calzar con el `DataFrame` anterior, modifíquelos manualmente o usando pandas. \n",
    "1. Haga un `merge` de los `DataFrame` anteriores. El objetivo es asignar un valor de `Population` a cada elemento del primer `DataFrame`. Indique las filas donde no se puede realizar el `merge` y luego descártelas de su `DataFrame` final\n",
    "1. Repita el procedimiento anterior para los archivos `covid19_recuperados.csv` y `covid19_muertes.csv` "
   ]
  },
  {
   "cell_type": "code",
   "execution_count": 74,
   "metadata": {},
   "outputs": [],
   "source": [
    "df = pd.read_csv('data/covid19_confirmados.csv', index_col='Country/Region', parse_dates=True)\n",
    "df.drop(['Lat', 'Long'], axis=1, inplace=True)\n",
    "dateColumns = df.columns.difference(['Province/State'])\n",
    "df.columns = pd.to_datetime(df.columns.difference(['Province/State'])).strftime('%Y-%m-%d').insert(0, 'Province/State')\n"
   ]
  },
  {
   "cell_type": "code",
   "execution_count": 78,
   "metadata": {},
   "outputs": [
    {
     "output_type": "execute_result",
     "data": {
      "text/plain": [
       "                                              Province/State  2021-01-01  \\\n",
       "Country/Region                                                             \n",
       "Australia                       Australian Capital Territory           0   \n",
       "Australia                                    New South Wales           0   \n",
       "Australia                                 Northern Territory           0   \n",
       "Australia                                         Queensland           0   \n",
       "Australia                                    South Australia           0   \n",
       "...                                                      ...         ...   \n",
       "United Kingdom                                     Gibraltar           0   \n",
       "United Kingdom                                   Isle of Man           0   \n",
       "United Kingdom                                    Montserrat           0   \n",
       "United Kingdom  Saint Helena, Ascension and Tristan da Cunha           0   \n",
       "United Kingdom                      Turks and Caicos Islands           0   \n",
       "\n",
       "                2021-01-10  2021-01-11  2021-01-12  2021-01-13  2021-01-14  \\\n",
       "Country/Region                                                               \n",
       "Australia                0           0           0           0           0   \n",
       "Australia                0           0           0           3           4   \n",
       "Australia                0           0           0           0           0   \n",
       "Australia                0           0           0           0           0   \n",
       "Australia                0           0           0           0           0   \n",
       "...                    ...         ...         ...         ...         ...   \n",
       "United Kingdom           0           0           0           0           0   \n",
       "United Kingdom           0           0           0           0           0   \n",
       "United Kingdom           0           0           0           0           0   \n",
       "United Kingdom           0           0           0           0           0   \n",
       "United Kingdom           0           0           0           0           0   \n",
       "\n",
       "                2021-01-15  2021-01-16  2021-01-17  ...  2020-09-28  \\\n",
       "Country/Region                                      ...               \n",
       "Australia                0           0           0  ...         123   \n",
       "Australia                4           4           4  ...        5370   \n",
       "Australia                0           0           0  ...         113   \n",
       "Australia                0           1           3  ...        1516   \n",
       "Australia                0           0           0  ...         682   \n",
       "...                    ...         ...         ...  ...         ...   \n",
       "United Kingdom           0           0           0  ...        4291   \n",
       "United Kingdom           0           0           0  ...        1575   \n",
       "United Kingdom           0           0           0  ...          20   \n",
       "United Kingdom           0           0           0  ...           4   \n",
       "United Kingdom           0           0           0  ...        2369   \n",
       "\n",
       "                2020-09-29  2020-09-03  2020-09-30  2020-09-04  2020-09-05  \\\n",
       "Country/Region                                                               \n",
       "Australia              123         123         123         123         123   \n",
       "Australia             5376        5384        5387        5395        5402   \n",
       "Australia              119         119         129         132         136   \n",
       "Australia             1518        1518        1518        1519        1520   \n",
       "Australia              682         682         688         691         693   \n",
       "...                    ...         ...         ...         ...         ...   \n",
       "United Kingdom        4291        4291        4291        4291        4291   \n",
       "United Kingdom        1575        1577        1577        1577        1582   \n",
       "United Kingdom          20          20          20          20          20   \n",
       "United Kingdom           4           4           4           4           4   \n",
       "United Kingdom        2369        2369        2369        2369        2371   \n",
       "\n",
       "                2020-09-06  2020-09-07  2020-09-08  2020-09-09  \n",
       "Country/Region                                                  \n",
       "Australia              123         123         123         123  \n",
       "Australia             5418        5419        5420        5428  \n",
       "Australia              149         159         160         164  \n",
       "Australia             1524        1525        1529        1531  \n",
       "Australia              702         703         704         705  \n",
       "...                    ...         ...         ...         ...  \n",
       "United Kingdom        4291        4283        4283        4283  \n",
       "United Kingdom        1584        1585        1585        1586  \n",
       "United Kingdom          20          20          20          20  \n",
       "United Kingdom           4           4           4           4  \n",
       "United Kingdom        2371        2375        2376        2376  \n",
       "\n",
       "[86 rows x 461 columns]"
      ],
      "text/html": "<div>\n<style scoped>\n    .dataframe tbody tr th:only-of-type {\n        vertical-align: middle;\n    }\n\n    .dataframe tbody tr th {\n        vertical-align: top;\n    }\n\n    .dataframe thead th {\n        text-align: right;\n    }\n</style>\n<table border=\"1\" class=\"dataframe\">\n  <thead>\n    <tr style=\"text-align: right;\">\n      <th></th>\n      <th>Province/State</th>\n      <th>2021-01-01</th>\n      <th>2021-01-10</th>\n      <th>2021-01-11</th>\n      <th>2021-01-12</th>\n      <th>2021-01-13</th>\n      <th>2021-01-14</th>\n      <th>2021-01-15</th>\n      <th>2021-01-16</th>\n      <th>2021-01-17</th>\n      <th>...</th>\n      <th>2020-09-28</th>\n      <th>2020-09-29</th>\n      <th>2020-09-03</th>\n      <th>2020-09-30</th>\n      <th>2020-09-04</th>\n      <th>2020-09-05</th>\n      <th>2020-09-06</th>\n      <th>2020-09-07</th>\n      <th>2020-09-08</th>\n      <th>2020-09-09</th>\n    </tr>\n    <tr>\n      <th>Country/Region</th>\n      <th></th>\n      <th></th>\n      <th></th>\n      <th></th>\n      <th></th>\n      <th></th>\n      <th></th>\n      <th></th>\n      <th></th>\n      <th></th>\n      <th></th>\n      <th></th>\n      <th></th>\n      <th></th>\n      <th></th>\n      <th></th>\n      <th></th>\n      <th></th>\n      <th></th>\n      <th></th>\n      <th></th>\n    </tr>\n  </thead>\n  <tbody>\n    <tr>\n      <th>Australia</th>\n      <td>Australian Capital Territory</td>\n      <td>0</td>\n      <td>0</td>\n      <td>0</td>\n      <td>0</td>\n      <td>0</td>\n      <td>0</td>\n      <td>0</td>\n      <td>0</td>\n      <td>0</td>\n      <td>...</td>\n      <td>123</td>\n      <td>123</td>\n      <td>123</td>\n      <td>123</td>\n      <td>123</td>\n      <td>123</td>\n      <td>123</td>\n      <td>123</td>\n      <td>123</td>\n      <td>123</td>\n    </tr>\n    <tr>\n      <th>Australia</th>\n      <td>New South Wales</td>\n      <td>0</td>\n      <td>0</td>\n      <td>0</td>\n      <td>0</td>\n      <td>3</td>\n      <td>4</td>\n      <td>4</td>\n      <td>4</td>\n      <td>4</td>\n      <td>...</td>\n      <td>5370</td>\n      <td>5376</td>\n      <td>5384</td>\n      <td>5387</td>\n      <td>5395</td>\n      <td>5402</td>\n      <td>5418</td>\n      <td>5419</td>\n      <td>5420</td>\n      <td>5428</td>\n    </tr>\n    <tr>\n      <th>Australia</th>\n      <td>Northern Territory</td>\n      <td>0</td>\n      <td>0</td>\n      <td>0</td>\n      <td>0</td>\n      <td>0</td>\n      <td>0</td>\n      <td>0</td>\n      <td>0</td>\n      <td>0</td>\n      <td>...</td>\n      <td>113</td>\n      <td>119</td>\n      <td>119</td>\n      <td>129</td>\n      <td>132</td>\n      <td>136</td>\n      <td>149</td>\n      <td>159</td>\n      <td>160</td>\n      <td>164</td>\n    </tr>\n    <tr>\n      <th>Australia</th>\n      <td>Queensland</td>\n      <td>0</td>\n      <td>0</td>\n      <td>0</td>\n      <td>0</td>\n      <td>0</td>\n      <td>0</td>\n      <td>0</td>\n      <td>1</td>\n      <td>3</td>\n      <td>...</td>\n      <td>1516</td>\n      <td>1518</td>\n      <td>1518</td>\n      <td>1518</td>\n      <td>1519</td>\n      <td>1520</td>\n      <td>1524</td>\n      <td>1525</td>\n      <td>1529</td>\n      <td>1531</td>\n    </tr>\n    <tr>\n      <th>Australia</th>\n      <td>South Australia</td>\n      <td>0</td>\n      <td>0</td>\n      <td>0</td>\n      <td>0</td>\n      <td>0</td>\n      <td>0</td>\n      <td>0</td>\n      <td>0</td>\n      <td>0</td>\n      <td>...</td>\n      <td>682</td>\n      <td>682</td>\n      <td>682</td>\n      <td>688</td>\n      <td>691</td>\n      <td>693</td>\n      <td>702</td>\n      <td>703</td>\n      <td>704</td>\n      <td>705</td>\n    </tr>\n    <tr>\n      <th>...</th>\n      <td>...</td>\n      <td>...</td>\n      <td>...</td>\n      <td>...</td>\n      <td>...</td>\n      <td>...</td>\n      <td>...</td>\n      <td>...</td>\n      <td>...</td>\n      <td>...</td>\n      <td>...</td>\n      <td>...</td>\n      <td>...</td>\n      <td>...</td>\n      <td>...</td>\n      <td>...</td>\n      <td>...</td>\n      <td>...</td>\n      <td>...</td>\n      <td>...</td>\n      <td>...</td>\n    </tr>\n    <tr>\n      <th>United Kingdom</th>\n      <td>Gibraltar</td>\n      <td>0</td>\n      <td>0</td>\n      <td>0</td>\n      <td>0</td>\n      <td>0</td>\n      <td>0</td>\n      <td>0</td>\n      <td>0</td>\n      <td>0</td>\n      <td>...</td>\n      <td>4291</td>\n      <td>4291</td>\n      <td>4291</td>\n      <td>4291</td>\n      <td>4291</td>\n      <td>4291</td>\n      <td>4291</td>\n      <td>4283</td>\n      <td>4283</td>\n      <td>4283</td>\n    </tr>\n    <tr>\n      <th>United Kingdom</th>\n      <td>Isle of Man</td>\n      <td>0</td>\n      <td>0</td>\n      <td>0</td>\n      <td>0</td>\n      <td>0</td>\n      <td>0</td>\n      <td>0</td>\n      <td>0</td>\n      <td>0</td>\n      <td>...</td>\n      <td>1575</td>\n      <td>1575</td>\n      <td>1577</td>\n      <td>1577</td>\n      <td>1577</td>\n      <td>1582</td>\n      <td>1584</td>\n      <td>1585</td>\n      <td>1585</td>\n      <td>1586</td>\n    </tr>\n    <tr>\n      <th>United Kingdom</th>\n      <td>Montserrat</td>\n      <td>0</td>\n      <td>0</td>\n      <td>0</td>\n      <td>0</td>\n      <td>0</td>\n      <td>0</td>\n      <td>0</td>\n      <td>0</td>\n      <td>0</td>\n      <td>...</td>\n      <td>20</td>\n      <td>20</td>\n      <td>20</td>\n      <td>20</td>\n      <td>20</td>\n      <td>20</td>\n      <td>20</td>\n      <td>20</td>\n      <td>20</td>\n      <td>20</td>\n    </tr>\n    <tr>\n      <th>United Kingdom</th>\n      <td>Saint Helena, Ascension and Tristan da Cunha</td>\n      <td>0</td>\n      <td>0</td>\n      <td>0</td>\n      <td>0</td>\n      <td>0</td>\n      <td>0</td>\n      <td>0</td>\n      <td>0</td>\n      <td>0</td>\n      <td>...</td>\n      <td>4</td>\n      <td>4</td>\n      <td>4</td>\n      <td>4</td>\n      <td>4</td>\n      <td>4</td>\n      <td>4</td>\n      <td>4</td>\n      <td>4</td>\n      <td>4</td>\n    </tr>\n    <tr>\n      <th>United Kingdom</th>\n      <td>Turks and Caicos Islands</td>\n      <td>0</td>\n      <td>0</td>\n      <td>0</td>\n      <td>0</td>\n      <td>0</td>\n      <td>0</td>\n      <td>0</td>\n      <td>0</td>\n      <td>0</td>\n      <td>...</td>\n      <td>2369</td>\n      <td>2369</td>\n      <td>2369</td>\n      <td>2369</td>\n      <td>2369</td>\n      <td>2371</td>\n      <td>2371</td>\n      <td>2375</td>\n      <td>2376</td>\n      <td>2376</td>\n    </tr>\n  </tbody>\n</table>\n<p>86 rows × 461 columns</p>\n</div>"
     },
     "metadata": {},
     "execution_count": 78
    }
   ],
   "source": [
    "df[df['Province/State'].notnull()]"
   ]
  },
  {
   "cell_type": "markdown",
   "metadata": {},
   "source": [
    "### Análisis global (1.5pt)\n",
    "\n",
    "1. Obtenga la cantidad total  a la fecha (26 de Abril) de los casos (a) confirmados, (b) cerrados (recuperados más decesos) y (c) activos (confirmados menos cerrados) por país. En base a estas cantidades calcule el porcentaje de \n",
    "    1. casos activos con respecto al total de confirmados\n",
    "    1. decesos con respecto al total de casos cerrados\n",
    "    1. recuperados con respecto al total de casos cerrados\n",
    "1. Luego calcule las siguientes tasas en base a información a la fecha\n",
    "    1. Tasa de incidencia: confirmados por 100.000 dividido población total\n",
    "    1. Tasa de recuperación: recuperados por 100.000 dividido población total\n",
    "    1. Tasa de mortalidad: decesos por 100.000 dividido población total\n",
    "1. En base a lo anterior muestre los nombres y los valores de los 5 países con\n",
    "    1. La mayor y menor tasa de incidencia, respectivamente\n",
    "    1. La mayor y menor tasa de recuperación, respectivamente\n",
    "    1. La mayor y menor tasa de mortalidad, respectivamente\n",
    "1. Responda, analice y discuta: ¿En qué lugar/ranking se encuentra Chile con respecto a cada una de las métricas de los puntos anteriores? ¿A qué países de la [OCDE](https://es.wikipedia.org/wiki/Organizaci%C3%B3n_para_la_Cooperaci%C3%B3n_y_el_Desarrollo_Econ%C3%B3micos) se parece más? ¿A qué paises de latinoamérica se parece más? "
   ]
  },
  {
   "cell_type": "markdown",
   "metadata": {},
   "source": [
    "### Análisis temporal y comparativo (2.0pt)\n",
    "\n",
    "1. Construya una interfaz gráfica usando `ipywidgets` y `matplotlib` que permita realizar comparaciones entre las series de tiempo de COVID-19 de dos países seleccionados arbitrariamente. A modo de simplificación considere sólo los países de la [OCDE](https://es.wikipedia.org/wiki/Organizaci%C3%B3n_para_la_Cooperaci%C3%B3n_y_el_Desarrollo_Econ%C3%B3micos). Requerimientos:\n",
    "    1. La interfaz debe incluir controles para escoger dos países a partir de una lista\n",
    "    1. La interfaz debe incluir tres [tabs](https://ipywidgets.readthedocs.io/en/latest/examples/Widget%20List.html#Tabs), el primero debe mostrar las series de tiempo de ambos países de los casos confirmados, el segundo la de recuperados y el tercero la de los decesos, respectivamente. Use una leyenda para indicar el nombre de los países.\n",
    "    1. La interfaz debe tener un control que permita escoger entre casos acumulados y casos nuevos  \n",
    "    1. La interfaz debe tener un control que permita escoger entre valores absolutos y valores relativos (tasas por 100.000 habitantes)\n",
    "    1. La interfaz debe tener un control que permita escoger entre valores diarios y valores semanales (acumulados). Para esto último se recomienda usar `groupby` con una [frecuencia lunes a lunes](https://pandas.pydata.org/pandas-docs/stable/user_guide/timeseries.html#anchored-offsets)\n",
    "    \n",
    "En base a su interfaz:   \n",
    "\n",
    "1. Describa en detalle la situación de Chile con respecto a la evolución temporal de las series de tiempo. En particular destaque patrones y comportamientos que considere relevantes y compare lo que observa en las distintas series de tiempo. Considerando la evolución a nivel de semana, conteste ¿En qué fechas ocurre un aumento o disminución notoria de los casos? ¿En qué fechas hay máximos y mínimos?\n",
    "1. Considerando métricas que sean relativas compare el caso de Chile contra cinco países de la OCDE seleccionados por ustedes. Destaque semejanzas y diferencias considerando las cantidades y los posibles desfases temporales existentes.\n"
   ]
  },
  {
   "cell_type": "markdown",
   "metadata": {},
   "source": [
    "### Dashboard interactivo (1.0pt)\n",
    "\n",
    "Implemente un *dashboard web* interactivo a partir de la interfaz desarrollada en el punto anterior utilizando la librería [voila](https://github.com/voila-dashboards/voila). Sirva su interfaz en la nube, para esto puede considerar los servicios gratuitos [binder](https://mybinder.org/) o [heroku](https://www.heroku.com/free). Revise la documentación de voila [con respecto a *deployment* en la nube](https://voila.readthedocs.io/en/stable/deploy.html) y este repositorio con [un ejemplo en base a heroku](https://github.com/voila-dashboards/voila-heroku). Entregue el link de su dashboard web"
   ]
  },
  {
   "cell_type": "code",
   "execution_count": null,
   "metadata": {},
   "outputs": [],
   "source": []
  }
 ],
 "metadata": {
  "kernelspec": {
   "name": "python385jvsc74a57bd0916dbcbb3f70747c44a77c7bcd40155683ae19c65e1c03b4aa3499c5328201f1",
   "display_name": "Python 3.8.5 64-bit"
  },
  "language_info": {
   "codemirror_mode": {
    "name": "ipython",
    "version": 3
   },
   "file_extension": ".py",
   "mimetype": "text/x-python",
   "name": "python",
   "nbconvert_exporter": "python",
   "pygments_lexer": "ipython3",
   "version": "3.8.5"
  },
  "toc": {
   "base_numbering": 1,
   "nav_menu": {},
   "number_sections": true,
   "sideBar": true,
   "skip_h1_title": false,
   "title_cell": "Table of Contents",
   "title_sidebar": "Contents",
   "toc_cell": false,
   "toc_position": {},
   "toc_section_display": true,
   "toc_window_display": false
  },
  "metadata": {
   "interpreter": {
    "hash": "916dbcbb3f70747c44a77c7bcd40155683ae19c65e1c03b4aa3499c5328201f1"
   }
  }
 },
 "nbformat": 4,
 "nbformat_minor": 2
}