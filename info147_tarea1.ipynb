{
 "cells": [
  {
   "cell_type": "code",
   "execution_count": 1,
   "metadata": {},
   "outputs": [],
   "source": [
    "%matplotlib ipympl\n",
    "import pandas as pd\n",
    "import matplotlib.pyplot as plt\n",
    "import numpy as np\n",
    "import ipywidgets as widgets\n"
   ]
  },
  {
   "cell_type": "markdown",
   "metadata": {},
   "source": [
    "# Tarea 1: Explorando datos mundiales de COVID-19 \n",
    "\n",
    "En esta actividad se pide que explore los datos del repositorio [\"COVID-19 Data Repository by the Center for Systems Science and Engineering (CSSE) at Johns Hopkins University\"](https://github.com/CSSEGISandData/COVID-19)\n",
    "\n",
    "Adjunto a este cuadernillo encontrará los datos al 26 de Abril de 2021 de dicho repositorio en el archivo `data.zip`. Luego de descomprimir debería observar cuatro archivos\n",
    "\n",
    "- `covid19_confirmados.csv` : Número de casos diarios acumulado reportados como COVID-19 positivos (confirmados)\n",
    "- `covid19_recuperados.csv` : Número de casos diarios acumulado reportados como recuperados \n",
    "- `covid19_decesos.csv` : Número de decesos diarios por COVID-19 acumulado \n",
    "- `population_by_country_2020.csv`:  Población por país más otros indicadores socioeconómicos al 2020 descargados desde: https://www.kaggle.com/tanuprabhu/population-by-country-2020\n",
    "\n",
    "En los primeros tres archivos cada fila corresponde a un país o un estado/provincia de un país. Las columnas son las coordenadas geográficas (latitud y longitud) y el número de casos diarios para cada día desde Enero de 2020 a la fecha. Según quienes compilaron este repositorio, la información de casos recuperados debe analizarse con cautela pues podría estar considerablemente subestimada. \n",
    "\n",
    "A modo de ejemplo se muestra a continuación una gráfica de la series de tiempo del número de casos confirmados totales acumulados de Chile, Argentina y Bolivia \n",
    "\n",
    "<img src=\"ejemplo1.png\">\n",
    "\n",
    "A partir de esta información se puede calcular la serie de tiempo de los casos confirmados \"nuevos\" por día\n",
    "\n",
    "<img src=\"ejemplo2.png\">\n",
    "\n",
    "En esta tarea se pide que procese, visualice, analice y discuta en base a estos datos. Escriba las rutinas de Python necesarias para resolver las actividades específicas que encontrará en este enunciado. **Use las librerías vistas en el curso**. Discuta con sus compañeros de grupo y complete con su análisis donde corresponda."
   ]
  },
  {
   "cell_type": "markdown",
   "metadata": {},
   "source": [
    "## Instrucciones generales \n",
    "\n",
    "1. Forme un grupo de **máximo tres estudiantes**\n",
    "1. Versione su trabajo usando un **repositorio privado de github**. Agregue a sus compañeros y a su profesor (usuario github: phuijse) en la pestaña *Settings/Manage access*. No se aceptarán consultas de programación si no se cumple este requisito\n",
    "1. Su tarea se evaluará en base al último commit antes de la fecha de entrega: **14:10 del Martes 11 de Mayo de 2021**. La nota se calcula como (\"pt totales\" + 1)\n",
    "1. [Sean leales y honestos](https://www.acm.org/about-acm/code-of-ethics-in-spanish), no copie ni comparta resultados con otros grupos"
   ]
  },
  {
   "cell_type": "markdown",
   "metadata": {},
   "source": [
    "## Enunciado"
   ]
  },
  {
   "cell_type": "markdown",
   "metadata": {},
   "source": [
    "### Preparación de datos (1.5pt)"
   ]
  },
  {
   "cell_type": "markdown",
   "metadata": {},
   "source": [
    "1. Explore el archivo `covid19_confirmados.csv` y configure la función `read_csv` de pandas para importarlo como un `DataFrame`. \n",
    "    1. Utilice el nombre de país como índice principal\n",
    "    1. Elimine las columnas `Lat` y `Long`\n",
    "    1. Use TimeStamps para los \"nombres de columna\" asociados a fechas\n",
    "    1. Reduzca la columna `Province/State`, el DataFrame resultante debe tener los totales a nivel país\n",
    "1. Explore el archivo `population_by_country_2020.csv` y configure la función `read_csv` de pandas para importarlo como un `DataFrame`. \n",
    "    1. Utilice el nombre de país como índice principal. Algunos siglas o nombres podrían no calzar con el `DataFrame` anterior, modifíquelos manualmente o usando pandas. \n",
    "1. Haga un `merge` de los `DataFrame` anteriores. El objetivo es asignar un valor de `Population` a cada elemento del primer `DataFrame`. Indique las filas donde no se puede realizar el `merge` y luego descártelas de su `DataFrame` final\n",
    "1. Repita el procedimiento anterior para los archivos `covid19_recuperados.csv` y `covid19_muertes.csv` "
   ]
  },
  {
   "cell_type": "markdown",
   "metadata": {},
   "source": [
    "### Pregunta 1"
   ]
  },
  {
   "cell_type": "markdown",
   "metadata": {},
   "source": [
    "### A."
   ]
  },
  {
   "cell_type": "code",
   "execution_count": 2,
   "metadata": {},
   "outputs": [],
   "source": [
    "df_confirmados = pd.read_csv('data/covid19_confirmados.csv', index_col='Country/Region', parse_dates=True)"
   ]
  },
  {
   "cell_type": "markdown",
   "metadata": {},
   "source": [
    "### B"
   ]
  },
  {
   "cell_type": "code",
   "execution_count": 3,
   "metadata": {},
   "outputs": [],
   "source": [
    "df_confirmados.drop(['Lat', 'Long'], axis=1, inplace=True)"
   ]
  },
  {
   "cell_type": "markdown",
   "metadata": {},
   "source": [
    "### C"
   ]
  },
  {
   "cell_type": "code",
   "execution_count": 4,
   "metadata": {},
   "outputs": [],
   "source": [
    "df_confirmados.columns = pd.to_datetime(df_confirmados.columns.difference(['Province/State'])).strftime('%Y-%m-%d').insert(0, 'Province/State')"
   ]
  },
  {
   "cell_type": "markdown",
   "metadata": {},
   "source": [
    "### D"
   ]
  },
  {
   "cell_type": "code",
   "execution_count": 5,
   "metadata": {},
   "outputs": [
    {
     "output_type": "execute_result",
     "data": {
      "text/plain": [
       "                    2021-01-01  2021-01-10  2021-01-11  2021-01-12  \\\n",
       "Country/Region                                                       \n",
       "Afghanistan                  0           0           0           0   \n",
       "Albania                      0           0           0           0   \n",
       "Algeria                      0           0           0           0   \n",
       "Andorra                      0           0           0           0   \n",
       "Angola                       0           0           0           0   \n",
       "...                        ...         ...         ...         ...   \n",
       "Vietnam                      0           2           2           2   \n",
       "West Bank and Gaza           0           0           0           0   \n",
       "Yemen                        0           0           0           0   \n",
       "Zambia                       0           0           0           0   \n",
       "Zimbabwe                     0           0           0           0   \n",
       "\n",
       "                    2021-01-13  2021-01-14  2021-01-15  2021-01-16  \\\n",
       "Country/Region                                                       \n",
       "Afghanistan                  0           0           0           0   \n",
       "Albania                      0           0           0           0   \n",
       "Algeria                      0           0           0           0   \n",
       "Andorra                      0           0           0           0   \n",
       "Angola                       0           0           0           0   \n",
       "...                        ...         ...         ...         ...   \n",
       "Vietnam                      2           2           2           2   \n",
       "West Bank and Gaza           0           0           0           0   \n",
       "Yemen                        0           0           0           0   \n",
       "Zambia                       0           0           0           0   \n",
       "Zimbabwe                     0           0           0           0   \n",
       "\n",
       "                    2021-01-17  2021-01-18  ...  2020-09-28  2020-09-29  \\\n",
       "Country/Region                              ...                           \n",
       "Afghanistan                  0           0  ...       57612       57721   \n",
       "Albania                      0           0  ...      129307      129456   \n",
       "Algeria                      0           0  ...      119323      119486   \n",
       "Andorra                      0           0  ...       12712       12771   \n",
       "Angola                       0           0  ...       24122       24300   \n",
       "...                        ...         ...  ...         ...         ...   \n",
       "Vietnam                      2           2  ...        2772        2781   \n",
       "West Bank and Gaza           0           0  ...      278135      279753   \n",
       "Yemen                        0           0  ...        5715        5770   \n",
       "Zambia                       0           0  ...       90750       90844   \n",
       "Zimbabwe                     0           0  ...       37534       37699   \n",
       "\n",
       "                    2020-09-03  2020-09-30  2020-09-04  2020-09-05  \\\n",
       "Country/Region                                                       \n",
       "Afghanistan              57793       57898       58037       58214   \n",
       "Albania                 129594      129694      129842      129980   \n",
       "Algeria                 119642      119805      119992      120174   \n",
       "Andorra                  12805       12805       12874       12917   \n",
       "Angola                   24389       24518       24661       24883   \n",
       "...                        ...         ...         ...         ...   \n",
       "Vietnam                   2785        2791        2800        2812   \n",
       "West Bank and Gaza      280741      282270      284280      286028   \n",
       "Yemen                     5812        5858        5918        5960   \n",
       "Zambia                   90918       90942       91042       91119   \n",
       "Zimbabwe                 37751       37859       37875       37980   \n",
       "\n",
       "                    2020-09-06  2020-09-07  2020-09-08  2020-09-09  \n",
       "Country/Region                                                      \n",
       "Afghanistan              58312       58542       58730       58843  \n",
       "Albania                 130114      130270      130409      130537  \n",
       "Algeria                 120363      120562      120736      120922  \n",
       "Andorra                  12942       13007       13024       13060  \n",
       "Angola                   25051       25279       25492       25609  \n",
       "...                        ...         ...         ...         ...  \n",
       "Vietnam                   2824        2830        2833        2843  \n",
       "West Bank and Gaza      287680      289120      290259      290972  \n",
       "Yemen                     6020        6056        6105        6137  \n",
       "Zambia                   91189       91251       91317       91358  \n",
       "Zimbabwe                 38018       38045       38064       38086  \n",
       "\n",
       "[192 rows x 460 columns]"
      ],
      "text/html": "<div>\n<style scoped>\n    .dataframe tbody tr th:only-of-type {\n        vertical-align: middle;\n    }\n\n    .dataframe tbody tr th {\n        vertical-align: top;\n    }\n\n    .dataframe thead th {\n        text-align: right;\n    }\n</style>\n<table border=\"1\" class=\"dataframe\">\n  <thead>\n    <tr style=\"text-align: right;\">\n      <th></th>\n      <th>2021-01-01</th>\n      <th>2021-01-10</th>\n      <th>2021-01-11</th>\n      <th>2021-01-12</th>\n      <th>2021-01-13</th>\n      <th>2021-01-14</th>\n      <th>2021-01-15</th>\n      <th>2021-01-16</th>\n      <th>2021-01-17</th>\n      <th>2021-01-18</th>\n      <th>...</th>\n      <th>2020-09-28</th>\n      <th>2020-09-29</th>\n      <th>2020-09-03</th>\n      <th>2020-09-30</th>\n      <th>2020-09-04</th>\n      <th>2020-09-05</th>\n      <th>2020-09-06</th>\n      <th>2020-09-07</th>\n      <th>2020-09-08</th>\n      <th>2020-09-09</th>\n    </tr>\n    <tr>\n      <th>Country/Region</th>\n      <th></th>\n      <th></th>\n      <th></th>\n      <th></th>\n      <th></th>\n      <th></th>\n      <th></th>\n      <th></th>\n      <th></th>\n      <th></th>\n      <th></th>\n      <th></th>\n      <th></th>\n      <th></th>\n      <th></th>\n      <th></th>\n      <th></th>\n      <th></th>\n      <th></th>\n      <th></th>\n      <th></th>\n    </tr>\n  </thead>\n  <tbody>\n    <tr>\n      <th>Afghanistan</th>\n      <td>0</td>\n      <td>0</td>\n      <td>0</td>\n      <td>0</td>\n      <td>0</td>\n      <td>0</td>\n      <td>0</td>\n      <td>0</td>\n      <td>0</td>\n      <td>0</td>\n      <td>...</td>\n      <td>57612</td>\n      <td>57721</td>\n      <td>57793</td>\n      <td>57898</td>\n      <td>58037</td>\n      <td>58214</td>\n      <td>58312</td>\n      <td>58542</td>\n      <td>58730</td>\n      <td>58843</td>\n    </tr>\n    <tr>\n      <th>Albania</th>\n      <td>0</td>\n      <td>0</td>\n      <td>0</td>\n      <td>0</td>\n      <td>0</td>\n      <td>0</td>\n      <td>0</td>\n      <td>0</td>\n      <td>0</td>\n      <td>0</td>\n      <td>...</td>\n      <td>129307</td>\n      <td>129456</td>\n      <td>129594</td>\n      <td>129694</td>\n      <td>129842</td>\n      <td>129980</td>\n      <td>130114</td>\n      <td>130270</td>\n      <td>130409</td>\n      <td>130537</td>\n    </tr>\n    <tr>\n      <th>Algeria</th>\n      <td>0</td>\n      <td>0</td>\n      <td>0</td>\n      <td>0</td>\n      <td>0</td>\n      <td>0</td>\n      <td>0</td>\n      <td>0</td>\n      <td>0</td>\n      <td>0</td>\n      <td>...</td>\n      <td>119323</td>\n      <td>119486</td>\n      <td>119642</td>\n      <td>119805</td>\n      <td>119992</td>\n      <td>120174</td>\n      <td>120363</td>\n      <td>120562</td>\n      <td>120736</td>\n      <td>120922</td>\n    </tr>\n    <tr>\n      <th>Andorra</th>\n      <td>0</td>\n      <td>0</td>\n      <td>0</td>\n      <td>0</td>\n      <td>0</td>\n      <td>0</td>\n      <td>0</td>\n      <td>0</td>\n      <td>0</td>\n      <td>0</td>\n      <td>...</td>\n      <td>12712</td>\n      <td>12771</td>\n      <td>12805</td>\n      <td>12805</td>\n      <td>12874</td>\n      <td>12917</td>\n      <td>12942</td>\n      <td>13007</td>\n      <td>13024</td>\n      <td>13060</td>\n    </tr>\n    <tr>\n      <th>Angola</th>\n      <td>0</td>\n      <td>0</td>\n      <td>0</td>\n      <td>0</td>\n      <td>0</td>\n      <td>0</td>\n      <td>0</td>\n      <td>0</td>\n      <td>0</td>\n      <td>0</td>\n      <td>...</td>\n      <td>24122</td>\n      <td>24300</td>\n      <td>24389</td>\n      <td>24518</td>\n      <td>24661</td>\n      <td>24883</td>\n      <td>25051</td>\n      <td>25279</td>\n      <td>25492</td>\n      <td>25609</td>\n    </tr>\n    <tr>\n      <th>...</th>\n      <td>...</td>\n      <td>...</td>\n      <td>...</td>\n      <td>...</td>\n      <td>...</td>\n      <td>...</td>\n      <td>...</td>\n      <td>...</td>\n      <td>...</td>\n      <td>...</td>\n      <td>...</td>\n      <td>...</td>\n      <td>...</td>\n      <td>...</td>\n      <td>...</td>\n      <td>...</td>\n      <td>...</td>\n      <td>...</td>\n      <td>...</td>\n      <td>...</td>\n      <td>...</td>\n    </tr>\n    <tr>\n      <th>Vietnam</th>\n      <td>0</td>\n      <td>2</td>\n      <td>2</td>\n      <td>2</td>\n      <td>2</td>\n      <td>2</td>\n      <td>2</td>\n      <td>2</td>\n      <td>2</td>\n      <td>2</td>\n      <td>...</td>\n      <td>2772</td>\n      <td>2781</td>\n      <td>2785</td>\n      <td>2791</td>\n      <td>2800</td>\n      <td>2812</td>\n      <td>2824</td>\n      <td>2830</td>\n      <td>2833</td>\n      <td>2843</td>\n    </tr>\n    <tr>\n      <th>West Bank and Gaza</th>\n      <td>0</td>\n      <td>0</td>\n      <td>0</td>\n      <td>0</td>\n      <td>0</td>\n      <td>0</td>\n      <td>0</td>\n      <td>0</td>\n      <td>0</td>\n      <td>0</td>\n      <td>...</td>\n      <td>278135</td>\n      <td>279753</td>\n      <td>280741</td>\n      <td>282270</td>\n      <td>284280</td>\n      <td>286028</td>\n      <td>287680</td>\n      <td>289120</td>\n      <td>290259</td>\n      <td>290972</td>\n    </tr>\n    <tr>\n      <th>Yemen</th>\n      <td>0</td>\n      <td>0</td>\n      <td>0</td>\n      <td>0</td>\n      <td>0</td>\n      <td>0</td>\n      <td>0</td>\n      <td>0</td>\n      <td>0</td>\n      <td>0</td>\n      <td>...</td>\n      <td>5715</td>\n      <td>5770</td>\n      <td>5812</td>\n      <td>5858</td>\n      <td>5918</td>\n      <td>5960</td>\n      <td>6020</td>\n      <td>6056</td>\n      <td>6105</td>\n      <td>6137</td>\n    </tr>\n    <tr>\n      <th>Zambia</th>\n      <td>0</td>\n      <td>0</td>\n      <td>0</td>\n      <td>0</td>\n      <td>0</td>\n      <td>0</td>\n      <td>0</td>\n      <td>0</td>\n      <td>0</td>\n      <td>0</td>\n      <td>...</td>\n      <td>90750</td>\n      <td>90844</td>\n      <td>90918</td>\n      <td>90942</td>\n      <td>91042</td>\n      <td>91119</td>\n      <td>91189</td>\n      <td>91251</td>\n      <td>91317</td>\n      <td>91358</td>\n    </tr>\n    <tr>\n      <th>Zimbabwe</th>\n      <td>0</td>\n      <td>0</td>\n      <td>0</td>\n      <td>0</td>\n      <td>0</td>\n      <td>0</td>\n      <td>0</td>\n      <td>0</td>\n      <td>0</td>\n      <td>0</td>\n      <td>...</td>\n      <td>37534</td>\n      <td>37699</td>\n      <td>37751</td>\n      <td>37859</td>\n      <td>37875</td>\n      <td>37980</td>\n      <td>38018</td>\n      <td>38045</td>\n      <td>38064</td>\n      <td>38086</td>\n    </tr>\n  </tbody>\n</table>\n<p>192 rows × 460 columns</p>\n</div>"
     },
     "metadata": {},
     "execution_count": 5
    }
   ],
   "source": [
    "\n",
    "df_confirmados = df_confirmados.groupby('Country/Region').sum()\n",
    "df_confirmados"
   ]
  },
  {
   "cell_type": "markdown",
   "metadata": {},
   "source": [
    "## Pregunta 2"
   ]
  },
  {
   "cell_type": "markdown",
   "metadata": {},
   "source": [
    "### A"
   ]
  },
  {
   "cell_type": "code",
   "execution_count": 6,
   "metadata": {},
   "outputs": [],
   "source": [
    "df_population = pd.read_csv('data/population_by_country_2020.csv',index_col = 'Country (or dependency)')"
   ]
  },
  {
   "cell_type": "code",
   "execution_count": 7,
   "metadata": {},
   "outputs": [
    {
     "output_type": "execute_result",
     "data": {
      "text/plain": [
       "                  Population (2020) Yearly Change  Net Change  \\\n",
       "Country/Region                                                  \n",
       "China                    1440297825        0.39 %     5540090   \n",
       "India                    1382345085        0.99 %    13586631   \n",
       "United States             331341050        0.59 %     1937734   \n",
       "Indonesia                 274021604        1.07 %     2898047   \n",
       "Pakistan                  221612785        2.00 %     4327022   \n",
       "...                             ...           ...         ...   \n",
       "Montserrat                     4993        0.06 %           3   \n",
       "Falkland Islands               3497        3.05 %         103   \n",
       "Niue                           1628        0.68 %          11   \n",
       "Tokelau                        1360        1.27 %          17   \n",
       "Holy See                        801        0.25 %           2   \n",
       "\n",
       "                  Density (P/Km²)  Land Area (Km²)  Migrants (net) Fert. Rate  \\\n",
       "Country/Region                                                                  \n",
       "China                         153          9388211       -348399.0        1.7   \n",
       "India                         464          2973190       -532687.0        2.2   \n",
       "United States                  36          9147420        954806.0        1.8   \n",
       "Indonesia                     151          1811570        -98955.0        2.3   \n",
       "Pakistan                      287           770880       -233379.0        3.6   \n",
       "...                           ...              ...             ...        ...   \n",
       "Montserrat                     50              100             NaN       N.A.   \n",
       "Falkland Islands                0            12170             NaN       N.A.   \n",
       "Niue                            6              260             NaN       N.A.   \n",
       "Tokelau                       136               10             NaN       N.A.   \n",
       "Holy See                     2003                0             NaN       N.A.   \n",
       "\n",
       "                 Med. Age Urban Pop % World Share  \n",
       "Country/Region                                     \n",
       "China                  38        61 %     18.47 %  \n",
       "India                  28        35 %     17.70 %  \n",
       "United States          38        83 %      4.25 %  \n",
       "Indonesia              30        56 %      3.51 %  \n",
       "Pakistan               23        35 %      2.83 %  \n",
       "...                   ...         ...         ...  \n",
       "Montserrat           N.A.        10 %      0.00 %  \n",
       "Falkland Islands     N.A.        66 %      0.00 %  \n",
       "Niue                 N.A.        46 %      0.00 %  \n",
       "Tokelau              N.A.         0 %      0.00 %  \n",
       "Holy See             N.A.        N.A.      0.00 %  \n",
       "\n",
       "[235 rows x 10 columns]"
      ],
      "text/html": "<div>\n<style scoped>\n    .dataframe tbody tr th:only-of-type {\n        vertical-align: middle;\n    }\n\n    .dataframe tbody tr th {\n        vertical-align: top;\n    }\n\n    .dataframe thead th {\n        text-align: right;\n    }\n</style>\n<table border=\"1\" class=\"dataframe\">\n  <thead>\n    <tr style=\"text-align: right;\">\n      <th></th>\n      <th>Population (2020)</th>\n      <th>Yearly Change</th>\n      <th>Net Change</th>\n      <th>Density (P/Km²)</th>\n      <th>Land Area (Km²)</th>\n      <th>Migrants (net)</th>\n      <th>Fert. Rate</th>\n      <th>Med. Age</th>\n      <th>Urban Pop %</th>\n      <th>World Share</th>\n    </tr>\n    <tr>\n      <th>Country/Region</th>\n      <th></th>\n      <th></th>\n      <th></th>\n      <th></th>\n      <th></th>\n      <th></th>\n      <th></th>\n      <th></th>\n      <th></th>\n      <th></th>\n    </tr>\n  </thead>\n  <tbody>\n    <tr>\n      <th>China</th>\n      <td>1440297825</td>\n      <td>0.39 %</td>\n      <td>5540090</td>\n      <td>153</td>\n      <td>9388211</td>\n      <td>-348399.0</td>\n      <td>1.7</td>\n      <td>38</td>\n      <td>61 %</td>\n      <td>18.47 %</td>\n    </tr>\n    <tr>\n      <th>India</th>\n      <td>1382345085</td>\n      <td>0.99 %</td>\n      <td>13586631</td>\n      <td>464</td>\n      <td>2973190</td>\n      <td>-532687.0</td>\n      <td>2.2</td>\n      <td>28</td>\n      <td>35 %</td>\n      <td>17.70 %</td>\n    </tr>\n    <tr>\n      <th>United States</th>\n      <td>331341050</td>\n      <td>0.59 %</td>\n      <td>1937734</td>\n      <td>36</td>\n      <td>9147420</td>\n      <td>954806.0</td>\n      <td>1.8</td>\n      <td>38</td>\n      <td>83 %</td>\n      <td>4.25 %</td>\n    </tr>\n    <tr>\n      <th>Indonesia</th>\n      <td>274021604</td>\n      <td>1.07 %</td>\n      <td>2898047</td>\n      <td>151</td>\n      <td>1811570</td>\n      <td>-98955.0</td>\n      <td>2.3</td>\n      <td>30</td>\n      <td>56 %</td>\n      <td>3.51 %</td>\n    </tr>\n    <tr>\n      <th>Pakistan</th>\n      <td>221612785</td>\n      <td>2.00 %</td>\n      <td>4327022</td>\n      <td>287</td>\n      <td>770880</td>\n      <td>-233379.0</td>\n      <td>3.6</td>\n      <td>23</td>\n      <td>35 %</td>\n      <td>2.83 %</td>\n    </tr>\n    <tr>\n      <th>...</th>\n      <td>...</td>\n      <td>...</td>\n      <td>...</td>\n      <td>...</td>\n      <td>...</td>\n      <td>...</td>\n      <td>...</td>\n      <td>...</td>\n      <td>...</td>\n      <td>...</td>\n    </tr>\n    <tr>\n      <th>Montserrat</th>\n      <td>4993</td>\n      <td>0.06 %</td>\n      <td>3</td>\n      <td>50</td>\n      <td>100</td>\n      <td>NaN</td>\n      <td>N.A.</td>\n      <td>N.A.</td>\n      <td>10 %</td>\n      <td>0.00 %</td>\n    </tr>\n    <tr>\n      <th>Falkland Islands</th>\n      <td>3497</td>\n      <td>3.05 %</td>\n      <td>103</td>\n      <td>0</td>\n      <td>12170</td>\n      <td>NaN</td>\n      <td>N.A.</td>\n      <td>N.A.</td>\n      <td>66 %</td>\n      <td>0.00 %</td>\n    </tr>\n    <tr>\n      <th>Niue</th>\n      <td>1628</td>\n      <td>0.68 %</td>\n      <td>11</td>\n      <td>6</td>\n      <td>260</td>\n      <td>NaN</td>\n      <td>N.A.</td>\n      <td>N.A.</td>\n      <td>46 %</td>\n      <td>0.00 %</td>\n    </tr>\n    <tr>\n      <th>Tokelau</th>\n      <td>1360</td>\n      <td>1.27 %</td>\n      <td>17</td>\n      <td>136</td>\n      <td>10</td>\n      <td>NaN</td>\n      <td>N.A.</td>\n      <td>N.A.</td>\n      <td>0 %</td>\n      <td>0.00 %</td>\n    </tr>\n    <tr>\n      <th>Holy See</th>\n      <td>801</td>\n      <td>0.25 %</td>\n      <td>2</td>\n      <td>2003</td>\n      <td>0</td>\n      <td>NaN</td>\n      <td>N.A.</td>\n      <td>N.A.</td>\n      <td>N.A.</td>\n      <td>0.00 %</td>\n    </tr>\n  </tbody>\n</table>\n<p>235 rows × 10 columns</p>\n</div>"
     },
     "metadata": {},
     "execution_count": 7
    }
   ],
   "source": [
    "df_population.index.names=['Country/Region']\n",
    "df_population"
   ]
  },
  {
   "cell_type": "markdown",
   "metadata": {},
   "source": [
    "### Pregunta 3"
   ]
  },
  {
   "cell_type": "code",
   "execution_count": 8,
   "metadata": {},
   "outputs": [
    {
     "output_type": "execute_result",
     "data": {
      "text/plain": [
       "                    2021-01-01  2021-01-10  2021-01-11  2021-01-12  \\\n",
       "Country/Region                                                       \n",
       "Afghanistan                  0           0           0           0   \n",
       "Albania                      0           0           0           0   \n",
       "Algeria                      0           0           0           0   \n",
       "Andorra                      0           0           0           0   \n",
       "Angola                       0           0           0           0   \n",
       "...                        ...         ...         ...         ...   \n",
       "Vietnam                      0           2           2           2   \n",
       "West Bank and Gaza           0           0           0           0   \n",
       "Yemen                        0           0           0           0   \n",
       "Zambia                       0           0           0           0   \n",
       "Zimbabwe                     0           0           0           0   \n",
       "\n",
       "                    2021-01-13  2021-01-14  2021-01-15  2021-01-16  \\\n",
       "Country/Region                                                       \n",
       "Afghanistan                  0           0           0           0   \n",
       "Albania                      0           0           0           0   \n",
       "Algeria                      0           0           0           0   \n",
       "Andorra                      0           0           0           0   \n",
       "Angola                       0           0           0           0   \n",
       "...                        ...         ...         ...         ...   \n",
       "Vietnam                      2           2           2           2   \n",
       "West Bank and Gaza           0           0           0           0   \n",
       "Yemen                        0           0           0           0   \n",
       "Zambia                       0           0           0           0   \n",
       "Zimbabwe                     0           0           0           0   \n",
       "\n",
       "                    2021-01-17  2021-01-18  ...  Population (2020)  \\\n",
       "Country/Region                              ...                      \n",
       "Afghanistan                  0           0  ...         39074280.0   \n",
       "Albania                      0           0  ...          2877239.0   \n",
       "Algeria                      0           0  ...         43984569.0   \n",
       "Andorra                      0           0  ...            77287.0   \n",
       "Angola                       0           0  ...         33032075.0   \n",
       "...                        ...         ...  ...                ...   \n",
       "Vietnam                      2           2  ...         97490013.0   \n",
       "West Bank and Gaza           0           0  ...                NaN   \n",
       "Yemen                        0           0  ...         29935468.0   \n",
       "Zambia                       0           0  ...         18468257.0   \n",
       "Zimbabwe                     0           0  ...         14899771.0   \n",
       "\n",
       "                    Yearly Change  Net Change  Density (P/Km²)  \\\n",
       "Country/Region                                                   \n",
       "Afghanistan                2.33 %    886592.0             60.0   \n",
       "Albania                   -0.11 %     -3120.0            105.0   \n",
       "Algeria                    1.85 %    797990.0             18.0   \n",
       "Andorra                    0.16 %       123.0            164.0   \n",
       "Angola                     3.27 %   1040977.0             26.0   \n",
       "...                           ...         ...              ...   \n",
       "Vietnam                    0.91 %    876473.0            314.0   \n",
       "West Bank and Gaza            NaN         NaN              NaN   \n",
       "Yemen                      2.28 %    664042.0             56.0   \n",
       "Zambia                     2.93 %    522925.0             25.0   \n",
       "Zimbabwe                   1.48 %    217456.0             38.0   \n",
       "\n",
       "                    Land Area (Km²)  Migrants (net)  Fert. Rate  Med. Age  \\\n",
       "Country/Region                                                              \n",
       "Afghanistan                652860.0        -62920.0         4.6        18   \n",
       "Albania                     27400.0        -14000.0         1.6        36   \n",
       "Algeria                   2381740.0        -10000.0         3.1        29   \n",
       "Andorra                       470.0             NaN        N.A.      N.A.   \n",
       "Angola                    1246700.0          6413.0         5.6        17   \n",
       "...                             ...             ...         ...       ...   \n",
       "Vietnam                    310070.0        -80000.0         2.1        32   \n",
       "West Bank and Gaza              NaN             NaN         NaN       NaN   \n",
       "Yemen                      527970.0        -30000.0         3.8        20   \n",
       "Zambia                     743390.0         -8000.0         4.7        18   \n",
       "Zimbabwe                   386850.0       -116858.0         3.6        19   \n",
       "\n",
       "                    Urban Pop %  World Share  \n",
       "Country/Region                                \n",
       "Afghanistan                25 %       0.50 %  \n",
       "Albania                    63 %       0.04 %  \n",
       "Algeria                    73 %       0.56 %  \n",
       "Andorra                    88 %       0.00 %  \n",
       "Angola                     67 %       0.42 %  \n",
       "...                         ...          ...  \n",
       "Vietnam                    38 %       1.25 %  \n",
       "West Bank and Gaza          NaN          NaN  \n",
       "Yemen                      38 %       0.38 %  \n",
       "Zambia                     45 %       0.24 %  \n",
       "Zimbabwe                   38 %       0.19 %  \n",
       "\n",
       "[192 rows x 470 columns]"
      ],
      "text/html": "<div>\n<style scoped>\n    .dataframe tbody tr th:only-of-type {\n        vertical-align: middle;\n    }\n\n    .dataframe tbody tr th {\n        vertical-align: top;\n    }\n\n    .dataframe thead th {\n        text-align: right;\n    }\n</style>\n<table border=\"1\" class=\"dataframe\">\n  <thead>\n    <tr style=\"text-align: right;\">\n      <th></th>\n      <th>2021-01-01</th>\n      <th>2021-01-10</th>\n      <th>2021-01-11</th>\n      <th>2021-01-12</th>\n      <th>2021-01-13</th>\n      <th>2021-01-14</th>\n      <th>2021-01-15</th>\n      <th>2021-01-16</th>\n      <th>2021-01-17</th>\n      <th>2021-01-18</th>\n      <th>...</th>\n      <th>Population (2020)</th>\n      <th>Yearly Change</th>\n      <th>Net Change</th>\n      <th>Density (P/Km²)</th>\n      <th>Land Area (Km²)</th>\n      <th>Migrants (net)</th>\n      <th>Fert. Rate</th>\n      <th>Med. Age</th>\n      <th>Urban Pop %</th>\n      <th>World Share</th>\n    </tr>\n    <tr>\n      <th>Country/Region</th>\n      <th></th>\n      <th></th>\n      <th></th>\n      <th></th>\n      <th></th>\n      <th></th>\n      <th></th>\n      <th></th>\n      <th></th>\n      <th></th>\n      <th></th>\n      <th></th>\n      <th></th>\n      <th></th>\n      <th></th>\n      <th></th>\n      <th></th>\n      <th></th>\n      <th></th>\n      <th></th>\n      <th></th>\n    </tr>\n  </thead>\n  <tbody>\n    <tr>\n      <th>Afghanistan</th>\n      <td>0</td>\n      <td>0</td>\n      <td>0</td>\n      <td>0</td>\n      <td>0</td>\n      <td>0</td>\n      <td>0</td>\n      <td>0</td>\n      <td>0</td>\n      <td>0</td>\n      <td>...</td>\n      <td>39074280.0</td>\n      <td>2.33 %</td>\n      <td>886592.0</td>\n      <td>60.0</td>\n      <td>652860.0</td>\n      <td>-62920.0</td>\n      <td>4.6</td>\n      <td>18</td>\n      <td>25 %</td>\n      <td>0.50 %</td>\n    </tr>\n    <tr>\n      <th>Albania</th>\n      <td>0</td>\n      <td>0</td>\n      <td>0</td>\n      <td>0</td>\n      <td>0</td>\n      <td>0</td>\n      <td>0</td>\n      <td>0</td>\n      <td>0</td>\n      <td>0</td>\n      <td>...</td>\n      <td>2877239.0</td>\n      <td>-0.11 %</td>\n      <td>-3120.0</td>\n      <td>105.0</td>\n      <td>27400.0</td>\n      <td>-14000.0</td>\n      <td>1.6</td>\n      <td>36</td>\n      <td>63 %</td>\n      <td>0.04 %</td>\n    </tr>\n    <tr>\n      <th>Algeria</th>\n      <td>0</td>\n      <td>0</td>\n      <td>0</td>\n      <td>0</td>\n      <td>0</td>\n      <td>0</td>\n      <td>0</td>\n      <td>0</td>\n      <td>0</td>\n      <td>0</td>\n      <td>...</td>\n      <td>43984569.0</td>\n      <td>1.85 %</td>\n      <td>797990.0</td>\n      <td>18.0</td>\n      <td>2381740.0</td>\n      <td>-10000.0</td>\n      <td>3.1</td>\n      <td>29</td>\n      <td>73 %</td>\n      <td>0.56 %</td>\n    </tr>\n    <tr>\n      <th>Andorra</th>\n      <td>0</td>\n      <td>0</td>\n      <td>0</td>\n      <td>0</td>\n      <td>0</td>\n      <td>0</td>\n      <td>0</td>\n      <td>0</td>\n      <td>0</td>\n      <td>0</td>\n      <td>...</td>\n      <td>77287.0</td>\n      <td>0.16 %</td>\n      <td>123.0</td>\n      <td>164.0</td>\n      <td>470.0</td>\n      <td>NaN</td>\n      <td>N.A.</td>\n      <td>N.A.</td>\n      <td>88 %</td>\n      <td>0.00 %</td>\n    </tr>\n    <tr>\n      <th>Angola</th>\n      <td>0</td>\n      <td>0</td>\n      <td>0</td>\n      <td>0</td>\n      <td>0</td>\n      <td>0</td>\n      <td>0</td>\n      <td>0</td>\n      <td>0</td>\n      <td>0</td>\n      <td>...</td>\n      <td>33032075.0</td>\n      <td>3.27 %</td>\n      <td>1040977.0</td>\n      <td>26.0</td>\n      <td>1246700.0</td>\n      <td>6413.0</td>\n      <td>5.6</td>\n      <td>17</td>\n      <td>67 %</td>\n      <td>0.42 %</td>\n    </tr>\n    <tr>\n      <th>...</th>\n      <td>...</td>\n      <td>...</td>\n      <td>...</td>\n      <td>...</td>\n      <td>...</td>\n      <td>...</td>\n      <td>...</td>\n      <td>...</td>\n      <td>...</td>\n      <td>...</td>\n      <td>...</td>\n      <td>...</td>\n      <td>...</td>\n      <td>...</td>\n      <td>...</td>\n      <td>...</td>\n      <td>...</td>\n      <td>...</td>\n      <td>...</td>\n      <td>...</td>\n      <td>...</td>\n    </tr>\n    <tr>\n      <th>Vietnam</th>\n      <td>0</td>\n      <td>2</td>\n      <td>2</td>\n      <td>2</td>\n      <td>2</td>\n      <td>2</td>\n      <td>2</td>\n      <td>2</td>\n      <td>2</td>\n      <td>2</td>\n      <td>...</td>\n      <td>97490013.0</td>\n      <td>0.91 %</td>\n      <td>876473.0</td>\n      <td>314.0</td>\n      <td>310070.0</td>\n      <td>-80000.0</td>\n      <td>2.1</td>\n      <td>32</td>\n      <td>38 %</td>\n      <td>1.25 %</td>\n    </tr>\n    <tr>\n      <th>West Bank and Gaza</th>\n      <td>0</td>\n      <td>0</td>\n      <td>0</td>\n      <td>0</td>\n      <td>0</td>\n      <td>0</td>\n      <td>0</td>\n      <td>0</td>\n      <td>0</td>\n      <td>0</td>\n      <td>...</td>\n      <td>NaN</td>\n      <td>NaN</td>\n      <td>NaN</td>\n      <td>NaN</td>\n      <td>NaN</td>\n      <td>NaN</td>\n      <td>NaN</td>\n      <td>NaN</td>\n      <td>NaN</td>\n      <td>NaN</td>\n    </tr>\n    <tr>\n      <th>Yemen</th>\n      <td>0</td>\n      <td>0</td>\n      <td>0</td>\n      <td>0</td>\n      <td>0</td>\n      <td>0</td>\n      <td>0</td>\n      <td>0</td>\n      <td>0</td>\n      <td>0</td>\n      <td>...</td>\n      <td>29935468.0</td>\n      <td>2.28 %</td>\n      <td>664042.0</td>\n      <td>56.0</td>\n      <td>527970.0</td>\n      <td>-30000.0</td>\n      <td>3.8</td>\n      <td>20</td>\n      <td>38 %</td>\n      <td>0.38 %</td>\n    </tr>\n    <tr>\n      <th>Zambia</th>\n      <td>0</td>\n      <td>0</td>\n      <td>0</td>\n      <td>0</td>\n      <td>0</td>\n      <td>0</td>\n      <td>0</td>\n      <td>0</td>\n      <td>0</td>\n      <td>0</td>\n      <td>...</td>\n      <td>18468257.0</td>\n      <td>2.93 %</td>\n      <td>522925.0</td>\n      <td>25.0</td>\n      <td>743390.0</td>\n      <td>-8000.0</td>\n      <td>4.7</td>\n      <td>18</td>\n      <td>45 %</td>\n      <td>0.24 %</td>\n    </tr>\n    <tr>\n      <th>Zimbabwe</th>\n      <td>0</td>\n      <td>0</td>\n      <td>0</td>\n      <td>0</td>\n      <td>0</td>\n      <td>0</td>\n      <td>0</td>\n      <td>0</td>\n      <td>0</td>\n      <td>0</td>\n      <td>...</td>\n      <td>14899771.0</td>\n      <td>1.48 %</td>\n      <td>217456.0</td>\n      <td>38.0</td>\n      <td>386850.0</td>\n      <td>-116858.0</td>\n      <td>3.6</td>\n      <td>19</td>\n      <td>38 %</td>\n      <td>0.19 %</td>\n    </tr>\n  </tbody>\n</table>\n<p>192 rows × 470 columns</p>\n</div>"
     },
     "metadata": {},
     "execution_count": 8
    }
   ],
   "source": [
    "df_population_merge = pd.merge(df_confirmados,df_population,on='Country/Region',how='left')\n",
    "df_population_merge"
   ]
  },
  {
   "cell_type": "markdown",
   "metadata": {},
   "source": [
    "Descartamos las filas del segundo dataframe que no coincidian con el nombre del país en el primer dataframe.\n"
   ]
  },
  {
   "cell_type": "markdown",
   "metadata": {},
   "source": [
    "## Pregunta 4"
   ]
  },
  {
   "cell_type": "code",
   "execution_count": 9,
   "metadata": {},
   "outputs": [],
   "source": [
    "df_recuperados = pd.read_csv('data/covid19_recuperados.csv', index_col = 'Country/Region')\n",
    "df_recuperados.drop(['Lat', 'Long'], axis=1, inplace=True)\n",
    "df_recuperados.columns = pd.to_datetime(df_recuperados.columns.difference(['Province/State'])).strftime('%Y-%m-%d').insert(0, 'Province/State')\n",
    "df_recuperados = df_recuperados.groupby('Country/Region').sum()\n"
   ]
  },
  {
   "cell_type": "code",
   "execution_count": 10,
   "metadata": {},
   "outputs": [
    {
     "output_type": "execute_result",
     "data": {
      "text/plain": [
       "                    2021-01-01_recuperados  2021-01-10_recuperados  \\\n",
       "Country/Region                                                       \n",
       "Afghanistan                              0                       0   \n",
       "Albania                                  0                       0   \n",
       "Algeria                                  0                       0   \n",
       "Andorra                                  0                       0   \n",
       "Angola                                   0                       0   \n",
       "...                                    ...                     ...   \n",
       "Vietnam                                  0                       0   \n",
       "West Bank and Gaza                       0                       0   \n",
       "Yemen                                    0                       0   \n",
       "Zambia                                   0                       0   \n",
       "Zimbabwe                                 0                       0   \n",
       "\n",
       "                    2021-01-11_recuperados  2021-01-12_recuperados  \\\n",
       "Country/Region                                                       \n",
       "Afghanistan                              0                       0   \n",
       "Albania                                  0                       0   \n",
       "Algeria                                  0                       0   \n",
       "Andorra                                  0                       0   \n",
       "Angola                                   0                       0   \n",
       "...                                    ...                     ...   \n",
       "Vietnam                                  0                       0   \n",
       "West Bank and Gaza                       0                       0   \n",
       "Yemen                                    0                       0   \n",
       "Zambia                                   0                       0   \n",
       "Zimbabwe                                 0                       0   \n",
       "\n",
       "                    2021-01-13_recuperados  2021-01-14_recuperados  \\\n",
       "Country/Region                                                       \n",
       "Afghanistan                              0                       0   \n",
       "Albania                                  0                       0   \n",
       "Algeria                                  0                       0   \n",
       "Andorra                                  0                       0   \n",
       "Angola                                   0                       0   \n",
       "...                                    ...                     ...   \n",
       "Vietnam                                  0                       0   \n",
       "West Bank and Gaza                       0                       0   \n",
       "Yemen                                    0                       0   \n",
       "Zambia                                   0                       0   \n",
       "Zimbabwe                                 0                       0   \n",
       "\n",
       "                    2021-01-15_recuperados  2021-01-16_recuperados  \\\n",
       "Country/Region                                                       \n",
       "Afghanistan                              0                       0   \n",
       "Albania                                  0                       0   \n",
       "Algeria                                  0                       0   \n",
       "Andorra                                  0                       0   \n",
       "Angola                                   0                       0   \n",
       "...                                    ...                     ...   \n",
       "Vietnam                                  0                       0   \n",
       "West Bank and Gaza                       0                       0   \n",
       "Yemen                                    0                       0   \n",
       "Zambia                                   0                       0   \n",
       "Zimbabwe                                 0                       0   \n",
       "\n",
       "                    2021-01-17_recuperados  2021-01-18_recuperados  ...  \\\n",
       "Country/Region                                                      ...   \n",
       "Afghanistan                              0                       0  ...   \n",
       "Albania                                  0                       0  ...   \n",
       "Algeria                                  0                       0  ...   \n",
       "Andorra                                  0                       0  ...   \n",
       "Angola                                   0                       0  ...   \n",
       "...                                    ...                     ...  ...   \n",
       "Vietnam                                  0                       0  ...   \n",
       "West Bank and Gaza                       0                       0  ...   \n",
       "Yemen                                    0                       0  ...   \n",
       "Zambia                                   0                       0  ...   \n",
       "Zimbabwe                                 0                       0  ...   \n",
       "\n",
       "                    2020-09-28_muertes  2020-09-29_muertes  \\\n",
       "Country/Region                                               \n",
       "Afghanistan                       2535                2539   \n",
       "Albania                           2337                2340   \n",
       "Algeria                           3148                3152   \n",
       "Andorra                            123                 123   \n",
       "Angola                             560                 561   \n",
       "...                                ...                 ...   \n",
       "Vietnam                             35                  35   \n",
       "West Bank and Gaza                2955                2983   \n",
       "Yemen                             1108                1119   \n",
       "Zambia                            1233                1234   \n",
       "Zimbabwe                          1551                1552   \n",
       "\n",
       "                    2020-09-03_muertes  2020-09-30_muertes  \\\n",
       "Country/Region                                               \n",
       "Afghanistan                       2539                2546   \n",
       "Albania                           2342                2347   \n",
       "Algeria                           3155                3160   \n",
       "Andorra                            123                 123   \n",
       "Angola                             561                 563   \n",
       "...                                ...                 ...   \n",
       "Vietnam                             35                  35   \n",
       "West Bank and Gaza                3017                3047   \n",
       "Yemen                             1126                1132   \n",
       "Zambia                            1235                1236   \n",
       "Zimbabwe                          1553                1553   \n",
       "\n",
       "                    2020-09-04_muertes  2020-09-05_muertes  \\\n",
       "Country/Region                                               \n",
       "Afghanistan                       2549                2557   \n",
       "Albania                           2353                2358   \n",
       "Algeria                           3165                3172   \n",
       "Andorra                            123                 123   \n",
       "Angola                             565                 570   \n",
       "...                                ...                 ...   \n",
       "Vietnam                             35                  35   \n",
       "West Bank and Gaza                3078                3096   \n",
       "Yemen                             1138                1147   \n",
       "Zambia                            1236                1238   \n",
       "Zimbabwe                          1554                1555   \n",
       "\n",
       "                    2020-09-06_muertes  2020-09-07_muertes  \\\n",
       "Country/Region                                               \n",
       "Afghanistan                       2561                2565   \n",
       "Albania                           2364                2367   \n",
       "Algeria                           3181                3190   \n",
       "Andorra                            123                 123   \n",
       "Angola                             572                 574   \n",
       "...                                ...                 ...   \n",
       "Vietnam                             35                  35   \n",
       "West Bank and Gaza                3115                3138   \n",
       "Yemen                             1157                1165   \n",
       "Zambia                            1240                1245   \n",
       "Zimbabwe                          1555                1556   \n",
       "\n",
       "                    2020-09-08_muertes  2020-09-09_muertes  \n",
       "Country/Region                                              \n",
       "Afghanistan                       2572                2582  \n",
       "Albania                           2372                2378  \n",
       "Algeria                           3198                3207  \n",
       "Andorra                            124                 124  \n",
       "Angola                             577                 579  \n",
       "...                                ...                 ...  \n",
       "Vietnam                             35                  35  \n",
       "West Bank and Gaza                3151                3167  \n",
       "Yemen                             1175                1187  \n",
       "Zambia                            1245                1246  \n",
       "Zimbabwe                          1556                1557  \n",
       "\n",
       "[192 rows x 920 columns]"
      ],
      "text/html": "<div>\n<style scoped>\n    .dataframe tbody tr th:only-of-type {\n        vertical-align: middle;\n    }\n\n    .dataframe tbody tr th {\n        vertical-align: top;\n    }\n\n    .dataframe thead th {\n        text-align: right;\n    }\n</style>\n<table border=\"1\" class=\"dataframe\">\n  <thead>\n    <tr style=\"text-align: right;\">\n      <th></th>\n      <th>2021-01-01_recuperados</th>\n      <th>2021-01-10_recuperados</th>\n      <th>2021-01-11_recuperados</th>\n      <th>2021-01-12_recuperados</th>\n      <th>2021-01-13_recuperados</th>\n      <th>2021-01-14_recuperados</th>\n      <th>2021-01-15_recuperados</th>\n      <th>2021-01-16_recuperados</th>\n      <th>2021-01-17_recuperados</th>\n      <th>2021-01-18_recuperados</th>\n      <th>...</th>\n      <th>2020-09-28_muertes</th>\n      <th>2020-09-29_muertes</th>\n      <th>2020-09-03_muertes</th>\n      <th>2020-09-30_muertes</th>\n      <th>2020-09-04_muertes</th>\n      <th>2020-09-05_muertes</th>\n      <th>2020-09-06_muertes</th>\n      <th>2020-09-07_muertes</th>\n      <th>2020-09-08_muertes</th>\n      <th>2020-09-09_muertes</th>\n    </tr>\n    <tr>\n      <th>Country/Region</th>\n      <th></th>\n      <th></th>\n      <th></th>\n      <th></th>\n      <th></th>\n      <th></th>\n      <th></th>\n      <th></th>\n      <th></th>\n      <th></th>\n      <th></th>\n      <th></th>\n      <th></th>\n      <th></th>\n      <th></th>\n      <th></th>\n      <th></th>\n      <th></th>\n      <th></th>\n      <th></th>\n      <th></th>\n    </tr>\n  </thead>\n  <tbody>\n    <tr>\n      <th>Afghanistan</th>\n      <td>0</td>\n      <td>0</td>\n      <td>0</td>\n      <td>0</td>\n      <td>0</td>\n      <td>0</td>\n      <td>0</td>\n      <td>0</td>\n      <td>0</td>\n      <td>0</td>\n      <td>...</td>\n      <td>2535</td>\n      <td>2539</td>\n      <td>2539</td>\n      <td>2546</td>\n      <td>2549</td>\n      <td>2557</td>\n      <td>2561</td>\n      <td>2565</td>\n      <td>2572</td>\n      <td>2582</td>\n    </tr>\n    <tr>\n      <th>Albania</th>\n      <td>0</td>\n      <td>0</td>\n      <td>0</td>\n      <td>0</td>\n      <td>0</td>\n      <td>0</td>\n      <td>0</td>\n      <td>0</td>\n      <td>0</td>\n      <td>0</td>\n      <td>...</td>\n      <td>2337</td>\n      <td>2340</td>\n      <td>2342</td>\n      <td>2347</td>\n      <td>2353</td>\n      <td>2358</td>\n      <td>2364</td>\n      <td>2367</td>\n      <td>2372</td>\n      <td>2378</td>\n    </tr>\n    <tr>\n      <th>Algeria</th>\n      <td>0</td>\n      <td>0</td>\n      <td>0</td>\n      <td>0</td>\n      <td>0</td>\n      <td>0</td>\n      <td>0</td>\n      <td>0</td>\n      <td>0</td>\n      <td>0</td>\n      <td>...</td>\n      <td>3148</td>\n      <td>3152</td>\n      <td>3155</td>\n      <td>3160</td>\n      <td>3165</td>\n      <td>3172</td>\n      <td>3181</td>\n      <td>3190</td>\n      <td>3198</td>\n      <td>3207</td>\n    </tr>\n    <tr>\n      <th>Andorra</th>\n      <td>0</td>\n      <td>0</td>\n      <td>0</td>\n      <td>0</td>\n      <td>0</td>\n      <td>0</td>\n      <td>0</td>\n      <td>0</td>\n      <td>0</td>\n      <td>0</td>\n      <td>...</td>\n      <td>123</td>\n      <td>123</td>\n      <td>123</td>\n      <td>123</td>\n      <td>123</td>\n      <td>123</td>\n      <td>123</td>\n      <td>123</td>\n      <td>124</td>\n      <td>124</td>\n    </tr>\n    <tr>\n      <th>Angola</th>\n      <td>0</td>\n      <td>0</td>\n      <td>0</td>\n      <td>0</td>\n      <td>0</td>\n      <td>0</td>\n      <td>0</td>\n      <td>0</td>\n      <td>0</td>\n      <td>0</td>\n      <td>...</td>\n      <td>560</td>\n      <td>561</td>\n      <td>561</td>\n      <td>563</td>\n      <td>565</td>\n      <td>570</td>\n      <td>572</td>\n      <td>574</td>\n      <td>577</td>\n      <td>579</td>\n    </tr>\n    <tr>\n      <th>...</th>\n      <td>...</td>\n      <td>...</td>\n      <td>...</td>\n      <td>...</td>\n      <td>...</td>\n      <td>...</td>\n      <td>...</td>\n      <td>...</td>\n      <td>...</td>\n      <td>...</td>\n      <td>...</td>\n      <td>...</td>\n      <td>...</td>\n      <td>...</td>\n      <td>...</td>\n      <td>...</td>\n      <td>...</td>\n      <td>...</td>\n      <td>...</td>\n      <td>...</td>\n      <td>...</td>\n    </tr>\n    <tr>\n      <th>Vietnam</th>\n      <td>0</td>\n      <td>0</td>\n      <td>0</td>\n      <td>0</td>\n      <td>0</td>\n      <td>0</td>\n      <td>0</td>\n      <td>0</td>\n      <td>0</td>\n      <td>0</td>\n      <td>...</td>\n      <td>35</td>\n      <td>35</td>\n      <td>35</td>\n      <td>35</td>\n      <td>35</td>\n      <td>35</td>\n      <td>35</td>\n      <td>35</td>\n      <td>35</td>\n      <td>35</td>\n    </tr>\n    <tr>\n      <th>West Bank and Gaza</th>\n      <td>0</td>\n      <td>0</td>\n      <td>0</td>\n      <td>0</td>\n      <td>0</td>\n      <td>0</td>\n      <td>0</td>\n      <td>0</td>\n      <td>0</td>\n      <td>0</td>\n      <td>...</td>\n      <td>2955</td>\n      <td>2983</td>\n      <td>3017</td>\n      <td>3047</td>\n      <td>3078</td>\n      <td>3096</td>\n      <td>3115</td>\n      <td>3138</td>\n      <td>3151</td>\n      <td>3167</td>\n    </tr>\n    <tr>\n      <th>Yemen</th>\n      <td>0</td>\n      <td>0</td>\n      <td>0</td>\n      <td>0</td>\n      <td>0</td>\n      <td>0</td>\n      <td>0</td>\n      <td>0</td>\n      <td>0</td>\n      <td>0</td>\n      <td>...</td>\n      <td>1108</td>\n      <td>1119</td>\n      <td>1126</td>\n      <td>1132</td>\n      <td>1138</td>\n      <td>1147</td>\n      <td>1157</td>\n      <td>1165</td>\n      <td>1175</td>\n      <td>1187</td>\n    </tr>\n    <tr>\n      <th>Zambia</th>\n      <td>0</td>\n      <td>0</td>\n      <td>0</td>\n      <td>0</td>\n      <td>0</td>\n      <td>0</td>\n      <td>0</td>\n      <td>0</td>\n      <td>0</td>\n      <td>0</td>\n      <td>...</td>\n      <td>1233</td>\n      <td>1234</td>\n      <td>1235</td>\n      <td>1236</td>\n      <td>1236</td>\n      <td>1238</td>\n      <td>1240</td>\n      <td>1245</td>\n      <td>1245</td>\n      <td>1246</td>\n    </tr>\n    <tr>\n      <th>Zimbabwe</th>\n      <td>0</td>\n      <td>0</td>\n      <td>0</td>\n      <td>0</td>\n      <td>0</td>\n      <td>0</td>\n      <td>0</td>\n      <td>0</td>\n      <td>0</td>\n      <td>0</td>\n      <td>...</td>\n      <td>1551</td>\n      <td>1552</td>\n      <td>1553</td>\n      <td>1553</td>\n      <td>1554</td>\n      <td>1555</td>\n      <td>1555</td>\n      <td>1556</td>\n      <td>1556</td>\n      <td>1557</td>\n    </tr>\n  </tbody>\n</table>\n<p>192 rows × 920 columns</p>\n</div>"
     },
     "metadata": {},
     "execution_count": 10
    }
   ],
   "source": [
    "df_muertes = pd.read_csv('data/covid19_decesos.csv', index_col = 'Country/Region')\n",
    "df_muertes.drop(['Lat', 'Long'], axis=1, inplace=True)\n",
    "df_muertes.columns = pd.to_datetime(df_muertes.columns.difference(['Province/State'])).strftime('%Y-%m-%d').insert(0, 'Province/State')\n",
    "df_muertes = df_muertes.groupby('Country/Region').sum()\n",
    "\n",
    "\n",
    "df_muertes_merge = pd.merge(df_recuperados,df_muertes, on='Country/Region',how='left', suffixes=('_recuperados','_muertes'))\n",
    "df_muertes_merge\n"
   ]
  },
  {
   "cell_type": "markdown",
   "metadata": {},
   "source": [
    "### Análisis global (1.5pt)\n",
    "\n",
    "1. Obtenga la cantidad total  a la fecha (26 de Abril) de los casos (a) confirmados, (b) cerrados (recuperados más decesos) y (c) activos (confirmados menos cerrados) por país. En base a estas cantidades calcule el porcentaje de \n",
    "    1. casos activos con respecto al total de confirmados\n",
    "    1. decesos con respecto al total de casos cerrados\n",
    "    1. recuperados con respecto al total de casos cerrados\n",
    "1. Luego calcule las siguientes tasas en base a información a la fecha\n",
    "    1. Tasa de incidencia: confirmados por 100.000 dividido población total\n",
    "    1. Tasa de recuperación: recuperados por 100.000 dividido población total\n",
    "    1. Tasa de mortalidad: decesos por 100.000 dividido población total\n",
    "1. En base a lo anterior muestre los nombres y los valores de los 5 países con\n",
    "    1. La mayor y menor tasa de incidencia, respectivamente\n",
    "    1. La mayor y menor tasa de recuperación, respectivamente\n",
    "    1. La mayor y menor tasa de mortalidad, respectivamente\n",
    "1. Responda, analice y discuta: ¿En qué lugar/ranking se encuentra Chile con respecto a cada una de las métricas de los puntos anteriores? ¿A qué países de la [OCDE](https://es.wikipedia.org/wiki/Organizaci%C3%B3n_para_la_Cooperaci%C3%B3n_y_el_Desarrollo_Econ%C3%B3micos) se parece más? ¿A qué paises de latinoamérica se parece más? "
   ]
  },
  {
   "cell_type": "markdown",
   "metadata": {},
   "source": [
    "## 1 "
   ]
  },
  {
   "cell_type": "code",
   "execution_count": 11,
   "metadata": {},
   "outputs": [],
   "source": [
    "total_confirmados = df_confirmados['2021-04-25']\n",
    "total_recuperados = df_muertes_merge['2021-04-25_recuperados']\n",
    "total_muertes = df_muertes_merge['2021-04-25_muertes']\n",
    "\n",
    "total_cerrados =  (total_muertes+total_recuperados)\n",
    "total_activos =  (total_confirmados-total_cerrados)\n"
   ]
  },
  {
   "cell_type": "markdown",
   "metadata": {},
   "source": [
    "### A .casos activos con respecto al total de confirmados"
   ]
  },
  {
   "cell_type": "code",
   "execution_count": 12,
   "metadata": {},
   "outputs": [],
   "source": [
    "porcentajes_activo_confirmado = (100*total_activos)/total_confirmados "
   ]
  },
  {
   "source": [
    "### B Decesos con respecto al total de casos cerrados"
   ],
   "cell_type": "markdown",
   "metadata": {}
  },
  {
   "cell_type": "code",
   "execution_count": 13,
   "metadata": {},
   "outputs": [],
   "source": [
    "porcentajes_decesos_cerrados = (100*total_muertes)/total_cerrados "
   ]
  },
  {
   "source": [
    "### C Recuperados con respecto al total de casos cerrados"
   ],
   "cell_type": "markdown",
   "metadata": {}
  },
  {
   "cell_type": "code",
   "execution_count": 14,
   "metadata": {},
   "outputs": [],
   "source": [
    "porcentajes_recuperados_cerrados = (100*total_recuperados)/total_cerrados "
   ]
  },
  {
   "cell_type": "code",
   "execution_count": 15,
   "metadata": {},
   "outputs": [
    {
     "output_type": "execute_result",
     "data": {
      "text/plain": [
       "                    Confirmados  Cerrados  Activos  \\\n",
       "Country/Region                                       \n",
       "Afghanistan               41814     35913     5901   \n",
       "Albania                   22300     12114    10186   \n",
       "Algeria                   59527     43000    16527   \n",
       "Andorra                    5045      3809     1236   \n",
       "Angola                    11813      5562     6251   \n",
       "...                         ...       ...      ...   \n",
       "Vietnam                    1203      1104       99   \n",
       "West Bank and Gaza        56090     48728     7362   \n",
       "Yemen                      2063      1976       87   \n",
       "Zambia                    16698     16168      530   \n",
       "Zimbabwe                   8427      8215      212   \n",
       "\n",
       "                    porcentaje Activos/Confirmado  \\\n",
       "Country/Region                                      \n",
       "Afghanistan                             14.112498   \n",
       "Albania                                 45.677130   \n",
       "Algeria                                 27.763872   \n",
       "Andorra                                 24.499504   \n",
       "Angola                                  52.916279   \n",
       "...                                           ...   \n",
       "Vietnam                                  8.229426   \n",
       "West Bank and Gaza                      13.125334   \n",
       "Yemen                                    4.217159   \n",
       "Zambia                                   3.174033   \n",
       "Zimbabwe                                 2.515723   \n",
       "\n",
       "                    porcentaje Decesos/Cerrados  \\\n",
       "Country/Region                                    \n",
       "Afghanistan                            4.318770   \n",
       "Albania                                4.424633   \n",
       "Algeria                                4.648837   \n",
       "Andorra                                1.969021   \n",
       "Angola                                 5.321827   \n",
       "...                                         ...   \n",
       "Vietnam                                3.170290   \n",
       "West Bank and Gaza                     1.034313   \n",
       "Yemen                                 30.414980   \n",
       "Zambia                                 2.158585   \n",
       "Zimbabwe                               3.018868   \n",
       "\n",
       "                    porcentaje Recuperados/Cerrados  \n",
       "Country/Region                                       \n",
       "Afghanistan                               95.681230  \n",
       "Albania                                   95.575367  \n",
       "Algeria                                   95.351163  \n",
       "Andorra                                   98.030979  \n",
       "Angola                                    94.678173  \n",
       "...                                             ...  \n",
       "Vietnam                                   96.829710  \n",
       "West Bank and Gaza                        98.965687  \n",
       "Yemen                                     69.585020  \n",
       "Zambia                                    97.841415  \n",
       "Zimbabwe                                  96.981132  \n",
       "\n",
       "[192 rows x 6 columns]"
      ],
      "text/html": "<div>\n<style scoped>\n    .dataframe tbody tr th:only-of-type {\n        vertical-align: middle;\n    }\n\n    .dataframe tbody tr th {\n        vertical-align: top;\n    }\n\n    .dataframe thead th {\n        text-align: right;\n    }\n</style>\n<table border=\"1\" class=\"dataframe\">\n  <thead>\n    <tr style=\"text-align: right;\">\n      <th></th>\n      <th>Confirmados</th>\n      <th>Cerrados</th>\n      <th>Activos</th>\n      <th>porcentaje Activos/Confirmado</th>\n      <th>porcentaje Decesos/Cerrados</th>\n      <th>porcentaje Recuperados/Cerrados</th>\n    </tr>\n    <tr>\n      <th>Country/Region</th>\n      <th></th>\n      <th></th>\n      <th></th>\n      <th></th>\n      <th></th>\n      <th></th>\n    </tr>\n  </thead>\n  <tbody>\n    <tr>\n      <th>Afghanistan</th>\n      <td>41814</td>\n      <td>35913</td>\n      <td>5901</td>\n      <td>14.112498</td>\n      <td>4.318770</td>\n      <td>95.681230</td>\n    </tr>\n    <tr>\n      <th>Albania</th>\n      <td>22300</td>\n      <td>12114</td>\n      <td>10186</td>\n      <td>45.677130</td>\n      <td>4.424633</td>\n      <td>95.575367</td>\n    </tr>\n    <tr>\n      <th>Algeria</th>\n      <td>59527</td>\n      <td>43000</td>\n      <td>16527</td>\n      <td>27.763872</td>\n      <td>4.648837</td>\n      <td>95.351163</td>\n    </tr>\n    <tr>\n      <th>Andorra</th>\n      <td>5045</td>\n      <td>3809</td>\n      <td>1236</td>\n      <td>24.499504</td>\n      <td>1.969021</td>\n      <td>98.030979</td>\n    </tr>\n    <tr>\n      <th>Angola</th>\n      <td>11813</td>\n      <td>5562</td>\n      <td>6251</td>\n      <td>52.916279</td>\n      <td>5.321827</td>\n      <td>94.678173</td>\n    </tr>\n    <tr>\n      <th>...</th>\n      <td>...</td>\n      <td>...</td>\n      <td>...</td>\n      <td>...</td>\n      <td>...</td>\n      <td>...</td>\n    </tr>\n    <tr>\n      <th>Vietnam</th>\n      <td>1203</td>\n      <td>1104</td>\n      <td>99</td>\n      <td>8.229426</td>\n      <td>3.170290</td>\n      <td>96.829710</td>\n    </tr>\n    <tr>\n      <th>West Bank and Gaza</th>\n      <td>56090</td>\n      <td>48728</td>\n      <td>7362</td>\n      <td>13.125334</td>\n      <td>1.034313</td>\n      <td>98.965687</td>\n    </tr>\n    <tr>\n      <th>Yemen</th>\n      <td>2063</td>\n      <td>1976</td>\n      <td>87</td>\n      <td>4.217159</td>\n      <td>30.414980</td>\n      <td>69.585020</td>\n    </tr>\n    <tr>\n      <th>Zambia</th>\n      <td>16698</td>\n      <td>16168</td>\n      <td>530</td>\n      <td>3.174033</td>\n      <td>2.158585</td>\n      <td>97.841415</td>\n    </tr>\n    <tr>\n      <th>Zimbabwe</th>\n      <td>8427</td>\n      <td>8215</td>\n      <td>212</td>\n      <td>2.515723</td>\n      <td>3.018868</td>\n      <td>96.981132</td>\n    </tr>\n  </tbody>\n</table>\n<p>192 rows × 6 columns</p>\n</div>"
     },
     "metadata": {},
     "execution_count": 15
    }
   ],
   "source": [
    "data_df = pd.DataFrame(data={\n",
    "    'Confirmados':total_confirmados, \n",
    "    'Cerrados':total_cerrados,\n",
    "    'Activos':total_activos,\n",
    "    'porcentaje Activos/Confirmado':porcentajes_activo_confirmado,\n",
    "    'porcentaje Decesos/Cerrados':porcentajes_decesos_cerrados,\n",
    "    'porcentaje Recuperados/Cerrados':porcentajes_recuperados_cerrados},\n",
    "    index=df_confirmados.index)\n",
    "data_df"
   ]
  },
  {
   "source": [
    "## 2"
   ],
   "cell_type": "markdown",
   "metadata": {}
  },
  {
   "source": [
    "#### A Tasa de incidencia: confirmados por 100.000 dividido población total"
   ],
   "cell_type": "markdown",
   "metadata": {}
  },
  {
   "cell_type": "code",
   "execution_count": 16,
   "metadata": {},
   "outputs": [],
   "source": [
    "incidencia = (total_confirmados*100000)/df_population_merge['Population (2020)']"
   ]
  },
  {
   "source": [
    "### B Tasa de recuperación: recuperados por 100.000 dividido población total"
   ],
   "cell_type": "markdown",
   "metadata": {}
  },
  {
   "cell_type": "code",
   "execution_count": 17,
   "metadata": {},
   "outputs": [],
   "source": [
    "recuperacion = (total_recuperados*100000)/df_population_merge['Population (2020)']"
   ]
  },
  {
   "source": [
    "### C Tasa de mortalidad: decesos por 100.000 dividido población total"
   ],
   "cell_type": "markdown",
   "metadata": {}
  },
  {
   "cell_type": "code",
   "execution_count": 18,
   "metadata": {},
   "outputs": [],
   "source": [
    "mortalidad = (total_muertes*100000)/df_population_merge['Population (2020)']"
   ]
  },
  {
   "cell_type": "code",
   "execution_count": 19,
   "metadata": {},
   "outputs": [
    {
     "output_type": "execute_result",
     "data": {
      "text/plain": [
       "                     Incidencia  Recuperacion  Mortalidad\n",
       "Country/Region                                           \n",
       "Afghanistan          107.011569     87.940200    3.969363\n",
       "Albania              775.048580    402.399662   18.628970\n",
       "Algeria              135.336099     93.216782    4.544776\n",
       "Andorra             6527.617840   4831.342917   97.040900\n",
       "Angola                35.762210     15.942081    0.896099\n",
       "...                         ...           ...         ...\n",
       "Vietnam                1.233973      1.096523    0.035901\n",
       "West Bank and Gaza          NaN           NaN         NaN\n",
       "Yemen                  6.891491      4.593214    2.007652\n",
       "Zambia                90.414596     85.655078    1.889729\n",
       "Zimbabwe              56.557916     53.470620    1.664455\n",
       "\n",
       "[192 rows x 3 columns]"
      ],
      "text/html": "<div>\n<style scoped>\n    .dataframe tbody tr th:only-of-type {\n        vertical-align: middle;\n    }\n\n    .dataframe tbody tr th {\n        vertical-align: top;\n    }\n\n    .dataframe thead th {\n        text-align: right;\n    }\n</style>\n<table border=\"1\" class=\"dataframe\">\n  <thead>\n    <tr style=\"text-align: right;\">\n      <th></th>\n      <th>Incidencia</th>\n      <th>Recuperacion</th>\n      <th>Mortalidad</th>\n    </tr>\n    <tr>\n      <th>Country/Region</th>\n      <th></th>\n      <th></th>\n      <th></th>\n    </tr>\n  </thead>\n  <tbody>\n    <tr>\n      <th>Afghanistan</th>\n      <td>107.011569</td>\n      <td>87.940200</td>\n      <td>3.969363</td>\n    </tr>\n    <tr>\n      <th>Albania</th>\n      <td>775.048580</td>\n      <td>402.399662</td>\n      <td>18.628970</td>\n    </tr>\n    <tr>\n      <th>Algeria</th>\n      <td>135.336099</td>\n      <td>93.216782</td>\n      <td>4.544776</td>\n    </tr>\n    <tr>\n      <th>Andorra</th>\n      <td>6527.617840</td>\n      <td>4831.342917</td>\n      <td>97.040900</td>\n    </tr>\n    <tr>\n      <th>Angola</th>\n      <td>35.762210</td>\n      <td>15.942081</td>\n      <td>0.896099</td>\n    </tr>\n    <tr>\n      <th>...</th>\n      <td>...</td>\n      <td>...</td>\n      <td>...</td>\n    </tr>\n    <tr>\n      <th>Vietnam</th>\n      <td>1.233973</td>\n      <td>1.096523</td>\n      <td>0.035901</td>\n    </tr>\n    <tr>\n      <th>West Bank and Gaza</th>\n      <td>NaN</td>\n      <td>NaN</td>\n      <td>NaN</td>\n    </tr>\n    <tr>\n      <th>Yemen</th>\n      <td>6.891491</td>\n      <td>4.593214</td>\n      <td>2.007652</td>\n    </tr>\n    <tr>\n      <th>Zambia</th>\n      <td>90.414596</td>\n      <td>85.655078</td>\n      <td>1.889729</td>\n    </tr>\n    <tr>\n      <th>Zimbabwe</th>\n      <td>56.557916</td>\n      <td>53.470620</td>\n      <td>1.664455</td>\n    </tr>\n  </tbody>\n</table>\n<p>192 rows × 3 columns</p>\n</div>"
     },
     "metadata": {},
     "execution_count": 19
    }
   ],
   "source": [
    "data_2_df = pd.DataFrame(data={\n",
    "    'Incidencia':incidencia, \n",
    "    'Recuperacion':recuperacion,\n",
    "    'Mortalidad':mortalidad\n",
    "    },index=df_confirmados.index)\n",
    "data_2_df"
   ]
  },
  {
   "source": [
    "## 3"
   ],
   "cell_type": "markdown",
   "metadata": {}
  },
  {
   "source": [
    "### A La mayor y menor tasa de incidencia, respectivamente\n"
   ],
   "cell_type": "markdown",
   "metadata": {}
  },
  {
   "cell_type": "code",
   "execution_count": 20,
   "metadata": {},
   "outputs": [
    {
     "output_type": "display_data",
     "data": {
      "text/plain": "                 Incidencia  Recuperacion  Mortalidad\nCountry/Region                                       \nAndorra         6527.617840   4831.342917   97.040900\nBahrain         4828.828029   4671.323048   19.110994\nQatar           4616.022516   4513.713432    8.029671\nBelgium         4036.858025    235.669401  106.315921\nIsrael          3657.422115   3499.722360   30.408421",
      "text/html": "<div>\n<style scoped>\n    .dataframe tbody tr th:only-of-type {\n        vertical-align: middle;\n    }\n\n    .dataframe tbody tr th {\n        vertical-align: top;\n    }\n\n    .dataframe thead th {\n        text-align: right;\n    }\n</style>\n<table border=\"1\" class=\"dataframe\">\n  <thead>\n    <tr style=\"text-align: right;\">\n      <th></th>\n      <th>Incidencia</th>\n      <th>Recuperacion</th>\n      <th>Mortalidad</th>\n    </tr>\n    <tr>\n      <th>Country/Region</th>\n      <th></th>\n      <th></th>\n      <th></th>\n    </tr>\n  </thead>\n  <tbody>\n    <tr>\n      <th>Andorra</th>\n      <td>6527.617840</td>\n      <td>4831.342917</td>\n      <td>97.040900</td>\n    </tr>\n    <tr>\n      <th>Bahrain</th>\n      <td>4828.828029</td>\n      <td>4671.323048</td>\n      <td>19.110994</td>\n    </tr>\n    <tr>\n      <th>Qatar</th>\n      <td>4616.022516</td>\n      <td>4513.713432</td>\n      <td>8.029671</td>\n    </tr>\n    <tr>\n      <th>Belgium</th>\n      <td>4036.858025</td>\n      <td>235.669401</td>\n      <td>106.315921</td>\n    </tr>\n    <tr>\n      <th>Israel</th>\n      <td>3657.422115</td>\n      <td>3499.722360</td>\n      <td>30.408421</td>\n    </tr>\n  </tbody>\n</table>\n</div>"
     },
     "metadata": {}
    },
    {
     "output_type": "display_data",
     "data": {
      "text/plain": "                Incidencia  Recuperacion  Mortalidad\nCountry/Region                                      \nMicronesia        0.000000      0.000000    0.000000\nSamoa             0.000000      0.000000    0.000000\nVanuatu           0.000000      0.000000    0.000000\nLaos              0.329058      0.315347    0.000000\nTanzania          0.848158      0.304937    0.034993",
      "text/html": "<div>\n<style scoped>\n    .dataframe tbody tr th:only-of-type {\n        vertical-align: middle;\n    }\n\n    .dataframe tbody tr th {\n        vertical-align: top;\n    }\n\n    .dataframe thead th {\n        text-align: right;\n    }\n</style>\n<table border=\"1\" class=\"dataframe\">\n  <thead>\n    <tr style=\"text-align: right;\">\n      <th></th>\n      <th>Incidencia</th>\n      <th>Recuperacion</th>\n      <th>Mortalidad</th>\n    </tr>\n    <tr>\n      <th>Country/Region</th>\n      <th></th>\n      <th></th>\n      <th></th>\n    </tr>\n  </thead>\n  <tbody>\n    <tr>\n      <th>Micronesia</th>\n      <td>0.000000</td>\n      <td>0.000000</td>\n      <td>0.000000</td>\n    </tr>\n    <tr>\n      <th>Samoa</th>\n      <td>0.000000</td>\n      <td>0.000000</td>\n      <td>0.000000</td>\n    </tr>\n    <tr>\n      <th>Vanuatu</th>\n      <td>0.000000</td>\n      <td>0.000000</td>\n      <td>0.000000</td>\n    </tr>\n    <tr>\n      <th>Laos</th>\n      <td>0.329058</td>\n      <td>0.315347</td>\n      <td>0.000000</td>\n    </tr>\n    <tr>\n      <th>Tanzania</th>\n      <td>0.848158</td>\n      <td>0.304937</td>\n      <td>0.034993</td>\n    </tr>\n  </tbody>\n</table>\n</div>"
     },
     "metadata": {}
    }
   ],
   "source": [
    "display(data_2_df.nlargest(5, 'Incidencia'), data_2_df.nsmallest(5, 'Incidencia'))"
   ]
  },
  {
   "source": [
    "### B La mayor y menor tasa de recuperación, respectivamente"
   ],
   "cell_type": "markdown",
   "metadata": {}
  },
  {
   "cell_type": "code",
   "execution_count": 21,
   "metadata": {},
   "outputs": [
    {
     "output_type": "display_data",
     "data": {
      "text/plain": "                 Incidencia  Recuperacion  Mortalidad\nCountry/Region                                       \nAndorra         6527.617840   4831.342917   97.040900\nBahrain         4828.828029   4671.323048   19.110994\nQatar           4616.022516   4513.713432    8.029671\nIsrael          3657.422115   3499.722360   30.408421\nKuwait          3009.422328   2796.847701   18.545682",
      "text/html": "<div>\n<style scoped>\n    .dataframe tbody tr th:only-of-type {\n        vertical-align: middle;\n    }\n\n    .dataframe tbody tr th {\n        vertical-align: top;\n    }\n\n    .dataframe thead th {\n        text-align: right;\n    }\n</style>\n<table border=\"1\" class=\"dataframe\">\n  <thead>\n    <tr style=\"text-align: right;\">\n      <th></th>\n      <th>Incidencia</th>\n      <th>Recuperacion</th>\n      <th>Mortalidad</th>\n    </tr>\n    <tr>\n      <th>Country/Region</th>\n      <th></th>\n      <th></th>\n      <th></th>\n    </tr>\n  </thead>\n  <tbody>\n    <tr>\n      <th>Andorra</th>\n      <td>6527.617840</td>\n      <td>4831.342917</td>\n      <td>97.040900</td>\n    </tr>\n    <tr>\n      <th>Bahrain</th>\n      <td>4828.828029</td>\n      <td>4671.323048</td>\n      <td>19.110994</td>\n    </tr>\n    <tr>\n      <th>Qatar</th>\n      <td>4616.022516</td>\n      <td>4513.713432</td>\n      <td>8.029671</td>\n    </tr>\n    <tr>\n      <th>Israel</th>\n      <td>3657.422115</td>\n      <td>3499.722360</td>\n      <td>30.408421</td>\n    </tr>\n    <tr>\n      <th>Kuwait</th>\n      <td>3009.422328</td>\n      <td>2796.847701</td>\n      <td>18.545682</td>\n    </tr>\n  </tbody>\n</table>\n</div>"
     },
     "metadata": {}
    },
    {
     "output_type": "display_data",
     "data": {
      "text/plain": "                   Incidencia  Recuperacion  Mortalidad\nCountry/Region                                         \nMarshall Islands     3.375015           0.0    0.000000\nMicronesia           0.000000           0.0    0.000000\nSamoa                0.000000           0.0    0.000000\nSerbia             612.696183           0.0    9.735335\nSweden            1362.283144           0.0   59.316140",
      "text/html": "<div>\n<style scoped>\n    .dataframe tbody tr th:only-of-type {\n        vertical-align: middle;\n    }\n\n    .dataframe tbody tr th {\n        vertical-align: top;\n    }\n\n    .dataframe thead th {\n        text-align: right;\n    }\n</style>\n<table border=\"1\" class=\"dataframe\">\n  <thead>\n    <tr style=\"text-align: right;\">\n      <th></th>\n      <th>Incidencia</th>\n      <th>Recuperacion</th>\n      <th>Mortalidad</th>\n    </tr>\n    <tr>\n      <th>Country/Region</th>\n      <th></th>\n      <th></th>\n      <th></th>\n    </tr>\n  </thead>\n  <tbody>\n    <tr>\n      <th>Marshall Islands</th>\n      <td>3.375015</td>\n      <td>0.0</td>\n      <td>0.000000</td>\n    </tr>\n    <tr>\n      <th>Micronesia</th>\n      <td>0.000000</td>\n      <td>0.0</td>\n      <td>0.000000</td>\n    </tr>\n    <tr>\n      <th>Samoa</th>\n      <td>0.000000</td>\n      <td>0.0</td>\n      <td>0.000000</td>\n    </tr>\n    <tr>\n      <th>Serbia</th>\n      <td>612.696183</td>\n      <td>0.0</td>\n      <td>9.735335</td>\n    </tr>\n    <tr>\n      <th>Sweden</th>\n      <td>1362.283144</td>\n      <td>0.0</td>\n      <td>59.316140</td>\n    </tr>\n  </tbody>\n</table>\n</div>"
     },
     "metadata": {}
    }
   ],
   "source": [
    "display(data_2_df.nlargest(5, 'Recuperacion'), data_2_df.nsmallest(5, 'Recuperacion'))"
   ]
  },
  {
   "source": [
    "### C La mayor y menor tasa de mortalidad, respectivamente"
   ],
   "cell_type": "markdown",
   "metadata": {}
  },
  {
   "cell_type": "code",
   "execution_count": 22,
   "metadata": {},
   "outputs": [
    {
     "output_type": "display_data",
     "data": {
      "text/plain": "                 Incidencia  Recuperacion  Mortalidad\nCountry/Region                                       \nSan Marino      2928.352581   2150.600990  123.733208\nBelgium         4036.858025    235.669401  106.315921\nPeru            2758.793280   2520.192685  104.904020\nAndorra         6527.617840   4831.342917   97.040900\nSpain           2746.927904    321.604997   81.521913",
      "text/html": "<div>\n<style scoped>\n    .dataframe tbody tr th:only-of-type {\n        vertical-align: middle;\n    }\n\n    .dataframe tbody tr th {\n        vertical-align: top;\n    }\n\n    .dataframe thead th {\n        text-align: right;\n    }\n</style>\n<table border=\"1\" class=\"dataframe\">\n  <thead>\n    <tr style=\"text-align: right;\">\n      <th></th>\n      <th>Incidencia</th>\n      <th>Recuperacion</th>\n      <th>Mortalidad</th>\n    </tr>\n    <tr>\n      <th>Country/Region</th>\n      <th></th>\n      <th></th>\n      <th></th>\n    </tr>\n  </thead>\n  <tbody>\n    <tr>\n      <th>San Marino</th>\n      <td>2928.352581</td>\n      <td>2150.600990</td>\n      <td>123.733208</td>\n    </tr>\n    <tr>\n      <th>Belgium</th>\n      <td>4036.858025</td>\n      <td>235.669401</td>\n      <td>106.315921</td>\n    </tr>\n    <tr>\n      <th>Peru</th>\n      <td>2758.793280</td>\n      <td>2520.192685</td>\n      <td>104.904020</td>\n    </tr>\n    <tr>\n      <th>Andorra</th>\n      <td>6527.617840</td>\n      <td>4831.342917</td>\n      <td>97.040900</td>\n    </tr>\n    <tr>\n      <th>Spain</th>\n      <td>2746.927904</td>\n      <td>321.604997</td>\n      <td>81.521913</td>\n    </tr>\n  </tbody>\n</table>\n</div>"
     },
     "metadata": {}
    },
    {
     "output_type": "display_data",
     "data": {
      "text/plain": "                Incidencia  Recuperacion  Mortalidad\nCountry/Region                                      \nBhutan           46.308932     42.557650         0.0\nCambodia          1.742405      1.688701         0.0\nDominica         69.428052     45.822514         0.0\nEritrea          13.502881     11.983807         0.0\nGrenada          26.639672     23.975705         0.0",
      "text/html": "<div>\n<style scoped>\n    .dataframe tbody tr th:only-of-type {\n        vertical-align: middle;\n    }\n\n    .dataframe tbody tr th {\n        vertical-align: top;\n    }\n\n    .dataframe thead th {\n        text-align: right;\n    }\n</style>\n<table border=\"1\" class=\"dataframe\">\n  <thead>\n    <tr style=\"text-align: right;\">\n      <th></th>\n      <th>Incidencia</th>\n      <th>Recuperacion</th>\n      <th>Mortalidad</th>\n    </tr>\n    <tr>\n      <th>Country/Region</th>\n      <th></th>\n      <th></th>\n      <th></th>\n    </tr>\n  </thead>\n  <tbody>\n    <tr>\n      <th>Bhutan</th>\n      <td>46.308932</td>\n      <td>42.557650</td>\n      <td>0.0</td>\n    </tr>\n    <tr>\n      <th>Cambodia</th>\n      <td>1.742405</td>\n      <td>1.688701</td>\n      <td>0.0</td>\n    </tr>\n    <tr>\n      <th>Dominica</th>\n      <td>69.428052</td>\n      <td>45.822514</td>\n      <td>0.0</td>\n    </tr>\n    <tr>\n      <th>Eritrea</th>\n      <td>13.502881</td>\n      <td>11.983807</td>\n      <td>0.0</td>\n    </tr>\n    <tr>\n      <th>Grenada</th>\n      <td>26.639672</td>\n      <td>23.975705</td>\n      <td>0.0</td>\n    </tr>\n  </tbody>\n</table>\n</div>"
     },
     "metadata": {}
    }
   ],
   "source": [
    "display(data_2_df.nlargest(5, 'Mortalidad'), data_2_df.nsmallest(5, 'Mortalidad'))"
   ]
  },
  {
   "source": [
    "## 4 Responda, analice y discuta: ¿En qué lugar/ranking se encuentra Chile con respecto a cada una de las métricas de los puntos anteriores? ¿A qué países de la OCDE se parece más? ¿A qué paises de latinoamérica se parece más?"
   ],
   "cell_type": "markdown",
   "metadata": {}
  },
  {
   "cell_type": "code",
   "execution_count": 23,
   "metadata": {},
   "outputs": [
    {
     "output_type": "execute_result",
     "data": {
      "text/plain": [
       "                    Confirmados  Cerrados  Activos  \\\n",
       "Country/Region                                       \n",
       "Afghanistan               41814     35913     5901   \n",
       "Albania                   22300     12114    10186   \n",
       "Algeria                   59527     43000    16527   \n",
       "Andorra                    5045      3809     1236   \n",
       "Angola                    11813      5562     6251   \n",
       "...                         ...       ...      ...   \n",
       "Vietnam                    1203      1104       99   \n",
       "West Bank and Gaza        56090     48728     7362   \n",
       "Yemen                      2063      1976       87   \n",
       "Zambia                    16698     16168      530   \n",
       "Zimbabwe                   8427      8215      212   \n",
       "\n",
       "                    porcentaje Activos/Confirmado  \\\n",
       "Country/Region                                      \n",
       "Afghanistan                             14.112498   \n",
       "Albania                                 45.677130   \n",
       "Algeria                                 27.763872   \n",
       "Andorra                                 24.499504   \n",
       "Angola                                  52.916279   \n",
       "...                                           ...   \n",
       "Vietnam                                  8.229426   \n",
       "West Bank and Gaza                      13.125334   \n",
       "Yemen                                    4.217159   \n",
       "Zambia                                   3.174033   \n",
       "Zimbabwe                                 2.515723   \n",
       "\n",
       "                    porcentaje Decesos/Cerrados  \\\n",
       "Country/Region                                    \n",
       "Afghanistan                            4.318770   \n",
       "Albania                                4.424633   \n",
       "Algeria                                4.648837   \n",
       "Andorra                                1.969021   \n",
       "Angola                                 5.321827   \n",
       "...                                         ...   \n",
       "Vietnam                                3.170290   \n",
       "West Bank and Gaza                     1.034313   \n",
       "Yemen                                 30.414980   \n",
       "Zambia                                 2.158585   \n",
       "Zimbabwe                               3.018868   \n",
       "\n",
       "                    porcentaje Recuperados/Cerrados  \n",
       "Country/Region                                       \n",
       "Afghanistan                               95.681230  \n",
       "Albania                                   95.575367  \n",
       "Algeria                                   95.351163  \n",
       "Andorra                                   98.030979  \n",
       "Angola                                    94.678173  \n",
       "...                                             ...  \n",
       "Vietnam                                   96.829710  \n",
       "West Bank and Gaza                        98.965687  \n",
       "Yemen                                     69.585020  \n",
       "Zambia                                    97.841415  \n",
       "Zimbabwe                                  96.981132  \n",
       "\n",
       "[192 rows x 6 columns]"
      ],
      "text/html": "<div>\n<style scoped>\n    .dataframe tbody tr th:only-of-type {\n        vertical-align: middle;\n    }\n\n    .dataframe tbody tr th {\n        vertical-align: top;\n    }\n\n    .dataframe thead th {\n        text-align: right;\n    }\n</style>\n<table border=\"1\" class=\"dataframe\">\n  <thead>\n    <tr style=\"text-align: right;\">\n      <th></th>\n      <th>Confirmados</th>\n      <th>Cerrados</th>\n      <th>Activos</th>\n      <th>porcentaje Activos/Confirmado</th>\n      <th>porcentaje Decesos/Cerrados</th>\n      <th>porcentaje Recuperados/Cerrados</th>\n    </tr>\n    <tr>\n      <th>Country/Region</th>\n      <th></th>\n      <th></th>\n      <th></th>\n      <th></th>\n      <th></th>\n      <th></th>\n    </tr>\n  </thead>\n  <tbody>\n    <tr>\n      <th>Afghanistan</th>\n      <td>41814</td>\n      <td>35913</td>\n      <td>5901</td>\n      <td>14.112498</td>\n      <td>4.318770</td>\n      <td>95.681230</td>\n    </tr>\n    <tr>\n      <th>Albania</th>\n      <td>22300</td>\n      <td>12114</td>\n      <td>10186</td>\n      <td>45.677130</td>\n      <td>4.424633</td>\n      <td>95.575367</td>\n    </tr>\n    <tr>\n      <th>Algeria</th>\n      <td>59527</td>\n      <td>43000</td>\n      <td>16527</td>\n      <td>27.763872</td>\n      <td>4.648837</td>\n      <td>95.351163</td>\n    </tr>\n    <tr>\n      <th>Andorra</th>\n      <td>5045</td>\n      <td>3809</td>\n      <td>1236</td>\n      <td>24.499504</td>\n      <td>1.969021</td>\n      <td>98.030979</td>\n    </tr>\n    <tr>\n      <th>Angola</th>\n      <td>11813</td>\n      <td>5562</td>\n      <td>6251</td>\n      <td>52.916279</td>\n      <td>5.321827</td>\n      <td>94.678173</td>\n    </tr>\n    <tr>\n      <th>...</th>\n      <td>...</td>\n      <td>...</td>\n      <td>...</td>\n      <td>...</td>\n      <td>...</td>\n      <td>...</td>\n    </tr>\n    <tr>\n      <th>Vietnam</th>\n      <td>1203</td>\n      <td>1104</td>\n      <td>99</td>\n      <td>8.229426</td>\n      <td>3.170290</td>\n      <td>96.829710</td>\n    </tr>\n    <tr>\n      <th>West Bank and Gaza</th>\n      <td>56090</td>\n      <td>48728</td>\n      <td>7362</td>\n      <td>13.125334</td>\n      <td>1.034313</td>\n      <td>98.965687</td>\n    </tr>\n    <tr>\n      <th>Yemen</th>\n      <td>2063</td>\n      <td>1976</td>\n      <td>87</td>\n      <td>4.217159</td>\n      <td>30.414980</td>\n      <td>69.585020</td>\n    </tr>\n    <tr>\n      <th>Zambia</th>\n      <td>16698</td>\n      <td>16168</td>\n      <td>530</td>\n      <td>3.174033</td>\n      <td>2.158585</td>\n      <td>97.841415</td>\n    </tr>\n    <tr>\n      <th>Zimbabwe</th>\n      <td>8427</td>\n      <td>8215</td>\n      <td>212</td>\n      <td>2.515723</td>\n      <td>3.018868</td>\n      <td>96.981132</td>\n    </tr>\n  </tbody>\n</table>\n<p>192 rows × 6 columns</p>\n</div>"
     },
     "metadata": {},
     "execution_count": 23
    }
   ],
   "source": [
    "data_df"
   ]
  },
  {
   "cell_type": "code",
   "execution_count": 24,
   "metadata": {},
   "outputs": [],
   "source": [
    "def chile_respecto_a(dataframe, dataframe2):\n",
    "    ranking_confirmados = dataframe.sort_values(by='Confirmados', ascending = False)\n",
    "    ranking_cerrados = dataframe.sort_values(by='Cerrados', ascending = False)\n",
    "    ranking_activos = dataframe.sort_values(by='Activos', ascending = False)\n",
    "\n",
    "    ranking_porcentaje_activos_confirmados = dataframe.sort_values(by='porcentaje Activos/Confirmado', ascending = False)\n",
    "    ranking_porcentaje_decesos_cerrados = dataframe.sort_values(by='porcentaje Decesos/Cerrados', ascending = False)\n",
    "    ranking_porcentaje_recuperados_cerrados = dataframe.sort_values(by='porcentaje Recuperados/Cerrados', ascending = False)\n",
    "\n",
    "    ranking_incidencia = dataframe2.sort_values(by='Incidencia', ascending = False)\n",
    "    ranking_recuperacion = dataframe2.sort_values(by='Recuperacion', ascending = False)\n",
    "    ranking_mortalidad = dataframe2.sort_values(by='Mortalidad', ascending = False)\n",
    "    print(\n",
    "        'Confirmados: ' + str(ranking_confirmados.index.get_loc('Chile')) + \"\\n\",\n",
    "        'Cerrados: ' + str(ranking_cerrados.index.get_loc('Chile')) + \"\\n\",\n",
    "        'Activos: ' + str(ranking_activos.index.get_loc('Chile')) + \"\\n\",\n",
    "        '%Activos confirmados: ' + str(ranking_porcentaje_activos_confirmados.index.get_loc('Chile')) + \"\\n\",\n",
    "        '%Decesos cerrados: ' + str(ranking_porcentaje_decesos_cerrados.index.get_loc('Chile')) + \"\\n\",\n",
    "        '%Recuperados cerrados: ' + str(ranking_porcentaje_recuperados_cerrados.index.get_loc('Chile')) + \"\\n\",\n",
    "        'Incidencia: ' + str(ranking_incidencia.index.get_loc('Chile')) + \"\\n\",\n",
    "        'Recuperación: ' + str(ranking_recuperacion.index.get_loc('Chile')) + \"\\n\",\n",
    "        'Mortalidad: ' + str(ranking_mortalidad.index.get_loc('Chile')) + \"\\n\"\n",
    "    )"
   ]
  },
  {
   "source": [
    "### Posición de Chile con respecto a todo el mundo"
   ],
   "cell_type": "markdown",
   "metadata": {}
  },
  {
   "cell_type": "code",
   "execution_count": 25,
   "metadata": {},
   "outputs": [
    {
     "output_type": "stream",
     "name": "stdout",
     "text": [
      "Confirmados: 15\n Cerrados: 10\n Activos: 74\n %Activos confirmados: 175\n %Decesos cerrados: 77\n %Recuperados cerrados: 110\n Incidencia: 14\n Recuperación: 6\n Mortalidad: 6\n\n"
     ]
    }
   ],
   "source": [
    "chile_respecto_a(data_df, data_2_df)\n"
   ]
  },
  {
   "source": [
    "### Poisición de Chile con respecto a la OCDE"
   ],
   "cell_type": "markdown",
   "metadata": {}
  },
  {
   "cell_type": "code",
   "execution_count": 26,
   "metadata": {},
   "outputs": [
    {
     "output_type": "stream",
     "name": "stdout",
     "text": [
      "Confirmados: 8\n Cerrados: 3\n Activos: 29\n %Activos confirmados: 36\n %Decesos cerrados: 20\n %Recuperados cerrados: 16\n Incidencia: 4\n Recuperación: 1\n Mortalidad: 2\n\n"
     ]
    }
   ],
   "source": [
    "paises_ocde = ['Australia','Austria','Belgium','Canada','Chile','Colombia','Czechia','Denmark','Estonia','Finland','France','Germany','Greece','Hungary','Iceland','Ireland','Israel','Italy','Japan','Korea, South','Latvia','Lithuania','Luxembourg','Mexico','Netherlands','New Zealand','Norway','Poland','Portugal','Slovakia','Slovenia','Spain','Sweden','Switzerland','Turkey','United Kingdom','US']\n",
    "\n",
    "chile_respecto_a(data_df.loc[paises_ocde], data_2_df.loc[paises_ocde])"
   ]
  },
  {
   "source": [
    "### Posición de Chile con respecto a latinoamérica"
   ],
   "cell_type": "markdown",
   "metadata": {}
  },
  {
   "cell_type": "code",
   "execution_count": 27,
   "metadata": {},
   "outputs": [
    {
     "output_type": "stream",
     "name": "stdout",
     "text": [
      "Confirmados: 5\n Cerrados: 5\n Activos: 12\n %Activos confirmados: 21\n %Decesos cerrados: 14\n %Recuperados cerrados: 8\n Incidencia: 2\n Recuperación: 1\n Mortalidad: 2\n\n"
     ]
    }
   ],
   "source": [
    "paises_latinoamerica = ['Argentina', 'Bolivia', 'Brazil', 'Chile', 'Colombia', 'Costa Rica', 'Cuba', 'Ecuador', 'El Salvador', 'Grenada', 'Guatemala', 'Haiti', 'Honduras', 'Jamaica', 'Mexico', 'Nicaragua', 'Paraguay', 'Panama', 'Peru', 'Dominican Republic', 'Suriname', 'Uruguay', 'Venezuela']\n",
    "\n",
    "chile_respecto_a(data_df.loc[paises_latinoamerica], data_2_df.loc[paises_latinoamerica])"
   ]
  },
  {
   "source": [
    "Chile con respecto al resto del mundo, se muestra en los primeros lugares tanto en casos confirmados, como de cerrados, en cuanto a los análisis de recuperación y mortalidad también se muestra en los mayores índices de la tabla, esto es debido a que estos valores tienen una estrecha relación con los de confirmados y cerrados. Para realizar una comparacion con el resto de los países del mundo, resultan útiles los valores de Incidencia, recuperación y mortalidad ya que utilizan una proporción en la que no incide la cantidad de población del país.\n",
    "En cuanto al análisis con respecto a los países de la OCDE, se logra apreciar una preocupante cercanía a los primeros lugares tanto en incidencia, recuperación y mortalidad, lo que también se acompaña por la cantidad de casos confirmados, es decir, dentro de los países de la OCDE tenemos relativamente uno de los mayores indices de contagios, y estos han desencadenado en una mayor mortalidad e incidencia, siendo uno de los países con menor PIB respecto al resto de los países miembros se puede deducir que existe una relación entre la riqueza de un país y el comportamiento en esta crisis.\n",
    "Con respecto a los países de latinamérica, también Chile se muestra entre los países con mayor incidencia, recuperación y mortalidad, y aunque la cantidad de casos confirmados es menor en comparación al resto, esto se debe a que la cantidad de población también es menor.\n"
   ],
   "cell_type": "markdown",
   "metadata": {}
  },
  {
   "cell_type": "markdown",
   "metadata": {},
   "source": [
    "### Análisis temporal y comparativo (2.0pt)\n",
    "\n",
    "1. Construya una interfaz gráfica usando `ipywidgets` y `matplotlib` que permita realizar comparaciones entre las series de tiempo de COVID-19 de dos países seleccionados arbitrariamente. A modo de simplificación considere sólo los países de la [OCDE](https://es.wikipedia.org/wiki/Organizaci%C3%B3n_para_la_Cooperaci%C3%B3n_y_el_Desarrollo_Econ%C3%B3micos). Requerimientos:\n",
    "    1. La interfaz debe incluir controles para escoger dos países a partir de una lista\n",
    "    1. La interfaz debe incluir tres [tabs](https://ipywidgets.readthedocs.io/en/latest/examples/Widget%20List.html#Tabs), el primero debe mostrar las series de tiempo de ambos países de los casos confirmados, el segundo la de recuperados y el tercero la de los decesos, respectivamente. Use una leyenda para indicar el nombre de los países.\n",
    "    1. La interfaz debe tener un control que permita escoger entre casos acumulados y casos nuevos  \n",
    "    1. La interfaz debe tener un control que permita escoger entre valores absolutos y valores relativos (tasas por 100.000 habitantes)\n",
    "    1. La interfaz debe tener un control que permita escoger entre valores diarios y valores semanales (acumulados). Para esto último se recomienda usar `groupby` con una [frecuencia lunes a lunes](https://pandas.pydata.org/pandas-docs/stable/user_guide/timeseries.html#anchored-offsets)\n",
    "    \n",
    "En base a su interfaz:   \n",
    "\n",
    "1. Describa en detalle la situación de Chile con respecto a la evolución temporal de las series de tiempo. En particular destaque patrones y comportamientos que considere relevantes y compare lo que observa en las distintas series de tiempo. Considerando la evolución a nivel de semana, conteste ¿En qué fechas ocurre un aumento o disminución notoria de los casos? ¿En qué fechas hay máximos y mínimos?\n",
    "1. Considerando métricas que sean relativas compare el caso de Chile contra cinco países de la OCDE seleccionados por ustedes. Destaque semejanzas y diferencias considerando las cantidades y los posibles desfases temporales existentes.\n"
   ]
  },
  {
   "cell_type": "code",
   "execution_count": 28,
   "metadata": {},
   "outputs": [],
   "source": [
    "tab_contents = ['Confirmados', 'Recuperados', 'Decesos']\n",
    "def data(country):\n",
    "    return df_confirmados.loc[country]\n",
    "\n",
    "def update_plot(country1,country2):\n",
    "    ax.cla()\n",
    "    ax.plot(data(country1));\n",
    "    ax.plot(data(country2));\n",
    "    ax.get_xaxis().set_visible(False)"
   ]
  },
  {
   "cell_type": "code",
   "execution_count": 32,
   "metadata": {},
   "outputs": [
    {
     "output_type": "display_data",
     "data": {
      "text/plain": "Canvas(toolbar=Toolbar(toolitems=[('Home', 'Reset original view', 'home', 'home'), ('Back', 'Back to previous …",
      "application/vnd.jupyter.widget-view+json": {
       "version_major": 2,
       "version_minor": 0,
       "model_id": "9d0df41fedaf4810aeba589a71400231"
      }
     },
     "metadata": {}
    },
    {
     "output_type": "display_data",
     "data": {
      "text/plain": "interactive(children=(Dropdown(description='Country 1:', index=36, options=('Australia', 'Austria', 'Belgium',…",
      "application/vnd.jupyter.widget-view+json": {
       "version_major": 2,
       "version_minor": 0,
       "model_id": "bdc6b0c2c1a548f6a06d805c5d824d64"
      }
     },
     "metadata": {}
    },
    {
     "output_type": "display_data",
     "data": {
      "text/plain": "interactive(children=(Dropdown(description='Country 1:', index=36, options=('Australia', 'Austria', 'Belgium',…",
      "application/vnd.jupyter.widget-view+json": {
       "version_major": 2,
       "version_minor": 0,
       "model_id": "23d6e3090db04db895ee34e1a62a0eab"
      }
     },
     "metadata": {}
    },
    {
     "output_type": "display_data",
     "data": {
      "text/plain": "interactive(children=(Dropdown(description='Country 1:', index=36, options=('Australia', 'Austria', 'Belgium',…",
      "application/vnd.jupyter.widget-view+json": {
       "version_major": 2,
       "version_minor": 0,
       "model_id": "2797b8c3d18844229f8f6d8d816e6ce2"
      }
     },
     "metadata": {}
    },
    {
     "output_type": "error",
     "ename": "TraitError",
     "evalue": "Element of the 'children' trait of a Tab instance must be a Widget, but a value of [<function update_plot at 0x7fe229ec1ca0>, <function update_plot at 0x7fe229ec1ca0>, <function update_plot at 0x7fe229ec1ca0>] <class 'list'> was specified.",
     "traceback": [
      "\u001b[0;31m---------------------------------------------------------------------------\u001b[0m",
      "\u001b[0;31mTraitError\u001b[0m                                Traceback (most recent call last)",
      "\u001b[0;32m/usr/lib/python3/dist-packages/traitlets/traitlets.py\u001b[0m in \u001b[0;36mvalidate_elements\u001b[0;34m(self, obj, value)\u001b[0m\n\u001b[1;32m   2251\u001b[0m             \u001b[0;32mtry\u001b[0m\u001b[0;34m:\u001b[0m\u001b[0;34m\u001b[0m\u001b[0;34m\u001b[0m\u001b[0m\n\u001b[0;32m-> 2252\u001b[0;31m                 \u001b[0mv\u001b[0m \u001b[0;34m=\u001b[0m \u001b[0mself\u001b[0m\u001b[0;34m.\u001b[0m\u001b[0m_trait\u001b[0m\u001b[0;34m.\u001b[0m\u001b[0m_validate\u001b[0m\u001b[0;34m(\u001b[0m\u001b[0mobj\u001b[0m\u001b[0;34m,\u001b[0m \u001b[0mv\u001b[0m\u001b[0;34m)\u001b[0m\u001b[0;34m\u001b[0m\u001b[0;34m\u001b[0m\u001b[0m\n\u001b[0m\u001b[1;32m   2253\u001b[0m             \u001b[0;32mexcept\u001b[0m \u001b[0mTraitError\u001b[0m\u001b[0;34m:\u001b[0m\u001b[0;34m\u001b[0m\u001b[0;34m\u001b[0m\u001b[0m\n",
      "\u001b[0;32m/usr/lib/python3/dist-packages/traitlets/traitlets.py\u001b[0m in \u001b[0;36m_validate\u001b[0;34m(self, obj, value)\u001b[0m\n\u001b[1;32m    590\u001b[0m         \u001b[0;32mif\u001b[0m \u001b[0mhasattr\u001b[0m\u001b[0;34m(\u001b[0m\u001b[0mself\u001b[0m\u001b[0;34m,\u001b[0m \u001b[0;34m'validate'\u001b[0m\u001b[0;34m)\u001b[0m\u001b[0;34m:\u001b[0m\u001b[0;34m\u001b[0m\u001b[0;34m\u001b[0m\u001b[0m\n\u001b[0;32m--> 591\u001b[0;31m             \u001b[0mvalue\u001b[0m \u001b[0;34m=\u001b[0m \u001b[0mself\u001b[0m\u001b[0;34m.\u001b[0m\u001b[0mvalidate\u001b[0m\u001b[0;34m(\u001b[0m\u001b[0mobj\u001b[0m\u001b[0;34m,\u001b[0m \u001b[0mvalue\u001b[0m\u001b[0;34m)\u001b[0m\u001b[0;34m\u001b[0m\u001b[0;34m\u001b[0m\u001b[0m\n\u001b[0m\u001b[1;32m    592\u001b[0m         \u001b[0;32mif\u001b[0m \u001b[0mobj\u001b[0m\u001b[0;34m.\u001b[0m\u001b[0m_cross_validation_lock\u001b[0m \u001b[0;32mis\u001b[0m \u001b[0;32mFalse\u001b[0m\u001b[0;34m:\u001b[0m\u001b[0;34m\u001b[0m\u001b[0;34m\u001b[0m\u001b[0m\n",
      "\u001b[0;32m/usr/lib/python3/dist-packages/traitlets/traitlets.py\u001b[0m in \u001b[0;36mvalidate\u001b[0;34m(self, obj, value)\u001b[0m\n\u001b[1;32m   1676\u001b[0m         \u001b[0;32melse\u001b[0m\u001b[0;34m:\u001b[0m\u001b[0;34m\u001b[0m\u001b[0;34m\u001b[0m\u001b[0m\n\u001b[0;32m-> 1677\u001b[0;31m             \u001b[0mself\u001b[0m\u001b[0;34m.\u001b[0m\u001b[0merror\u001b[0m\u001b[0;34m(\u001b[0m\u001b[0mobj\u001b[0m\u001b[0;34m,\u001b[0m \u001b[0mvalue\u001b[0m\u001b[0;34m)\u001b[0m\u001b[0;34m\u001b[0m\u001b[0;34m\u001b[0m\u001b[0m\n\u001b[0m\u001b[1;32m   1678\u001b[0m \u001b[0;34m\u001b[0m\u001b[0m\n",
      "\u001b[0;32m/usr/lib/python3/dist-packages/traitlets/traitlets.py\u001b[0m in \u001b[0;36merror\u001b[0;34m(self, obj, value)\u001b[0m\n\u001b[1;32m   1523\u001b[0m \u001b[0;34m\u001b[0m\u001b[0m\n\u001b[0;32m-> 1524\u001b[0;31m         \u001b[0;32mraise\u001b[0m \u001b[0mTraitError\u001b[0m\u001b[0;34m(\u001b[0m\u001b[0me\u001b[0m\u001b[0;34m)\u001b[0m\u001b[0;34m\u001b[0m\u001b[0;34m\u001b[0m\u001b[0m\n\u001b[0m\u001b[1;32m   1525\u001b[0m \u001b[0;34m\u001b[0m\u001b[0m\n",
      "\u001b[0;31mTraitError\u001b[0m: The 'None' trait of a Tab instance must be a Widget, but a value of class 'list' (i.e. [<function update_plot at 0x7fe229ec1ca0>, <function update_plot at 0x7fe229ec1ca0>, <function update_plot at 0x7fe229ec1ca0>]) was specified.",
      "\nDuring handling of the above exception, another exception occurred:\n",
      "\u001b[0;31mTraitError\u001b[0m                                Traceback (most recent call last)",
      "\u001b[0;32m<ipython-input-32-a5cfe97e71c7>\u001b[0m in \u001b[0;36m<module>\u001b[0;34m\u001b[0m\n\u001b[1;32m     23\u001b[0m \u001b[0;34m\u001b[0m\u001b[0m\n\u001b[1;32m     24\u001b[0m \u001b[0mchildren\u001b[0m \u001b[0;34m=\u001b[0m \u001b[0;34m[\u001b[0m\u001b[0mwidget\u001b[0m\u001b[0;34m(\u001b[0m\u001b[0;34m)\u001b[0m \u001b[0;32mfor\u001b[0m \u001b[0mname\u001b[0m \u001b[0;32min\u001b[0m \u001b[0mtab_contents\u001b[0m\u001b[0;34m]\u001b[0m\u001b[0;34m\u001b[0m\u001b[0;34m\u001b[0m\u001b[0m\n\u001b[0;32m---> 25\u001b[0;31m \u001b[0mdisplay\u001b[0m\u001b[0;34m(\u001b[0m\u001b[0mwidgets\u001b[0m\u001b[0;34m.\u001b[0m\u001b[0mTab\u001b[0m\u001b[0;34m(\u001b[0m\u001b[0;34m(\u001b[0m\u001b[0mchildren\u001b[0m\u001b[0;34m,\u001b[0m\u001b[0;34m)\u001b[0m\u001b[0;34m)\u001b[0m\u001b[0;34m)\u001b[0m\u001b[0;34m\u001b[0m\u001b[0;34m\u001b[0m\u001b[0m\n\u001b[0m",
      "\u001b[0;32m/usr/local/lib/python3.8/dist-packages/ipywidgets/widgets/widget_box.py\u001b[0m in \u001b[0;36m__init__\u001b[0;34m(self, children, **kwargs)\u001b[0m\n\u001b[1;32m     62\u001b[0m     \u001b[0;32mdef\u001b[0m \u001b[0m__init__\u001b[0m\u001b[0;34m(\u001b[0m\u001b[0mself\u001b[0m\u001b[0;34m,\u001b[0m \u001b[0mchildren\u001b[0m\u001b[0;34m=\u001b[0m\u001b[0;34m(\u001b[0m\u001b[0;34m)\u001b[0m\u001b[0;34m,\u001b[0m \u001b[0;34m**\u001b[0m\u001b[0mkwargs\u001b[0m\u001b[0;34m)\u001b[0m\u001b[0;34m:\u001b[0m\u001b[0;34m\u001b[0m\u001b[0;34m\u001b[0m\u001b[0m\n\u001b[1;32m     63\u001b[0m         \u001b[0mkwargs\u001b[0m\u001b[0;34m[\u001b[0m\u001b[0;34m'children'\u001b[0m\u001b[0;34m]\u001b[0m \u001b[0;34m=\u001b[0m \u001b[0mchildren\u001b[0m\u001b[0;34m\u001b[0m\u001b[0;34m\u001b[0m\u001b[0m\n\u001b[0;32m---> 64\u001b[0;31m         \u001b[0msuper\u001b[0m\u001b[0;34m(\u001b[0m\u001b[0mBox\u001b[0m\u001b[0;34m,\u001b[0m \u001b[0mself\u001b[0m\u001b[0;34m)\u001b[0m\u001b[0;34m.\u001b[0m\u001b[0m__init__\u001b[0m\u001b[0;34m(\u001b[0m\u001b[0;34m**\u001b[0m\u001b[0mkwargs\u001b[0m\u001b[0;34m)\u001b[0m\u001b[0;34m\u001b[0m\u001b[0;34m\u001b[0m\u001b[0m\n\u001b[0m\u001b[1;32m     65\u001b[0m         \u001b[0mself\u001b[0m\u001b[0;34m.\u001b[0m\u001b[0mon_displayed\u001b[0m\u001b[0;34m(\u001b[0m\u001b[0mBox\u001b[0m\u001b[0;34m.\u001b[0m\u001b[0m_fire_children_displayed\u001b[0m\u001b[0;34m)\u001b[0m\u001b[0;34m\u001b[0m\u001b[0;34m\u001b[0m\u001b[0m\n\u001b[1;32m     66\u001b[0m \u001b[0;34m\u001b[0m\u001b[0m\n",
      "\u001b[0;32m/usr/local/lib/python3.8/dist-packages/ipywidgets/widgets/widget.py\u001b[0m in \u001b[0;36m__init__\u001b[0;34m(self, **kwargs)\u001b[0m\n\u001b[1;32m    410\u001b[0m         \u001b[0;34m\"\"\"Public constructor\"\"\"\u001b[0m\u001b[0;34m\u001b[0m\u001b[0;34m\u001b[0m\u001b[0m\n\u001b[1;32m    411\u001b[0m         \u001b[0mself\u001b[0m\u001b[0;34m.\u001b[0m\u001b[0m_model_id\u001b[0m \u001b[0;34m=\u001b[0m \u001b[0mkwargs\u001b[0m\u001b[0;34m.\u001b[0m\u001b[0mpop\u001b[0m\u001b[0;34m(\u001b[0m\u001b[0;34m'model_id'\u001b[0m\u001b[0;34m,\u001b[0m \u001b[0;32mNone\u001b[0m\u001b[0;34m)\u001b[0m\u001b[0;34m\u001b[0m\u001b[0;34m\u001b[0m\u001b[0m\n\u001b[0;32m--> 412\u001b[0;31m         \u001b[0msuper\u001b[0m\u001b[0;34m(\u001b[0m\u001b[0mWidget\u001b[0m\u001b[0;34m,\u001b[0m \u001b[0mself\u001b[0m\u001b[0;34m)\u001b[0m\u001b[0;34m.\u001b[0m\u001b[0m__init__\u001b[0m\u001b[0;34m(\u001b[0m\u001b[0;34m**\u001b[0m\u001b[0mkwargs\u001b[0m\u001b[0;34m)\u001b[0m\u001b[0;34m\u001b[0m\u001b[0;34m\u001b[0m\u001b[0m\n\u001b[0m\u001b[1;32m    413\u001b[0m \u001b[0;34m\u001b[0m\u001b[0m\n\u001b[1;32m    414\u001b[0m         \u001b[0mWidget\u001b[0m\u001b[0;34m.\u001b[0m\u001b[0m_call_widget_constructed\u001b[0m\u001b[0;34m(\u001b[0m\u001b[0mself\u001b[0m\u001b[0;34m)\u001b[0m\u001b[0;34m\u001b[0m\u001b[0;34m\u001b[0m\u001b[0m\n",
      "\u001b[0;32m/usr/lib/python3/dist-packages/traitlets/traitlets.py\u001b[0m in \u001b[0;36m__init__\u001b[0;34m(self, *args, **kwargs)\u001b[0m\n\u001b[1;32m    995\u001b[0m             \u001b[0;32mfor\u001b[0m \u001b[0mkey\u001b[0m\u001b[0;34m,\u001b[0m \u001b[0mvalue\u001b[0m \u001b[0;32min\u001b[0m \u001b[0mkwargs\u001b[0m\u001b[0;34m.\u001b[0m\u001b[0mitems\u001b[0m\u001b[0;34m(\u001b[0m\u001b[0;34m)\u001b[0m\u001b[0;34m:\u001b[0m\u001b[0;34m\u001b[0m\u001b[0;34m\u001b[0m\u001b[0m\n\u001b[1;32m    996\u001b[0m                 \u001b[0;32mif\u001b[0m \u001b[0mself\u001b[0m\u001b[0;34m.\u001b[0m\u001b[0mhas_trait\u001b[0m\u001b[0;34m(\u001b[0m\u001b[0mkey\u001b[0m\u001b[0;34m)\u001b[0m\u001b[0;34m:\u001b[0m\u001b[0;34m\u001b[0m\u001b[0;34m\u001b[0m\u001b[0m\n\u001b[0;32m--> 997\u001b[0;31m                     \u001b[0msetattr\u001b[0m\u001b[0;34m(\u001b[0m\u001b[0mself\u001b[0m\u001b[0;34m,\u001b[0m \u001b[0mkey\u001b[0m\u001b[0;34m,\u001b[0m \u001b[0mvalue\u001b[0m\u001b[0;34m)\u001b[0m\u001b[0;34m\u001b[0m\u001b[0;34m\u001b[0m\u001b[0m\n\u001b[0m\u001b[1;32m    998\u001b[0m                 \u001b[0;32melse\u001b[0m\u001b[0;34m:\u001b[0m\u001b[0;34m\u001b[0m\u001b[0;34m\u001b[0m\u001b[0m\n\u001b[1;32m    999\u001b[0m                     \u001b[0;31m# passthrough args that don't set traits to super\u001b[0m\u001b[0;34m\u001b[0m\u001b[0;34m\u001b[0m\u001b[0;34m\u001b[0m\u001b[0m\n",
      "\u001b[0;32m/usr/lib/python3/dist-packages/traitlets/traitlets.py\u001b[0m in \u001b[0;36m__set__\u001b[0;34m(self, obj, value)\u001b[0m\n\u001b[1;32m    583\u001b[0m             \u001b[0;32mraise\u001b[0m \u001b[0mTraitError\u001b[0m\u001b[0;34m(\u001b[0m\u001b[0;34m'The \"%s\" trait is read-only.'\u001b[0m \u001b[0;34m%\u001b[0m \u001b[0mself\u001b[0m\u001b[0;34m.\u001b[0m\u001b[0mname\u001b[0m\u001b[0;34m)\u001b[0m\u001b[0;34m\u001b[0m\u001b[0;34m\u001b[0m\u001b[0m\n\u001b[1;32m    584\u001b[0m         \u001b[0;32melse\u001b[0m\u001b[0;34m:\u001b[0m\u001b[0;34m\u001b[0m\u001b[0;34m\u001b[0m\u001b[0m\n\u001b[0;32m--> 585\u001b[0;31m             \u001b[0mself\u001b[0m\u001b[0;34m.\u001b[0m\u001b[0mset\u001b[0m\u001b[0;34m(\u001b[0m\u001b[0mobj\u001b[0m\u001b[0;34m,\u001b[0m \u001b[0mvalue\u001b[0m\u001b[0;34m)\u001b[0m\u001b[0;34m\u001b[0m\u001b[0;34m\u001b[0m\u001b[0m\n\u001b[0m\u001b[1;32m    586\u001b[0m \u001b[0;34m\u001b[0m\u001b[0m\n\u001b[1;32m    587\u001b[0m     \u001b[0;32mdef\u001b[0m \u001b[0m_validate\u001b[0m\u001b[0;34m(\u001b[0m\u001b[0mself\u001b[0m\u001b[0;34m,\u001b[0m \u001b[0mobj\u001b[0m\u001b[0;34m,\u001b[0m \u001b[0mvalue\u001b[0m\u001b[0;34m)\u001b[0m\u001b[0;34m:\u001b[0m\u001b[0;34m\u001b[0m\u001b[0;34m\u001b[0m\u001b[0m\n",
      "\u001b[0;32m/usr/lib/python3/dist-packages/traitlets/traitlets.py\u001b[0m in \u001b[0;36mset\u001b[0;34m(self, obj, value)\u001b[0m\n\u001b[1;32m    557\u001b[0m \u001b[0;34m\u001b[0m\u001b[0m\n\u001b[1;32m    558\u001b[0m     \u001b[0;32mdef\u001b[0m \u001b[0mset\u001b[0m\u001b[0;34m(\u001b[0m\u001b[0mself\u001b[0m\u001b[0;34m,\u001b[0m \u001b[0mobj\u001b[0m\u001b[0;34m,\u001b[0m \u001b[0mvalue\u001b[0m\u001b[0;34m)\u001b[0m\u001b[0;34m:\u001b[0m\u001b[0;34m\u001b[0m\u001b[0;34m\u001b[0m\u001b[0m\n\u001b[0;32m--> 559\u001b[0;31m         \u001b[0mnew_value\u001b[0m \u001b[0;34m=\u001b[0m \u001b[0mself\u001b[0m\u001b[0;34m.\u001b[0m\u001b[0m_validate\u001b[0m\u001b[0;34m(\u001b[0m\u001b[0mobj\u001b[0m\u001b[0;34m,\u001b[0m \u001b[0mvalue\u001b[0m\u001b[0;34m)\u001b[0m\u001b[0;34m\u001b[0m\u001b[0;34m\u001b[0m\u001b[0m\n\u001b[0m\u001b[1;32m    560\u001b[0m         \u001b[0;32mtry\u001b[0m\u001b[0;34m:\u001b[0m\u001b[0;34m\u001b[0m\u001b[0;34m\u001b[0m\u001b[0m\n\u001b[1;32m    561\u001b[0m             \u001b[0mold_value\u001b[0m \u001b[0;34m=\u001b[0m \u001b[0mobj\u001b[0m\u001b[0;34m.\u001b[0m\u001b[0m_trait_values\u001b[0m\u001b[0;34m[\u001b[0m\u001b[0mself\u001b[0m\u001b[0;34m.\u001b[0m\u001b[0mname\u001b[0m\u001b[0;34m]\u001b[0m\u001b[0;34m\u001b[0m\u001b[0;34m\u001b[0m\u001b[0m\n",
      "\u001b[0;32m/usr/lib/python3/dist-packages/traitlets/traitlets.py\u001b[0m in \u001b[0;36m_validate\u001b[0;34m(self, obj, value)\u001b[0m\n\u001b[1;32m    589\u001b[0m             \u001b[0;32mreturn\u001b[0m \u001b[0mvalue\u001b[0m\u001b[0;34m\u001b[0m\u001b[0;34m\u001b[0m\u001b[0m\n\u001b[1;32m    590\u001b[0m         \u001b[0;32mif\u001b[0m \u001b[0mhasattr\u001b[0m\u001b[0;34m(\u001b[0m\u001b[0mself\u001b[0m\u001b[0;34m,\u001b[0m \u001b[0;34m'validate'\u001b[0m\u001b[0;34m)\u001b[0m\u001b[0;34m:\u001b[0m\u001b[0;34m\u001b[0m\u001b[0;34m\u001b[0m\u001b[0m\n\u001b[0;32m--> 591\u001b[0;31m             \u001b[0mvalue\u001b[0m \u001b[0;34m=\u001b[0m \u001b[0mself\u001b[0m\u001b[0;34m.\u001b[0m\u001b[0mvalidate\u001b[0m\u001b[0;34m(\u001b[0m\u001b[0mobj\u001b[0m\u001b[0;34m,\u001b[0m \u001b[0mvalue\u001b[0m\u001b[0;34m)\u001b[0m\u001b[0;34m\u001b[0m\u001b[0;34m\u001b[0m\u001b[0m\n\u001b[0m\u001b[1;32m    592\u001b[0m         \u001b[0;32mif\u001b[0m \u001b[0mobj\u001b[0m\u001b[0;34m.\u001b[0m\u001b[0m_cross_validation_lock\u001b[0m \u001b[0;32mis\u001b[0m \u001b[0;32mFalse\u001b[0m\u001b[0;34m:\u001b[0m\u001b[0;34m\u001b[0m\u001b[0;34m\u001b[0m\u001b[0m\n\u001b[1;32m    593\u001b[0m             \u001b[0mvalue\u001b[0m \u001b[0;34m=\u001b[0m \u001b[0mself\u001b[0m\u001b[0;34m.\u001b[0m\u001b[0m_cross_validate\u001b[0m\u001b[0;34m(\u001b[0m\u001b[0mobj\u001b[0m\u001b[0;34m,\u001b[0m \u001b[0mvalue\u001b[0m\u001b[0;34m)\u001b[0m\u001b[0;34m\u001b[0m\u001b[0;34m\u001b[0m\u001b[0m\n",
      "\u001b[0;32m/usr/lib/python3/dist-packages/traitlets/traitlets.py\u001b[0m in \u001b[0;36mvalidate\u001b[0;34m(self, obj, value)\u001b[0m\n\u001b[1;32m   2240\u001b[0m             \u001b[0;32mreturn\u001b[0m \u001b[0mvalue\u001b[0m\u001b[0;34m\u001b[0m\u001b[0;34m\u001b[0m\u001b[0m\n\u001b[1;32m   2241\u001b[0m \u001b[0;34m\u001b[0m\u001b[0m\n\u001b[0;32m-> 2242\u001b[0;31m         \u001b[0mvalue\u001b[0m \u001b[0;34m=\u001b[0m \u001b[0mself\u001b[0m\u001b[0;34m.\u001b[0m\u001b[0mvalidate_elements\u001b[0m\u001b[0;34m(\u001b[0m\u001b[0mobj\u001b[0m\u001b[0;34m,\u001b[0m \u001b[0mvalue\u001b[0m\u001b[0;34m)\u001b[0m\u001b[0;34m\u001b[0m\u001b[0;34m\u001b[0m\u001b[0m\n\u001b[0m\u001b[1;32m   2243\u001b[0m \u001b[0;34m\u001b[0m\u001b[0m\n\u001b[1;32m   2244\u001b[0m         \u001b[0;32mreturn\u001b[0m \u001b[0mvalue\u001b[0m\u001b[0;34m\u001b[0m\u001b[0;34m\u001b[0m\u001b[0m\n",
      "\u001b[0;32m/usr/lib/python3/dist-packages/traitlets/traitlets.py\u001b[0m in \u001b[0;36mvalidate_elements\u001b[0;34m(self, obj, value)\u001b[0m\n\u001b[1;32m   2252\u001b[0m                 \u001b[0mv\u001b[0m \u001b[0;34m=\u001b[0m \u001b[0mself\u001b[0m\u001b[0;34m.\u001b[0m\u001b[0m_trait\u001b[0m\u001b[0;34m.\u001b[0m\u001b[0m_validate\u001b[0m\u001b[0;34m(\u001b[0m\u001b[0mobj\u001b[0m\u001b[0;34m,\u001b[0m \u001b[0mv\u001b[0m\u001b[0;34m)\u001b[0m\u001b[0;34m\u001b[0m\u001b[0;34m\u001b[0m\u001b[0m\n\u001b[1;32m   2253\u001b[0m             \u001b[0;32mexcept\u001b[0m \u001b[0mTraitError\u001b[0m\u001b[0;34m:\u001b[0m\u001b[0;34m\u001b[0m\u001b[0;34m\u001b[0m\u001b[0m\n\u001b[0;32m-> 2254\u001b[0;31m                 \u001b[0mself\u001b[0m\u001b[0;34m.\u001b[0m\u001b[0melement_error\u001b[0m\u001b[0;34m(\u001b[0m\u001b[0mobj\u001b[0m\u001b[0;34m,\u001b[0m \u001b[0mv\u001b[0m\u001b[0;34m,\u001b[0m \u001b[0mself\u001b[0m\u001b[0;34m.\u001b[0m\u001b[0m_trait\u001b[0m\u001b[0;34m)\u001b[0m\u001b[0;34m\u001b[0m\u001b[0;34m\u001b[0m\u001b[0m\n\u001b[0m\u001b[1;32m   2255\u001b[0m             \u001b[0;32melse\u001b[0m\u001b[0;34m:\u001b[0m\u001b[0;34m\u001b[0m\u001b[0;34m\u001b[0m\u001b[0m\n\u001b[1;32m   2256\u001b[0m                 \u001b[0mvalidated\u001b[0m\u001b[0;34m.\u001b[0m\u001b[0mappend\u001b[0m\u001b[0;34m(\u001b[0m\u001b[0mv\u001b[0m\u001b[0;34m)\u001b[0m\u001b[0;34m\u001b[0m\u001b[0;34m\u001b[0m\u001b[0m\n",
      "\u001b[0;32m/usr/lib/python3/dist-packages/traitlets/traitlets.py\u001b[0m in \u001b[0;36melement_error\u001b[0;34m(self, obj, element, validator)\u001b[0m\n\u001b[1;32m   2231\u001b[0m         \u001b[0me\u001b[0m \u001b[0;34m=\u001b[0m \u001b[0;34m\"Element of the '%s' trait of %s instance must be %s, but a value of %s was specified.\"\u001b[0m\u001b[0;31m \u001b[0m\u001b[0;31m\\\u001b[0m\u001b[0;34m\u001b[0m\u001b[0;34m\u001b[0m\u001b[0m\n\u001b[1;32m   2232\u001b[0m             \u001b[0;34m%\u001b[0m \u001b[0;34m(\u001b[0m\u001b[0mself\u001b[0m\u001b[0;34m.\u001b[0m\u001b[0mname\u001b[0m\u001b[0;34m,\u001b[0m \u001b[0mclass_of\u001b[0m\u001b[0;34m(\u001b[0m\u001b[0mobj\u001b[0m\u001b[0;34m)\u001b[0m\u001b[0;34m,\u001b[0m \u001b[0mvalidator\u001b[0m\u001b[0;34m.\u001b[0m\u001b[0minfo\u001b[0m\u001b[0;34m(\u001b[0m\u001b[0;34m)\u001b[0m\u001b[0;34m,\u001b[0m \u001b[0mrepr_type\u001b[0m\u001b[0;34m(\u001b[0m\u001b[0melement\u001b[0m\u001b[0;34m)\u001b[0m\u001b[0;34m)\u001b[0m\u001b[0;34m\u001b[0m\u001b[0;34m\u001b[0m\u001b[0m\n\u001b[0;32m-> 2233\u001b[0;31m         \u001b[0;32mraise\u001b[0m \u001b[0mTraitError\u001b[0m\u001b[0;34m(\u001b[0m\u001b[0me\u001b[0m\u001b[0;34m)\u001b[0m\u001b[0;34m\u001b[0m\u001b[0;34m\u001b[0m\u001b[0m\n\u001b[0m\u001b[1;32m   2234\u001b[0m \u001b[0;34m\u001b[0m\u001b[0m\n\u001b[1;32m   2235\u001b[0m     \u001b[0;32mdef\u001b[0m \u001b[0mvalidate\u001b[0m\u001b[0;34m(\u001b[0m\u001b[0mself\u001b[0m\u001b[0;34m,\u001b[0m \u001b[0mobj\u001b[0m\u001b[0;34m,\u001b[0m \u001b[0mvalue\u001b[0m\u001b[0;34m)\u001b[0m\u001b[0;34m:\u001b[0m\u001b[0;34m\u001b[0m\u001b[0;34m\u001b[0m\u001b[0m\n",
      "\u001b[0;31mTraitError\u001b[0m: Element of the 'children' trait of a Tab instance must be a Widget, but a value of [<function update_plot at 0x7fe229ec1ca0>, <function update_plot at 0x7fe229ec1ca0>, <function update_plot at 0x7fe229ec1ca0>] <class 'list'> was specified."
     ]
    }
   ],
   "source": [
    "fig, ax = plt.subplots(figsize=(9,4), tight_layout = True)\n",
    "\n",
    "\n",
    "slider_layout = widgets.Layout(width='600px', height='20px', margin='10px')\n",
    "def widget():\n",
    "    return widgets.interact(\n",
    "        update_plot, \n",
    "        country1=widgets.Dropdown(\n",
    "            options=paises_ocde,\n",
    "            value='US',\n",
    "            description='Country 1:'\n",
    "        ),\n",
    "        country2=widgets.Dropdown(\n",
    "            options=paises_ocde,\n",
    "            value='Chile',\n",
    "            description='Country 2:'\n",
    "        ),\n",
    "        dataframe=widgets.Dropdown(\n",
    "            options=paises_ocde,\n",
    "            value='US',\n",
    "            description='Country 1:'\n",
    "        ));\n",
    "\n",
    "children = [widget() for name in tab_contents]\n",
    "display(widgets.Tab((children,)))"
   ]
  },
  {
   "cell_type": "code",
   "execution_count": 35,
   "metadata": {},
   "outputs": [
    {
     "output_type": "display_data",
     "data": {
      "text/plain": "Tab(children=(Output(),))",
      "application/vnd.jupyter.widget-view+json": {
       "version_major": 2,
       "version_minor": 0,
       "model_id": "2f51a8be3a60435d9b1b424b4b0e825b"
      }
     },
     "metadata": {}
    }
   ],
   "source": [
    "from ipywidgets import Output, Tab\n",
    "from matplotlib import pyplot as plt\n",
    "\n",
    "out = Output()\n",
    "t = Tab()\n",
    "t.children = [out]\n",
    "t\n",
    "\n",
    "\n"
   ]
  },
  {
   "cell_type": "code",
   "execution_count": 34,
   "metadata": {},
   "outputs": [],
   "source": [
    "with out:\n",
    "    plt.plot([1,2,3], [4,5,2])\n",
    "    plt.show()"
   ]
  },
  {
   "cell_type": "markdown",
   "metadata": {},
   "source": [
    "### Dashboard interactivo (1.0pt)\n",
    "\n",
    "Implemente un *dashboard web* interactivo a partir de la interfaz desarrollada en el punto anterior utilizando la librería [voila](https://github.com/voila-dashboards/voila). Sirva su interfaz en la nube, para esto puede considerar los servicios gratuitos [binder](https://mybinder.org/) o [heroku](https://www.heroku.com/free). Revise la documentación de voila [con respecto a *deployment* en la nube](https://voila.readthedocs.io/en/stable/deploy.html) y este repositorio con [un ejemplo en base a heroku](https://github.com/voila-dashboards/voila-heroku). Entregue el link de su dashboard web"
   ]
  },
  {
   "cell_type": "code",
   "execution_count": null,
   "metadata": {},
   "outputs": [],
   "source": []
  }
 ],
 "metadata": {
  "kernelspec": {
   "name": "python385jvsc74a57bd0916dbcbb3f70747c44a77c7bcd40155683ae19c65e1c03b4aa3499c5328201f1",
   "display_name": "Python 3.8.5 64-bit"
  },
  "language_info": {
   "codemirror_mode": {
    "name": "ipython",
    "version": 3
   },
   "file_extension": ".py",
   "mimetype": "text/x-python",
   "name": "python",
   "nbconvert_exporter": "python",
   "pygments_lexer": "ipython3",
   "version": "3.8.5"
  },
  "metadata": {
   "interpreter": {
    "hash": "916dbcbb3f70747c44a77c7bcd40155683ae19c65e1c03b4aa3499c5328201f1"
   }
  },
  "toc": {
   "base_numbering": 1,
   "nav_menu": {},
   "number_sections": true,
   "sideBar": true,
   "skip_h1_title": false,
   "title_cell": "Table of Contents",
   "title_sidebar": "Contents",
   "toc_cell": false,
   "toc_position": {},
   "toc_section_display": true,
   "toc_window_display": false
  }
 },
 "nbformat": 4,
 "nbformat_minor": 2
}