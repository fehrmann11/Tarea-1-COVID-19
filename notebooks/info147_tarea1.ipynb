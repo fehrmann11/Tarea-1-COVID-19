{
 "cells": [
  {
   "cell_type": "code",
   "execution_count": 1,
   "metadata": {},
   "outputs": [],
   "source": [
    "%matplotlib ipympl\n",
    "import pandas as pd\n",
    "import matplotlib.pyplot as plt\n",
    "import numpy as np\n",
    "import ipywidgets as widgets\n"
   ]
  },
  {
   "cell_type": "markdown",
   "metadata": {},
   "source": [
    "# Tarea 1: Explorando datos mundiales de COVID-19 \n",
    "\n",
    "En esta actividad se pide que explore los datos del repositorio [\"COVID-19 Data Repository by the Center for Systems Science and Engineering (CSSE) at Johns Hopkins University\"](https://github.com/CSSEGISandData/COVID-19)\n",
    "\n",
    "Adjunto a este cuadernillo encontrará los datos al 26 de Abril de 2021 de dicho repositorio en el archivo `data.zip`. Luego de descomprimir debería observar cuatro archivos\n",
    "\n",
    "- `covid19_confirmados.csv` : Número de casos diarios acumulado reportados como COVID-19 positivos (confirmados)\n",
    "- `covid19_recuperados.csv` : Número de casos diarios acumulado reportados como recuperados \n",
    "- `covid19_decesos.csv` : Número de decesos diarios por COVID-19 acumulado \n",
    "- `population_by_country_2020.csv`:  Población por país más otros indicadores socioeconómicos al 2020 descargados desde: https://www.kaggle.com/tanuprabhu/population-by-country-2020\n",
    "\n",
    "En los primeros tres archivos cada fila corresponde a un país o un estado/provincia de un país. Las columnas son las coordenadas geográficas (latitud y longitud) y el número de casos diarios para cada día desde Enero de 2020 a la fecha. Según quienes compilaron este repositorio, la información de casos recuperados debe analizarse con cautela pues podría estar considerablemente subestimada. \n",
    "\n",
    "A modo de ejemplo se muestra a continuación una gráfica de la series de tiempo del número de casos confirmados totales acumulados de Chile, Argentina y Bolivia \n",
    "\n",
    "<img src=\"ejemplo1.png\">\n",
    "\n",
    "A partir de esta información se puede calcular la serie de tiempo de los casos confirmados \"nuevos\" por día\n",
    "\n",
    "<img src=\"ejemplo2.png\">\n",
    "\n",
    "En esta tarea se pide que procese, visualice, analice y discuta en base a estos datos. Escriba las rutinas de Python necesarias para resolver las actividades específicas que encontrará en este enunciado. **Use las librerías vistas en el curso**. Discuta con sus compañeros de grupo y complete con su análisis donde corresponda."
   ]
  },
  {
   "cell_type": "markdown",
   "metadata": {},
   "source": [
    "## Instrucciones generales \n",
    "\n",
    "1. Forme un grupo de **máximo tres estudiantes**\n",
    "1. Versione su trabajo usando un **repositorio privado de github**. Agregue a sus compañeros y a su profesor (usuario github: phuijse) en la pestaña *Settings/Manage access*. No se aceptarán consultas de programación si no se cumple este requisito\n",
    "1. Su tarea se evaluará en base al último commit antes de la fecha de entrega: **14:10 del Martes 11 de Mayo de 2021**. La nota se calcula como (\"pt totales\" + 1)\n",
    "1. [Sean leales y honestos](https://www.acm.org/about-acm/code-of-ethics-in-spanish), no copie ni comparta resultados con otros grupos"
   ]
  },
  {
   "cell_type": "markdown",
   "metadata": {},
   "source": [
    "## Enunciado"
   ]
  },
  {
   "cell_type": "markdown",
   "metadata": {},
   "source": [
    "### Preparación de datos (1.5pt)"
   ]
  },
  {
   "cell_type": "markdown",
   "metadata": {},
   "source": [
    "1. Explore el archivo `covid19_confirmados.csv` y configure la función `read_csv` de pandas para importarlo como un `DataFrame`. \n",
    "    1. Utilice el nombre de país como índice principal\n",
    "    1. Elimine las columnas `Lat` y `Long`\n",
    "    1. Use TimeStamps para los \"nombres de columna\" asociados a fechas\n",
    "    1. Reduzca la columna `Province/State`, el DataFrame resultante debe tener los totales a nivel país\n",
    "1. Explore el archivo `population_by_country_2020.csv` y configure la función `read_csv` de pandas para importarlo como un `DataFrame`. \n",
    "    1. Utilice el nombre de país como índice principal. Algunos siglas o nombres podrían no calzar con el `DataFrame` anterior, modifíquelos manualmente o usando pandas. \n",
    "1. Haga un `merge` de los `DataFrame` anteriores. El objetivo es asignar un valor de `Population` a cada elemento del primer `DataFrame`. Indique las filas donde no se puede realizar el `merge` y luego descártelas de su `DataFrame` final\n",
    "1. Repita el procedimiento anterior para los archivos `covid19_recuperados.csv` y `covid19_muertes.csv` "
   ]
  },
  {
   "cell_type": "markdown",
   "metadata": {},
   "source": [
    "### Pregunta 1"
   ]
  },
  {
   "cell_type": "markdown",
   "metadata": {},
   "source": [
    "### A."
   ]
  },
  {
   "cell_type": "code",
   "execution_count": 2,
   "metadata": {},
   "outputs": [],
   "source": [
    "df_confirmados = pd.read_csv('data/covid19_confirmados.csv', index_col='Country/Region', parse_dates=True)"
   ]
  },
  {
   "cell_type": "markdown",
   "metadata": {},
   "source": [
    "### B"
   ]
  },
  {
   "cell_type": "code",
   "execution_count": 3,
   "metadata": {},
   "outputs": [],
   "source": [
    "df_confirmados.drop(['Lat', 'Long'], axis=1, inplace=True)"
   ]
  },
  {
   "cell_type": "markdown",
   "metadata": {},
   "source": [
    "### C y D"
   ]
  },
  {
   "cell_type": "code",
   "execution_count": 4,
   "metadata": {},
   "outputs": [
    {
     "output_type": "execute_result",
     "data": {
      "text/plain": [
       "                    2020-01-22  2020-01-23  2020-01-24  2020-01-25  \\\n",
       "Country/Region                                                       \n",
       "Afghanistan                  0           0           0           0   \n",
       "Albania                      0           0           0           0   \n",
       "Algeria                      0           0           0           0   \n",
       "Andorra                      0           0           0           0   \n",
       "Angola                       0           0           0           0   \n",
       "...                        ...         ...         ...         ...   \n",
       "Vietnam                      0           2           2           2   \n",
       "West Bank and Gaza           0           0           0           0   \n",
       "Yemen                        0           0           0           0   \n",
       "Zambia                       0           0           0           0   \n",
       "Zimbabwe                     0           0           0           0   \n",
       "\n",
       "                    2020-01-26  2020-01-27  2020-01-28  2020-01-29  \\\n",
       "Country/Region                                                       \n",
       "Afghanistan                  0           0           0           0   \n",
       "Albania                      0           0           0           0   \n",
       "Algeria                      0           0           0           0   \n",
       "Andorra                      0           0           0           0   \n",
       "Angola                       0           0           0           0   \n",
       "...                        ...         ...         ...         ...   \n",
       "Vietnam                      2           2           2           2   \n",
       "West Bank and Gaza           0           0           0           0   \n",
       "Yemen                        0           0           0           0   \n",
       "Zambia                       0           0           0           0   \n",
       "Zimbabwe                     0           0           0           0   \n",
       "\n",
       "                    2020-01-30  2020-01-31  ...  2021-04-16  2021-04-17  \\\n",
       "Country/Region                              ...                           \n",
       "Afghanistan                  0           0  ...       57612       57721   \n",
       "Albania                      0           0  ...      129307      129456   \n",
       "Algeria                      0           0  ...      119323      119486   \n",
       "Andorra                      0           0  ...       12712       12771   \n",
       "Angola                       0           0  ...       24122       24300   \n",
       "...                        ...         ...  ...         ...         ...   \n",
       "Vietnam                      2           2  ...        2772        2781   \n",
       "West Bank and Gaza           0           0  ...      278135      279753   \n",
       "Yemen                        0           0  ...        5715        5770   \n",
       "Zambia                       0           0  ...       90750       90844   \n",
       "Zimbabwe                     0           0  ...       37534       37699   \n",
       "\n",
       "                    2021-04-18  2021-04-19  2021-04-20  2021-04-21  \\\n",
       "Country/Region                                                       \n",
       "Afghanistan              57793       57898       58037       58214   \n",
       "Albania                 129594      129694      129842      129980   \n",
       "Algeria                 119642      119805      119992      120174   \n",
       "Andorra                  12805       12805       12874       12917   \n",
       "Angola                   24389       24518       24661       24883   \n",
       "...                        ...         ...         ...         ...   \n",
       "Vietnam                   2785        2791        2800        2812   \n",
       "West Bank and Gaza      280741      282270      284280      286028   \n",
       "Yemen                     5812        5858        5918        5960   \n",
       "Zambia                   90918       90942       91042       91119   \n",
       "Zimbabwe                 37751       37859       37875       37980   \n",
       "\n",
       "                    2021-04-22  2021-04-23  2021-04-24  2021-04-25  \n",
       "Country/Region                                                      \n",
       "Afghanistan              58312       58542       58730       58843  \n",
       "Albania                 130114      130270      130409      130537  \n",
       "Algeria                 120363      120562      120736      120922  \n",
       "Andorra                  12942       13007       13024       13060  \n",
       "Angola                   25051       25279       25492       25609  \n",
       "...                        ...         ...         ...         ...  \n",
       "Vietnam                   2824        2830        2833        2843  \n",
       "West Bank and Gaza      287680      289120      290259      290972  \n",
       "Yemen                     6020        6056        6105        6137  \n",
       "Zambia                   91189       91251       91317       91358  \n",
       "Zimbabwe                 38018       38045       38064       38086  \n",
       "\n",
       "[192 rows x 460 columns]"
      ],
      "text/html": "<div>\n<style scoped>\n    .dataframe tbody tr th:only-of-type {\n        vertical-align: middle;\n    }\n\n    .dataframe tbody tr th {\n        vertical-align: top;\n    }\n\n    .dataframe thead th {\n        text-align: right;\n    }\n</style>\n<table border=\"1\" class=\"dataframe\">\n  <thead>\n    <tr style=\"text-align: right;\">\n      <th></th>\n      <th>2020-01-22</th>\n      <th>2020-01-23</th>\n      <th>2020-01-24</th>\n      <th>2020-01-25</th>\n      <th>2020-01-26</th>\n      <th>2020-01-27</th>\n      <th>2020-01-28</th>\n      <th>2020-01-29</th>\n      <th>2020-01-30</th>\n      <th>2020-01-31</th>\n      <th>...</th>\n      <th>2021-04-16</th>\n      <th>2021-04-17</th>\n      <th>2021-04-18</th>\n      <th>2021-04-19</th>\n      <th>2021-04-20</th>\n      <th>2021-04-21</th>\n      <th>2021-04-22</th>\n      <th>2021-04-23</th>\n      <th>2021-04-24</th>\n      <th>2021-04-25</th>\n    </tr>\n    <tr>\n      <th>Country/Region</th>\n      <th></th>\n      <th></th>\n      <th></th>\n      <th></th>\n      <th></th>\n      <th></th>\n      <th></th>\n      <th></th>\n      <th></th>\n      <th></th>\n      <th></th>\n      <th></th>\n      <th></th>\n      <th></th>\n      <th></th>\n      <th></th>\n      <th></th>\n      <th></th>\n      <th></th>\n      <th></th>\n      <th></th>\n    </tr>\n  </thead>\n  <tbody>\n    <tr>\n      <th>Afghanistan</th>\n      <td>0</td>\n      <td>0</td>\n      <td>0</td>\n      <td>0</td>\n      <td>0</td>\n      <td>0</td>\n      <td>0</td>\n      <td>0</td>\n      <td>0</td>\n      <td>0</td>\n      <td>...</td>\n      <td>57612</td>\n      <td>57721</td>\n      <td>57793</td>\n      <td>57898</td>\n      <td>58037</td>\n      <td>58214</td>\n      <td>58312</td>\n      <td>58542</td>\n      <td>58730</td>\n      <td>58843</td>\n    </tr>\n    <tr>\n      <th>Albania</th>\n      <td>0</td>\n      <td>0</td>\n      <td>0</td>\n      <td>0</td>\n      <td>0</td>\n      <td>0</td>\n      <td>0</td>\n      <td>0</td>\n      <td>0</td>\n      <td>0</td>\n      <td>...</td>\n      <td>129307</td>\n      <td>129456</td>\n      <td>129594</td>\n      <td>129694</td>\n      <td>129842</td>\n      <td>129980</td>\n      <td>130114</td>\n      <td>130270</td>\n      <td>130409</td>\n      <td>130537</td>\n    </tr>\n    <tr>\n      <th>Algeria</th>\n      <td>0</td>\n      <td>0</td>\n      <td>0</td>\n      <td>0</td>\n      <td>0</td>\n      <td>0</td>\n      <td>0</td>\n      <td>0</td>\n      <td>0</td>\n      <td>0</td>\n      <td>...</td>\n      <td>119323</td>\n      <td>119486</td>\n      <td>119642</td>\n      <td>119805</td>\n      <td>119992</td>\n      <td>120174</td>\n      <td>120363</td>\n      <td>120562</td>\n      <td>120736</td>\n      <td>120922</td>\n    </tr>\n    <tr>\n      <th>Andorra</th>\n      <td>0</td>\n      <td>0</td>\n      <td>0</td>\n      <td>0</td>\n      <td>0</td>\n      <td>0</td>\n      <td>0</td>\n      <td>0</td>\n      <td>0</td>\n      <td>0</td>\n      <td>...</td>\n      <td>12712</td>\n      <td>12771</td>\n      <td>12805</td>\n      <td>12805</td>\n      <td>12874</td>\n      <td>12917</td>\n      <td>12942</td>\n      <td>13007</td>\n      <td>13024</td>\n      <td>13060</td>\n    </tr>\n    <tr>\n      <th>Angola</th>\n      <td>0</td>\n      <td>0</td>\n      <td>0</td>\n      <td>0</td>\n      <td>0</td>\n      <td>0</td>\n      <td>0</td>\n      <td>0</td>\n      <td>0</td>\n      <td>0</td>\n      <td>...</td>\n      <td>24122</td>\n      <td>24300</td>\n      <td>24389</td>\n      <td>24518</td>\n      <td>24661</td>\n      <td>24883</td>\n      <td>25051</td>\n      <td>25279</td>\n      <td>25492</td>\n      <td>25609</td>\n    </tr>\n    <tr>\n      <th>...</th>\n      <td>...</td>\n      <td>...</td>\n      <td>...</td>\n      <td>...</td>\n      <td>...</td>\n      <td>...</td>\n      <td>...</td>\n      <td>...</td>\n      <td>...</td>\n      <td>...</td>\n      <td>...</td>\n      <td>...</td>\n      <td>...</td>\n      <td>...</td>\n      <td>...</td>\n      <td>...</td>\n      <td>...</td>\n      <td>...</td>\n      <td>...</td>\n      <td>...</td>\n      <td>...</td>\n    </tr>\n    <tr>\n      <th>Vietnam</th>\n      <td>0</td>\n      <td>2</td>\n      <td>2</td>\n      <td>2</td>\n      <td>2</td>\n      <td>2</td>\n      <td>2</td>\n      <td>2</td>\n      <td>2</td>\n      <td>2</td>\n      <td>...</td>\n      <td>2772</td>\n      <td>2781</td>\n      <td>2785</td>\n      <td>2791</td>\n      <td>2800</td>\n      <td>2812</td>\n      <td>2824</td>\n      <td>2830</td>\n      <td>2833</td>\n      <td>2843</td>\n    </tr>\n    <tr>\n      <th>West Bank and Gaza</th>\n      <td>0</td>\n      <td>0</td>\n      <td>0</td>\n      <td>0</td>\n      <td>0</td>\n      <td>0</td>\n      <td>0</td>\n      <td>0</td>\n      <td>0</td>\n      <td>0</td>\n      <td>...</td>\n      <td>278135</td>\n      <td>279753</td>\n      <td>280741</td>\n      <td>282270</td>\n      <td>284280</td>\n      <td>286028</td>\n      <td>287680</td>\n      <td>289120</td>\n      <td>290259</td>\n      <td>290972</td>\n    </tr>\n    <tr>\n      <th>Yemen</th>\n      <td>0</td>\n      <td>0</td>\n      <td>0</td>\n      <td>0</td>\n      <td>0</td>\n      <td>0</td>\n      <td>0</td>\n      <td>0</td>\n      <td>0</td>\n      <td>0</td>\n      <td>...</td>\n      <td>5715</td>\n      <td>5770</td>\n      <td>5812</td>\n      <td>5858</td>\n      <td>5918</td>\n      <td>5960</td>\n      <td>6020</td>\n      <td>6056</td>\n      <td>6105</td>\n      <td>6137</td>\n    </tr>\n    <tr>\n      <th>Zambia</th>\n      <td>0</td>\n      <td>0</td>\n      <td>0</td>\n      <td>0</td>\n      <td>0</td>\n      <td>0</td>\n      <td>0</td>\n      <td>0</td>\n      <td>0</td>\n      <td>0</td>\n      <td>...</td>\n      <td>90750</td>\n      <td>90844</td>\n      <td>90918</td>\n      <td>90942</td>\n      <td>91042</td>\n      <td>91119</td>\n      <td>91189</td>\n      <td>91251</td>\n      <td>91317</td>\n      <td>91358</td>\n    </tr>\n    <tr>\n      <th>Zimbabwe</th>\n      <td>0</td>\n      <td>0</td>\n      <td>0</td>\n      <td>0</td>\n      <td>0</td>\n      <td>0</td>\n      <td>0</td>\n      <td>0</td>\n      <td>0</td>\n      <td>0</td>\n      <td>...</td>\n      <td>37534</td>\n      <td>37699</td>\n      <td>37751</td>\n      <td>37859</td>\n      <td>37875</td>\n      <td>37980</td>\n      <td>38018</td>\n      <td>38045</td>\n      <td>38064</td>\n      <td>38086</td>\n    </tr>\n  </tbody>\n</table>\n<p>192 rows × 460 columns</p>\n</div>"
     },
     "metadata": {},
     "execution_count": 4
    }
   ],
   "source": [
    "df_confirmados = df_confirmados.groupby('Country/Region').sum()\n",
    "df_confirmados.columns = pd.to_datetime(df_confirmados.columns)\n",
    "df_confirmados.columns = sorted(df_confirmados.columns)\n",
    "df_confirmados"
   ]
  },
  {
   "cell_type": "markdown",
   "metadata": {},
   "source": [
    "## Pregunta 2"
   ]
  },
  {
   "cell_type": "markdown",
   "metadata": {},
   "source": [
    "### A"
   ]
  },
  {
   "cell_type": "code",
   "execution_count": 5,
   "metadata": {},
   "outputs": [],
   "source": [
    "df_population = pd.read_csv('data/population_by_country_2020.csv',index_col = 'Country (or dependency)')"
   ]
  },
  {
   "cell_type": "code",
   "execution_count": 6,
   "metadata": {},
   "outputs": [
    {
     "output_type": "execute_result",
     "data": {
      "text/plain": [
       "                  Population (2020) Yearly Change  Net Change  \\\n",
       "Country/Region                                                  \n",
       "China                    1440297825        0.39 %     5540090   \n",
       "India                    1382345085        0.99 %    13586631   \n",
       "United States             331341050        0.59 %     1937734   \n",
       "Indonesia                 274021604        1.07 %     2898047   \n",
       "Pakistan                  221612785        2.00 %     4327022   \n",
       "...                             ...           ...         ...   \n",
       "Montserrat                     4993        0.06 %           3   \n",
       "Falkland Islands               3497        3.05 %         103   \n",
       "Niue                           1628        0.68 %          11   \n",
       "Tokelau                        1360        1.27 %          17   \n",
       "Holy See                        801        0.25 %           2   \n",
       "\n",
       "                  Density (P/Km²)  Land Area (Km²)  Migrants (net) Fert. Rate  \\\n",
       "Country/Region                                                                  \n",
       "China                         153          9388211       -348399.0        1.7   \n",
       "India                         464          2973190       -532687.0        2.2   \n",
       "United States                  36          9147420        954806.0        1.8   \n",
       "Indonesia                     151          1811570        -98955.0        2.3   \n",
       "Pakistan                      287           770880       -233379.0        3.6   \n",
       "...                           ...              ...             ...        ...   \n",
       "Montserrat                     50              100             NaN       N.A.   \n",
       "Falkland Islands                0            12170             NaN       N.A.   \n",
       "Niue                            6              260             NaN       N.A.   \n",
       "Tokelau                       136               10             NaN       N.A.   \n",
       "Holy See                     2003                0             NaN       N.A.   \n",
       "\n",
       "                 Med. Age Urban Pop % World Share  \n",
       "Country/Region                                     \n",
       "China                  38        61 %     18.47 %  \n",
       "India                  28        35 %     17.70 %  \n",
       "United States          38        83 %      4.25 %  \n",
       "Indonesia              30        56 %      3.51 %  \n",
       "Pakistan               23        35 %      2.83 %  \n",
       "...                   ...         ...         ...  \n",
       "Montserrat           N.A.        10 %      0.00 %  \n",
       "Falkland Islands     N.A.        66 %      0.00 %  \n",
       "Niue                 N.A.        46 %      0.00 %  \n",
       "Tokelau              N.A.         0 %      0.00 %  \n",
       "Holy See             N.A.        N.A.      0.00 %  \n",
       "\n",
       "[235 rows x 10 columns]"
      ],
      "text/html": "<div>\n<style scoped>\n    .dataframe tbody tr th:only-of-type {\n        vertical-align: middle;\n    }\n\n    .dataframe tbody tr th {\n        vertical-align: top;\n    }\n\n    .dataframe thead th {\n        text-align: right;\n    }\n</style>\n<table border=\"1\" class=\"dataframe\">\n  <thead>\n    <tr style=\"text-align: right;\">\n      <th></th>\n      <th>Population (2020)</th>\n      <th>Yearly Change</th>\n      <th>Net Change</th>\n      <th>Density (P/Km²)</th>\n      <th>Land Area (Km²)</th>\n      <th>Migrants (net)</th>\n      <th>Fert. Rate</th>\n      <th>Med. Age</th>\n      <th>Urban Pop %</th>\n      <th>World Share</th>\n    </tr>\n    <tr>\n      <th>Country/Region</th>\n      <th></th>\n      <th></th>\n      <th></th>\n      <th></th>\n      <th></th>\n      <th></th>\n      <th></th>\n      <th></th>\n      <th></th>\n      <th></th>\n    </tr>\n  </thead>\n  <tbody>\n    <tr>\n      <th>China</th>\n      <td>1440297825</td>\n      <td>0.39 %</td>\n      <td>5540090</td>\n      <td>153</td>\n      <td>9388211</td>\n      <td>-348399.0</td>\n      <td>1.7</td>\n      <td>38</td>\n      <td>61 %</td>\n      <td>18.47 %</td>\n    </tr>\n    <tr>\n      <th>India</th>\n      <td>1382345085</td>\n      <td>0.99 %</td>\n      <td>13586631</td>\n      <td>464</td>\n      <td>2973190</td>\n      <td>-532687.0</td>\n      <td>2.2</td>\n      <td>28</td>\n      <td>35 %</td>\n      <td>17.70 %</td>\n    </tr>\n    <tr>\n      <th>United States</th>\n      <td>331341050</td>\n      <td>0.59 %</td>\n      <td>1937734</td>\n      <td>36</td>\n      <td>9147420</td>\n      <td>954806.0</td>\n      <td>1.8</td>\n      <td>38</td>\n      <td>83 %</td>\n      <td>4.25 %</td>\n    </tr>\n    <tr>\n      <th>Indonesia</th>\n      <td>274021604</td>\n      <td>1.07 %</td>\n      <td>2898047</td>\n      <td>151</td>\n      <td>1811570</td>\n      <td>-98955.0</td>\n      <td>2.3</td>\n      <td>30</td>\n      <td>56 %</td>\n      <td>3.51 %</td>\n    </tr>\n    <tr>\n      <th>Pakistan</th>\n      <td>221612785</td>\n      <td>2.00 %</td>\n      <td>4327022</td>\n      <td>287</td>\n      <td>770880</td>\n      <td>-233379.0</td>\n      <td>3.6</td>\n      <td>23</td>\n      <td>35 %</td>\n      <td>2.83 %</td>\n    </tr>\n    <tr>\n      <th>...</th>\n      <td>...</td>\n      <td>...</td>\n      <td>...</td>\n      <td>...</td>\n      <td>...</td>\n      <td>...</td>\n      <td>...</td>\n      <td>...</td>\n      <td>...</td>\n      <td>...</td>\n    </tr>\n    <tr>\n      <th>Montserrat</th>\n      <td>4993</td>\n      <td>0.06 %</td>\n      <td>3</td>\n      <td>50</td>\n      <td>100</td>\n      <td>NaN</td>\n      <td>N.A.</td>\n      <td>N.A.</td>\n      <td>10 %</td>\n      <td>0.00 %</td>\n    </tr>\n    <tr>\n      <th>Falkland Islands</th>\n      <td>3497</td>\n      <td>3.05 %</td>\n      <td>103</td>\n      <td>0</td>\n      <td>12170</td>\n      <td>NaN</td>\n      <td>N.A.</td>\n      <td>N.A.</td>\n      <td>66 %</td>\n      <td>0.00 %</td>\n    </tr>\n    <tr>\n      <th>Niue</th>\n      <td>1628</td>\n      <td>0.68 %</td>\n      <td>11</td>\n      <td>6</td>\n      <td>260</td>\n      <td>NaN</td>\n      <td>N.A.</td>\n      <td>N.A.</td>\n      <td>46 %</td>\n      <td>0.00 %</td>\n    </tr>\n    <tr>\n      <th>Tokelau</th>\n      <td>1360</td>\n      <td>1.27 %</td>\n      <td>17</td>\n      <td>136</td>\n      <td>10</td>\n      <td>NaN</td>\n      <td>N.A.</td>\n      <td>N.A.</td>\n      <td>0 %</td>\n      <td>0.00 %</td>\n    </tr>\n    <tr>\n      <th>Holy See</th>\n      <td>801</td>\n      <td>0.25 %</td>\n      <td>2</td>\n      <td>2003</td>\n      <td>0</td>\n      <td>NaN</td>\n      <td>N.A.</td>\n      <td>N.A.</td>\n      <td>N.A.</td>\n      <td>0.00 %</td>\n    </tr>\n  </tbody>\n</table>\n<p>235 rows × 10 columns</p>\n</div>"
     },
     "metadata": {},
     "execution_count": 6
    }
   ],
   "source": [
    "df_population.index.names=['Country/Region']\n",
    "df_population"
   ]
  },
  {
   "cell_type": "markdown",
   "metadata": {},
   "source": [
    "### Pregunta 3"
   ]
  },
  {
   "cell_type": "code",
   "execution_count": 7,
   "metadata": {},
   "outputs": [
    {
     "output_type": "execute_result",
     "data": {
      "text/plain": [
       "                    2020-01-22 00:00:00  2020-01-23 00:00:00  \\\n",
       "Country/Region                                                 \n",
       "Afghanistan                           0                    0   \n",
       "Albania                               0                    0   \n",
       "Algeria                               0                    0   \n",
       "Andorra                               0                    0   \n",
       "Angola                                0                    0   \n",
       "...                                 ...                  ...   \n",
       "Vietnam                               0                    2   \n",
       "West Bank and Gaza                    0                    0   \n",
       "Yemen                                 0                    0   \n",
       "Zambia                                0                    0   \n",
       "Zimbabwe                              0                    0   \n",
       "\n",
       "                    2020-01-24 00:00:00  2020-01-25 00:00:00  \\\n",
       "Country/Region                                                 \n",
       "Afghanistan                           0                    0   \n",
       "Albania                               0                    0   \n",
       "Algeria                               0                    0   \n",
       "Andorra                               0                    0   \n",
       "Angola                                0                    0   \n",
       "...                                 ...                  ...   \n",
       "Vietnam                               2                    2   \n",
       "West Bank and Gaza                    0                    0   \n",
       "Yemen                                 0                    0   \n",
       "Zambia                                0                    0   \n",
       "Zimbabwe                              0                    0   \n",
       "\n",
       "                    2020-01-26 00:00:00  2020-01-27 00:00:00  \\\n",
       "Country/Region                                                 \n",
       "Afghanistan                           0                    0   \n",
       "Albania                               0                    0   \n",
       "Algeria                               0                    0   \n",
       "Andorra                               0                    0   \n",
       "Angola                                0                    0   \n",
       "...                                 ...                  ...   \n",
       "Vietnam                               2                    2   \n",
       "West Bank and Gaza                    0                    0   \n",
       "Yemen                                 0                    0   \n",
       "Zambia                                0                    0   \n",
       "Zimbabwe                              0                    0   \n",
       "\n",
       "                    2020-01-28 00:00:00  2020-01-29 00:00:00  \\\n",
       "Country/Region                                                 \n",
       "Afghanistan                           0                    0   \n",
       "Albania                               0                    0   \n",
       "Algeria                               0                    0   \n",
       "Andorra                               0                    0   \n",
       "Angola                                0                    0   \n",
       "...                                 ...                  ...   \n",
       "Vietnam                               2                    2   \n",
       "West Bank and Gaza                    0                    0   \n",
       "Yemen                                 0                    0   \n",
       "Zambia                                0                    0   \n",
       "Zimbabwe                              0                    0   \n",
       "\n",
       "                    2020-01-30 00:00:00  2020-01-31 00:00:00  ...  \\\n",
       "Country/Region                                                ...   \n",
       "Afghanistan                           0                    0  ...   \n",
       "Albania                               0                    0  ...   \n",
       "Algeria                               0                    0  ...   \n",
       "Andorra                               0                    0  ...   \n",
       "Angola                                0                    0  ...   \n",
       "...                                 ...                  ...  ...   \n",
       "Vietnam                               2                    2  ...   \n",
       "West Bank and Gaza                    0                    0  ...   \n",
       "Yemen                                 0                    0  ...   \n",
       "Zambia                                0                    0  ...   \n",
       "Zimbabwe                              0                    0  ...   \n",
       "\n",
       "                    Population (2020)  Yearly Change  Net Change  \\\n",
       "Country/Region                                                     \n",
       "Afghanistan                39074280.0         2.33 %    886592.0   \n",
       "Albania                     2877239.0        -0.11 %     -3120.0   \n",
       "Algeria                    43984569.0         1.85 %    797990.0   \n",
       "Andorra                       77287.0         0.16 %       123.0   \n",
       "Angola                     33032075.0         3.27 %   1040977.0   \n",
       "...                               ...            ...         ...   \n",
       "Vietnam                    97490013.0         0.91 %    876473.0   \n",
       "West Bank and Gaza                NaN            NaN         NaN   \n",
       "Yemen                      29935468.0         2.28 %    664042.0   \n",
       "Zambia                     18468257.0         2.93 %    522925.0   \n",
       "Zimbabwe                   14899771.0         1.48 %    217456.0   \n",
       "\n",
       "                    Density (P/Km²)  Land Area (Km²)  Migrants (net)  \\\n",
       "Country/Region                                                         \n",
       "Afghanistan                    60.0         652860.0        -62920.0   \n",
       "Albania                       105.0          27400.0        -14000.0   \n",
       "Algeria                        18.0        2381740.0        -10000.0   \n",
       "Andorra                       164.0            470.0             NaN   \n",
       "Angola                         26.0        1246700.0          6413.0   \n",
       "...                             ...              ...             ...   \n",
       "Vietnam                       314.0         310070.0        -80000.0   \n",
       "West Bank and Gaza              NaN              NaN             NaN   \n",
       "Yemen                          56.0         527970.0        -30000.0   \n",
       "Zambia                         25.0         743390.0         -8000.0   \n",
       "Zimbabwe                       38.0         386850.0       -116858.0   \n",
       "\n",
       "                    Fert. Rate  Med. Age  Urban Pop %  World Share  \n",
       "Country/Region                                                      \n",
       "Afghanistan                4.6        18         25 %       0.50 %  \n",
       "Albania                    1.6        36         63 %       0.04 %  \n",
       "Algeria                    3.1        29         73 %       0.56 %  \n",
       "Andorra                   N.A.      N.A.         88 %       0.00 %  \n",
       "Angola                     5.6        17         67 %       0.42 %  \n",
       "...                        ...       ...          ...          ...  \n",
       "Vietnam                    2.1        32         38 %       1.25 %  \n",
       "West Bank and Gaza         NaN       NaN          NaN          NaN  \n",
       "Yemen                      3.8        20         38 %       0.38 %  \n",
       "Zambia                     4.7        18         45 %       0.24 %  \n",
       "Zimbabwe                   3.6        19         38 %       0.19 %  \n",
       "\n",
       "[192 rows x 470 columns]"
      ],
      "text/html": "<div>\n<style scoped>\n    .dataframe tbody tr th:only-of-type {\n        vertical-align: middle;\n    }\n\n    .dataframe tbody tr th {\n        vertical-align: top;\n    }\n\n    .dataframe thead th {\n        text-align: right;\n    }\n</style>\n<table border=\"1\" class=\"dataframe\">\n  <thead>\n    <tr style=\"text-align: right;\">\n      <th></th>\n      <th>2020-01-22 00:00:00</th>\n      <th>2020-01-23 00:00:00</th>\n      <th>2020-01-24 00:00:00</th>\n      <th>2020-01-25 00:00:00</th>\n      <th>2020-01-26 00:00:00</th>\n      <th>2020-01-27 00:00:00</th>\n      <th>2020-01-28 00:00:00</th>\n      <th>2020-01-29 00:00:00</th>\n      <th>2020-01-30 00:00:00</th>\n      <th>2020-01-31 00:00:00</th>\n      <th>...</th>\n      <th>Population (2020)</th>\n      <th>Yearly Change</th>\n      <th>Net Change</th>\n      <th>Density (P/Km²)</th>\n      <th>Land Area (Km²)</th>\n      <th>Migrants (net)</th>\n      <th>Fert. Rate</th>\n      <th>Med. Age</th>\n      <th>Urban Pop %</th>\n      <th>World Share</th>\n    </tr>\n    <tr>\n      <th>Country/Region</th>\n      <th></th>\n      <th></th>\n      <th></th>\n      <th></th>\n      <th></th>\n      <th></th>\n      <th></th>\n      <th></th>\n      <th></th>\n      <th></th>\n      <th></th>\n      <th></th>\n      <th></th>\n      <th></th>\n      <th></th>\n      <th></th>\n      <th></th>\n      <th></th>\n      <th></th>\n      <th></th>\n      <th></th>\n    </tr>\n  </thead>\n  <tbody>\n    <tr>\n      <th>Afghanistan</th>\n      <td>0</td>\n      <td>0</td>\n      <td>0</td>\n      <td>0</td>\n      <td>0</td>\n      <td>0</td>\n      <td>0</td>\n      <td>0</td>\n      <td>0</td>\n      <td>0</td>\n      <td>...</td>\n      <td>39074280.0</td>\n      <td>2.33 %</td>\n      <td>886592.0</td>\n      <td>60.0</td>\n      <td>652860.0</td>\n      <td>-62920.0</td>\n      <td>4.6</td>\n      <td>18</td>\n      <td>25 %</td>\n      <td>0.50 %</td>\n    </tr>\n    <tr>\n      <th>Albania</th>\n      <td>0</td>\n      <td>0</td>\n      <td>0</td>\n      <td>0</td>\n      <td>0</td>\n      <td>0</td>\n      <td>0</td>\n      <td>0</td>\n      <td>0</td>\n      <td>0</td>\n      <td>...</td>\n      <td>2877239.0</td>\n      <td>-0.11 %</td>\n      <td>-3120.0</td>\n      <td>105.0</td>\n      <td>27400.0</td>\n      <td>-14000.0</td>\n      <td>1.6</td>\n      <td>36</td>\n      <td>63 %</td>\n      <td>0.04 %</td>\n    </tr>\n    <tr>\n      <th>Algeria</th>\n      <td>0</td>\n      <td>0</td>\n      <td>0</td>\n      <td>0</td>\n      <td>0</td>\n      <td>0</td>\n      <td>0</td>\n      <td>0</td>\n      <td>0</td>\n      <td>0</td>\n      <td>...</td>\n      <td>43984569.0</td>\n      <td>1.85 %</td>\n      <td>797990.0</td>\n      <td>18.0</td>\n      <td>2381740.0</td>\n      <td>-10000.0</td>\n      <td>3.1</td>\n      <td>29</td>\n      <td>73 %</td>\n      <td>0.56 %</td>\n    </tr>\n    <tr>\n      <th>Andorra</th>\n      <td>0</td>\n      <td>0</td>\n      <td>0</td>\n      <td>0</td>\n      <td>0</td>\n      <td>0</td>\n      <td>0</td>\n      <td>0</td>\n      <td>0</td>\n      <td>0</td>\n      <td>...</td>\n      <td>77287.0</td>\n      <td>0.16 %</td>\n      <td>123.0</td>\n      <td>164.0</td>\n      <td>470.0</td>\n      <td>NaN</td>\n      <td>N.A.</td>\n      <td>N.A.</td>\n      <td>88 %</td>\n      <td>0.00 %</td>\n    </tr>\n    <tr>\n      <th>Angola</th>\n      <td>0</td>\n      <td>0</td>\n      <td>0</td>\n      <td>0</td>\n      <td>0</td>\n      <td>0</td>\n      <td>0</td>\n      <td>0</td>\n      <td>0</td>\n      <td>0</td>\n      <td>...</td>\n      <td>33032075.0</td>\n      <td>3.27 %</td>\n      <td>1040977.0</td>\n      <td>26.0</td>\n      <td>1246700.0</td>\n      <td>6413.0</td>\n      <td>5.6</td>\n      <td>17</td>\n      <td>67 %</td>\n      <td>0.42 %</td>\n    </tr>\n    <tr>\n      <th>...</th>\n      <td>...</td>\n      <td>...</td>\n      <td>...</td>\n      <td>...</td>\n      <td>...</td>\n      <td>...</td>\n      <td>...</td>\n      <td>...</td>\n      <td>...</td>\n      <td>...</td>\n      <td>...</td>\n      <td>...</td>\n      <td>...</td>\n      <td>...</td>\n      <td>...</td>\n      <td>...</td>\n      <td>...</td>\n      <td>...</td>\n      <td>...</td>\n      <td>...</td>\n      <td>...</td>\n    </tr>\n    <tr>\n      <th>Vietnam</th>\n      <td>0</td>\n      <td>2</td>\n      <td>2</td>\n      <td>2</td>\n      <td>2</td>\n      <td>2</td>\n      <td>2</td>\n      <td>2</td>\n      <td>2</td>\n      <td>2</td>\n      <td>...</td>\n      <td>97490013.0</td>\n      <td>0.91 %</td>\n      <td>876473.0</td>\n      <td>314.0</td>\n      <td>310070.0</td>\n      <td>-80000.0</td>\n      <td>2.1</td>\n      <td>32</td>\n      <td>38 %</td>\n      <td>1.25 %</td>\n    </tr>\n    <tr>\n      <th>West Bank and Gaza</th>\n      <td>0</td>\n      <td>0</td>\n      <td>0</td>\n      <td>0</td>\n      <td>0</td>\n      <td>0</td>\n      <td>0</td>\n      <td>0</td>\n      <td>0</td>\n      <td>0</td>\n      <td>...</td>\n      <td>NaN</td>\n      <td>NaN</td>\n      <td>NaN</td>\n      <td>NaN</td>\n      <td>NaN</td>\n      <td>NaN</td>\n      <td>NaN</td>\n      <td>NaN</td>\n      <td>NaN</td>\n      <td>NaN</td>\n    </tr>\n    <tr>\n      <th>Yemen</th>\n      <td>0</td>\n      <td>0</td>\n      <td>0</td>\n      <td>0</td>\n      <td>0</td>\n      <td>0</td>\n      <td>0</td>\n      <td>0</td>\n      <td>0</td>\n      <td>0</td>\n      <td>...</td>\n      <td>29935468.0</td>\n      <td>2.28 %</td>\n      <td>664042.0</td>\n      <td>56.0</td>\n      <td>527970.0</td>\n      <td>-30000.0</td>\n      <td>3.8</td>\n      <td>20</td>\n      <td>38 %</td>\n      <td>0.38 %</td>\n    </tr>\n    <tr>\n      <th>Zambia</th>\n      <td>0</td>\n      <td>0</td>\n      <td>0</td>\n      <td>0</td>\n      <td>0</td>\n      <td>0</td>\n      <td>0</td>\n      <td>0</td>\n      <td>0</td>\n      <td>0</td>\n      <td>...</td>\n      <td>18468257.0</td>\n      <td>2.93 %</td>\n      <td>522925.0</td>\n      <td>25.0</td>\n      <td>743390.0</td>\n      <td>-8000.0</td>\n      <td>4.7</td>\n      <td>18</td>\n      <td>45 %</td>\n      <td>0.24 %</td>\n    </tr>\n    <tr>\n      <th>Zimbabwe</th>\n      <td>0</td>\n      <td>0</td>\n      <td>0</td>\n      <td>0</td>\n      <td>0</td>\n      <td>0</td>\n      <td>0</td>\n      <td>0</td>\n      <td>0</td>\n      <td>0</td>\n      <td>...</td>\n      <td>14899771.0</td>\n      <td>1.48 %</td>\n      <td>217456.0</td>\n      <td>38.0</td>\n      <td>386850.0</td>\n      <td>-116858.0</td>\n      <td>3.6</td>\n      <td>19</td>\n      <td>38 %</td>\n      <td>0.19 %</td>\n    </tr>\n  </tbody>\n</table>\n<p>192 rows × 470 columns</p>\n</div>"
     },
     "metadata": {},
     "execution_count": 7
    }
   ],
   "source": [
    "df_population_merge = pd.merge(df_confirmados,df_population,on='Country/Region',how='left')\n",
    "df_population_merge"
   ]
  },
  {
   "cell_type": "markdown",
   "metadata": {},
   "source": [
    "Descartamos las filas del segundo dataframe que no coincidian con el nombre del país en el primer dataframe.\n"
   ]
  },
  {
   "cell_type": "markdown",
   "metadata": {},
   "source": [
    "## Pregunta 4"
   ]
  },
  {
   "cell_type": "code",
   "execution_count": 8,
   "metadata": {},
   "outputs": [],
   "source": [
    "df_recuperados = pd.read_csv('https://github.com/fehrmann11/Tarea-1-COVID-19/blob/master/data/covid19_confirmados.csv', index_col = 'Country/Region')\n",
    "df_recuperados.drop(['Lat', 'Long'], axis=1, inplace=True)\n",
    "\n",
    "df_recuperados = df_recuperados.groupby('Country/Region').sum()\n",
    "\n",
    "df_recuperados.columns = pd.to_datetime(df_recuperados.columns)\n",
    "df_recuperados.columns = sorted(df_recuperados.columns)\n",
    "\n"
   ]
  },
  {
   "cell_type": "code",
   "execution_count": 9,
   "metadata": {},
   "outputs": [
    {
     "output_type": "execute_result",
     "data": {
      "text/plain": [
       "                    2020-01-22 00:00:00_recuperados  \\\n",
       "Country/Region                                        \n",
       "Afghanistan                                       0   \n",
       "Albania                                           0   \n",
       "Algeria                                           0   \n",
       "Andorra                                           0   \n",
       "Angola                                            0   \n",
       "...                                             ...   \n",
       "Vietnam                                           0   \n",
       "West Bank and Gaza                                0   \n",
       "Yemen                                             0   \n",
       "Zambia                                            0   \n",
       "Zimbabwe                                          0   \n",
       "\n",
       "                    2020-01-23 00:00:00_recuperados  \\\n",
       "Country/Region                                        \n",
       "Afghanistan                                       0   \n",
       "Albania                                           0   \n",
       "Algeria                                           0   \n",
       "Andorra                                           0   \n",
       "Angola                                            0   \n",
       "...                                             ...   \n",
       "Vietnam                                           0   \n",
       "West Bank and Gaza                                0   \n",
       "Yemen                                             0   \n",
       "Zambia                                            0   \n",
       "Zimbabwe                                          0   \n",
       "\n",
       "                    2020-01-24 00:00:00_recuperados  \\\n",
       "Country/Region                                        \n",
       "Afghanistan                                       0   \n",
       "Albania                                           0   \n",
       "Algeria                                           0   \n",
       "Andorra                                           0   \n",
       "Angola                                            0   \n",
       "...                                             ...   \n",
       "Vietnam                                           0   \n",
       "West Bank and Gaza                                0   \n",
       "Yemen                                             0   \n",
       "Zambia                                            0   \n",
       "Zimbabwe                                          0   \n",
       "\n",
       "                    2020-01-25 00:00:00_recuperados  \\\n",
       "Country/Region                                        \n",
       "Afghanistan                                       0   \n",
       "Albania                                           0   \n",
       "Algeria                                           0   \n",
       "Andorra                                           0   \n",
       "Angola                                            0   \n",
       "...                                             ...   \n",
       "Vietnam                                           0   \n",
       "West Bank and Gaza                                0   \n",
       "Yemen                                             0   \n",
       "Zambia                                            0   \n",
       "Zimbabwe                                          0   \n",
       "\n",
       "                    2020-01-26 00:00:00_recuperados  \\\n",
       "Country/Region                                        \n",
       "Afghanistan                                       0   \n",
       "Albania                                           0   \n",
       "Algeria                                           0   \n",
       "Andorra                                           0   \n",
       "Angola                                            0   \n",
       "...                                             ...   \n",
       "Vietnam                                           0   \n",
       "West Bank and Gaza                                0   \n",
       "Yemen                                             0   \n",
       "Zambia                                            0   \n",
       "Zimbabwe                                          0   \n",
       "\n",
       "                    2020-01-27 00:00:00_recuperados  \\\n",
       "Country/Region                                        \n",
       "Afghanistan                                       0   \n",
       "Albania                                           0   \n",
       "Algeria                                           0   \n",
       "Andorra                                           0   \n",
       "Angola                                            0   \n",
       "...                                             ...   \n",
       "Vietnam                                           0   \n",
       "West Bank and Gaza                                0   \n",
       "Yemen                                             0   \n",
       "Zambia                                            0   \n",
       "Zimbabwe                                          0   \n",
       "\n",
       "                    2020-01-28 00:00:00_recuperados  \\\n",
       "Country/Region                                        \n",
       "Afghanistan                                       0   \n",
       "Albania                                           0   \n",
       "Algeria                                           0   \n",
       "Andorra                                           0   \n",
       "Angola                                            0   \n",
       "...                                             ...   \n",
       "Vietnam                                           0   \n",
       "West Bank and Gaza                                0   \n",
       "Yemen                                             0   \n",
       "Zambia                                            0   \n",
       "Zimbabwe                                          0   \n",
       "\n",
       "                    2020-01-29 00:00:00_recuperados  \\\n",
       "Country/Region                                        \n",
       "Afghanistan                                       0   \n",
       "Albania                                           0   \n",
       "Algeria                                           0   \n",
       "Andorra                                           0   \n",
       "Angola                                            0   \n",
       "...                                             ...   \n",
       "Vietnam                                           0   \n",
       "West Bank and Gaza                                0   \n",
       "Yemen                                             0   \n",
       "Zambia                                            0   \n",
       "Zimbabwe                                          0   \n",
       "\n",
       "                    2020-01-30 00:00:00_recuperados  \\\n",
       "Country/Region                                        \n",
       "Afghanistan                                       0   \n",
       "Albania                                           0   \n",
       "Algeria                                           0   \n",
       "Andorra                                           0   \n",
       "Angola                                            0   \n",
       "...                                             ...   \n",
       "Vietnam                                           0   \n",
       "West Bank and Gaza                                0   \n",
       "Yemen                                             0   \n",
       "Zambia                                            0   \n",
       "Zimbabwe                                          0   \n",
       "\n",
       "                    2020-01-31 00:00:00_recuperados  ...  \\\n",
       "Country/Region                                       ...   \n",
       "Afghanistan                                       0  ...   \n",
       "Albania                                           0  ...   \n",
       "Algeria                                           0  ...   \n",
       "Andorra                                           0  ...   \n",
       "Angola                                            0  ...   \n",
       "...                                             ...  ...   \n",
       "Vietnam                                           0  ...   \n",
       "West Bank and Gaza                                0  ...   \n",
       "Yemen                                             0  ...   \n",
       "Zambia                                            0  ...   \n",
       "Zimbabwe                                          0  ...   \n",
       "\n",
       "                    2021-04-16 00:00:00_muertes  2021-04-17 00:00:00_muertes  \\\n",
       "Country/Region                                                                 \n",
       "Afghanistan                                2535                         2539   \n",
       "Albania                                    2337                         2340   \n",
       "Algeria                                    3148                         3152   \n",
       "Andorra                                     123                          123   \n",
       "Angola                                      560                          561   \n",
       "...                                         ...                          ...   \n",
       "Vietnam                                      35                           35   \n",
       "West Bank and Gaza                         2955                         2983   \n",
       "Yemen                                      1108                         1119   \n",
       "Zambia                                     1233                         1234   \n",
       "Zimbabwe                                   1551                         1552   \n",
       "\n",
       "                    2021-04-18 00:00:00_muertes  2021-04-19 00:00:00_muertes  \\\n",
       "Country/Region                                                                 \n",
       "Afghanistan                                2539                         2546   \n",
       "Albania                                    2342                         2347   \n",
       "Algeria                                    3155                         3160   \n",
       "Andorra                                     123                          123   \n",
       "Angola                                      561                          563   \n",
       "...                                         ...                          ...   \n",
       "Vietnam                                      35                           35   \n",
       "West Bank and Gaza                         3017                         3047   \n",
       "Yemen                                      1126                         1132   \n",
       "Zambia                                     1235                         1236   \n",
       "Zimbabwe                                   1553                         1553   \n",
       "\n",
       "                    2021-04-20 00:00:00_muertes  2021-04-21 00:00:00_muertes  \\\n",
       "Country/Region                                                                 \n",
       "Afghanistan                                2549                         2557   \n",
       "Albania                                    2353                         2358   \n",
       "Algeria                                    3165                         3172   \n",
       "Andorra                                     123                          123   \n",
       "Angola                                      565                          570   \n",
       "...                                         ...                          ...   \n",
       "Vietnam                                      35                           35   \n",
       "West Bank and Gaza                         3078                         3096   \n",
       "Yemen                                      1138                         1147   \n",
       "Zambia                                     1236                         1238   \n",
       "Zimbabwe                                   1554                         1555   \n",
       "\n",
       "                    2021-04-22 00:00:00_muertes  2021-04-23 00:00:00_muertes  \\\n",
       "Country/Region                                                                 \n",
       "Afghanistan                                2561                         2565   \n",
       "Albania                                    2364                         2367   \n",
       "Algeria                                    3181                         3190   \n",
       "Andorra                                     123                          123   \n",
       "Angola                                      572                          574   \n",
       "...                                         ...                          ...   \n",
       "Vietnam                                      35                           35   \n",
       "West Bank and Gaza                         3115                         3138   \n",
       "Yemen                                      1157                         1165   \n",
       "Zambia                                     1240                         1245   \n",
       "Zimbabwe                                   1555                         1556   \n",
       "\n",
       "                    2021-04-24 00:00:00_muertes  2021-04-25 00:00:00_muertes  \n",
       "Country/Region                                                                \n",
       "Afghanistan                                2572                         2582  \n",
       "Albania                                    2372                         2378  \n",
       "Algeria                                    3198                         3207  \n",
       "Andorra                                     124                          124  \n",
       "Angola                                      577                          579  \n",
       "...                                         ...                          ...  \n",
       "Vietnam                                      35                           35  \n",
       "West Bank and Gaza                         3151                         3167  \n",
       "Yemen                                      1175                         1187  \n",
       "Zambia                                     1245                         1246  \n",
       "Zimbabwe                                   1556                         1557  \n",
       "\n",
       "[192 rows x 920 columns]"
      ],
      "text/html": "<div>\n<style scoped>\n    .dataframe tbody tr th:only-of-type {\n        vertical-align: middle;\n    }\n\n    .dataframe tbody tr th {\n        vertical-align: top;\n    }\n\n    .dataframe thead th {\n        text-align: right;\n    }\n</style>\n<table border=\"1\" class=\"dataframe\">\n  <thead>\n    <tr style=\"text-align: right;\">\n      <th></th>\n      <th>2020-01-22 00:00:00_recuperados</th>\n      <th>2020-01-23 00:00:00_recuperados</th>\n      <th>2020-01-24 00:00:00_recuperados</th>\n      <th>2020-01-25 00:00:00_recuperados</th>\n      <th>2020-01-26 00:00:00_recuperados</th>\n      <th>2020-01-27 00:00:00_recuperados</th>\n      <th>2020-01-28 00:00:00_recuperados</th>\n      <th>2020-01-29 00:00:00_recuperados</th>\n      <th>2020-01-30 00:00:00_recuperados</th>\n      <th>2020-01-31 00:00:00_recuperados</th>\n      <th>...</th>\n      <th>2021-04-16 00:00:00_muertes</th>\n      <th>2021-04-17 00:00:00_muertes</th>\n      <th>2021-04-18 00:00:00_muertes</th>\n      <th>2021-04-19 00:00:00_muertes</th>\n      <th>2021-04-20 00:00:00_muertes</th>\n      <th>2021-04-21 00:00:00_muertes</th>\n      <th>2021-04-22 00:00:00_muertes</th>\n      <th>2021-04-23 00:00:00_muertes</th>\n      <th>2021-04-24 00:00:00_muertes</th>\n      <th>2021-04-25 00:00:00_muertes</th>\n    </tr>\n    <tr>\n      <th>Country/Region</th>\n      <th></th>\n      <th></th>\n      <th></th>\n      <th></th>\n      <th></th>\n      <th></th>\n      <th></th>\n      <th></th>\n      <th></th>\n      <th></th>\n      <th></th>\n      <th></th>\n      <th></th>\n      <th></th>\n      <th></th>\n      <th></th>\n      <th></th>\n      <th></th>\n      <th></th>\n      <th></th>\n      <th></th>\n    </tr>\n  </thead>\n  <tbody>\n    <tr>\n      <th>Afghanistan</th>\n      <td>0</td>\n      <td>0</td>\n      <td>0</td>\n      <td>0</td>\n      <td>0</td>\n      <td>0</td>\n      <td>0</td>\n      <td>0</td>\n      <td>0</td>\n      <td>0</td>\n      <td>...</td>\n      <td>2535</td>\n      <td>2539</td>\n      <td>2539</td>\n      <td>2546</td>\n      <td>2549</td>\n      <td>2557</td>\n      <td>2561</td>\n      <td>2565</td>\n      <td>2572</td>\n      <td>2582</td>\n    </tr>\n    <tr>\n      <th>Albania</th>\n      <td>0</td>\n      <td>0</td>\n      <td>0</td>\n      <td>0</td>\n      <td>0</td>\n      <td>0</td>\n      <td>0</td>\n      <td>0</td>\n      <td>0</td>\n      <td>0</td>\n      <td>...</td>\n      <td>2337</td>\n      <td>2340</td>\n      <td>2342</td>\n      <td>2347</td>\n      <td>2353</td>\n      <td>2358</td>\n      <td>2364</td>\n      <td>2367</td>\n      <td>2372</td>\n      <td>2378</td>\n    </tr>\n    <tr>\n      <th>Algeria</th>\n      <td>0</td>\n      <td>0</td>\n      <td>0</td>\n      <td>0</td>\n      <td>0</td>\n      <td>0</td>\n      <td>0</td>\n      <td>0</td>\n      <td>0</td>\n      <td>0</td>\n      <td>...</td>\n      <td>3148</td>\n      <td>3152</td>\n      <td>3155</td>\n      <td>3160</td>\n      <td>3165</td>\n      <td>3172</td>\n      <td>3181</td>\n      <td>3190</td>\n      <td>3198</td>\n      <td>3207</td>\n    </tr>\n    <tr>\n      <th>Andorra</th>\n      <td>0</td>\n      <td>0</td>\n      <td>0</td>\n      <td>0</td>\n      <td>0</td>\n      <td>0</td>\n      <td>0</td>\n      <td>0</td>\n      <td>0</td>\n      <td>0</td>\n      <td>...</td>\n      <td>123</td>\n      <td>123</td>\n      <td>123</td>\n      <td>123</td>\n      <td>123</td>\n      <td>123</td>\n      <td>123</td>\n      <td>123</td>\n      <td>124</td>\n      <td>124</td>\n    </tr>\n    <tr>\n      <th>Angola</th>\n      <td>0</td>\n      <td>0</td>\n      <td>0</td>\n      <td>0</td>\n      <td>0</td>\n      <td>0</td>\n      <td>0</td>\n      <td>0</td>\n      <td>0</td>\n      <td>0</td>\n      <td>...</td>\n      <td>560</td>\n      <td>561</td>\n      <td>561</td>\n      <td>563</td>\n      <td>565</td>\n      <td>570</td>\n      <td>572</td>\n      <td>574</td>\n      <td>577</td>\n      <td>579</td>\n    </tr>\n    <tr>\n      <th>...</th>\n      <td>...</td>\n      <td>...</td>\n      <td>...</td>\n      <td>...</td>\n      <td>...</td>\n      <td>...</td>\n      <td>...</td>\n      <td>...</td>\n      <td>...</td>\n      <td>...</td>\n      <td>...</td>\n      <td>...</td>\n      <td>...</td>\n      <td>...</td>\n      <td>...</td>\n      <td>...</td>\n      <td>...</td>\n      <td>...</td>\n      <td>...</td>\n      <td>...</td>\n      <td>...</td>\n    </tr>\n    <tr>\n      <th>Vietnam</th>\n      <td>0</td>\n      <td>0</td>\n      <td>0</td>\n      <td>0</td>\n      <td>0</td>\n      <td>0</td>\n      <td>0</td>\n      <td>0</td>\n      <td>0</td>\n      <td>0</td>\n      <td>...</td>\n      <td>35</td>\n      <td>35</td>\n      <td>35</td>\n      <td>35</td>\n      <td>35</td>\n      <td>35</td>\n      <td>35</td>\n      <td>35</td>\n      <td>35</td>\n      <td>35</td>\n    </tr>\n    <tr>\n      <th>West Bank and Gaza</th>\n      <td>0</td>\n      <td>0</td>\n      <td>0</td>\n      <td>0</td>\n      <td>0</td>\n      <td>0</td>\n      <td>0</td>\n      <td>0</td>\n      <td>0</td>\n      <td>0</td>\n      <td>...</td>\n      <td>2955</td>\n      <td>2983</td>\n      <td>3017</td>\n      <td>3047</td>\n      <td>3078</td>\n      <td>3096</td>\n      <td>3115</td>\n      <td>3138</td>\n      <td>3151</td>\n      <td>3167</td>\n    </tr>\n    <tr>\n      <th>Yemen</th>\n      <td>0</td>\n      <td>0</td>\n      <td>0</td>\n      <td>0</td>\n      <td>0</td>\n      <td>0</td>\n      <td>0</td>\n      <td>0</td>\n      <td>0</td>\n      <td>0</td>\n      <td>...</td>\n      <td>1108</td>\n      <td>1119</td>\n      <td>1126</td>\n      <td>1132</td>\n      <td>1138</td>\n      <td>1147</td>\n      <td>1157</td>\n      <td>1165</td>\n      <td>1175</td>\n      <td>1187</td>\n    </tr>\n    <tr>\n      <th>Zambia</th>\n      <td>0</td>\n      <td>0</td>\n      <td>0</td>\n      <td>0</td>\n      <td>0</td>\n      <td>0</td>\n      <td>0</td>\n      <td>0</td>\n      <td>0</td>\n      <td>0</td>\n      <td>...</td>\n      <td>1233</td>\n      <td>1234</td>\n      <td>1235</td>\n      <td>1236</td>\n      <td>1236</td>\n      <td>1238</td>\n      <td>1240</td>\n      <td>1245</td>\n      <td>1245</td>\n      <td>1246</td>\n    </tr>\n    <tr>\n      <th>Zimbabwe</th>\n      <td>0</td>\n      <td>0</td>\n      <td>0</td>\n      <td>0</td>\n      <td>0</td>\n      <td>0</td>\n      <td>0</td>\n      <td>0</td>\n      <td>0</td>\n      <td>0</td>\n      <td>...</td>\n      <td>1551</td>\n      <td>1552</td>\n      <td>1553</td>\n      <td>1553</td>\n      <td>1554</td>\n      <td>1555</td>\n      <td>1555</td>\n      <td>1556</td>\n      <td>1556</td>\n      <td>1557</td>\n    </tr>\n  </tbody>\n</table>\n<p>192 rows × 920 columns</p>\n</div>"
     },
     "metadata": {},
     "execution_count": 9
    }
   ],
   "source": [
    "df_muertes = pd.read_csv('data/covid19_decesos.csv', index_col = 'Country/Region')\n",
    "df_muertes.drop(['Lat', 'Long'], axis=1, inplace=True)\n",
    "df_muertes = df_muertes.groupby('Country/Region').sum()\n",
    "\n",
    "df_muertes.columns = pd.to_datetime(df_muertes.columns)\n",
    "df_muertes.columns = sorted(df_muertes.columns)\n",
    "\n",
    "df_muertes_merge = pd.merge(df_recuperados,df_muertes, on='Country/Region',how='left', suffixes=('_recuperados','_muertes'))\n",
    "df_muertes_merge\n"
   ]
  },
  {
   "cell_type": "markdown",
   "metadata": {},
   "source": [
    "### Análisis global (1.5pt)\n",
    "\n",
    "1. Obtenga la cantidad total  a la fecha (26 de Abril) de los casos (a) confirmados, (b) cerrados (recuperados más decesos) y (c) activos (confirmados menos cerrados) por país. En base a estas cantidades calcule el porcentaje de \n",
    "    1. casos activos con respecto al total de confirmados\n",
    "    1. decesos con respecto al total de casos cerrados\n",
    "    1. recuperados con respecto al total de casos cerrados\n",
    "1. Luego calcule las siguientes tasas en base a información a la fecha\n",
    "    1. Tasa de incidencia: confirmados por 100.000 dividido población total\n",
    "    1. Tasa de recuperación: recuperados por 100.000 dividido población total\n",
    "    1. Tasa de mortalidad: decesos por 100.000 dividido población total\n",
    "1. En base a lo anterior muestre los nombres y los valores de los 5 países con\n",
    "    1. La mayor y menor tasa de incidencia, respectivamente\n",
    "    1. La mayor y menor tasa de recuperación, respectivamente\n",
    "    1. La mayor y menor tasa de mortalidad, respectivamente\n",
    "1. Responda, analice y discuta: ¿En qué lugar/ranking se encuentra Chile con respecto a cada una de las métricas de los puntos anteriores? ¿A qué países de la [OCDE](https://es.wikipedia.org/wiki/Organizaci%C3%B3n_para_la_Cooperaci%C3%B3n_y_el_Desarrollo_Econ%C3%B3micos) se parece más? ¿A qué paises de latinoamérica se parece más? "
   ]
  },
  {
   "cell_type": "markdown",
   "metadata": {},
   "source": [
    "## 1 "
   ]
  },
  {
   "cell_type": "code",
   "execution_count": 10,
   "metadata": {},
   "outputs": [],
   "source": [
    "total_confirmados = df_confirmados['2021-04-25 00:00:00']\n",
    "total_recuperados = df_muertes_merge['2021-04-25 00:00:00_recuperados']\n",
    "total_muertes = df_muertes_merge['2021-04-25 00:00:00_muertes']\n",
    "\n",
    "total_cerrados =  (total_muertes+total_recuperados)\n",
    "total_activos =  (total_confirmados-total_cerrados)\n"
   ]
  },
  {
   "cell_type": "markdown",
   "metadata": {},
   "source": [
    "### A .casos activos con respecto al total de confirmados"
   ]
  },
  {
   "cell_type": "code",
   "execution_count": 11,
   "metadata": {},
   "outputs": [],
   "source": [
    "porcentajes_activo_confirmado = (100*total_activos)/total_confirmados "
   ]
  },
  {
   "cell_type": "markdown",
   "metadata": {},
   "source": [
    "### B Decesos con respecto al total de casos cerrados"
   ]
  },
  {
   "cell_type": "code",
   "execution_count": 12,
   "metadata": {},
   "outputs": [],
   "source": [
    "porcentajes_decesos_cerrados = (100*total_muertes)/total_cerrados "
   ]
  },
  {
   "cell_type": "markdown",
   "metadata": {},
   "source": [
    "### C Recuperados con respecto al total de casos cerrados"
   ]
  },
  {
   "cell_type": "code",
   "execution_count": 13,
   "metadata": {},
   "outputs": [],
   "source": [
    "porcentajes_recuperados_cerrados = (100*total_recuperados)/total_cerrados "
   ]
  },
  {
   "cell_type": "code",
   "execution_count": 14,
   "metadata": {},
   "outputs": [
    {
     "output_type": "execute_result",
     "data": {
      "text/plain": [
       "                    Confirmados  Cerrados  Activos  \\\n",
       "Country/Region                                       \n",
       "Afghanistan               58843     55071     3772   \n",
       "Albania                  130537    108106    22431   \n",
       "Algeria                  120922     87506    33416   \n",
       "Andorra                   13060     12615      445   \n",
       "Angola                    25609     23671     1938   \n",
       "...                         ...       ...      ...   \n",
       "Vietnam                    2843      2551      292   \n",
       "West Bank and Gaza       290972    265769    25203   \n",
       "Yemen                      6137      3733     2404   \n",
       "Zambia                    91358     90820      538   \n",
       "Zimbabwe                  38086     36680     1406   \n",
       "\n",
       "                    porcentaje Activos/Confirmado  \\\n",
       "Country/Region                                      \n",
       "Afghanistan                              6.410278   \n",
       "Albania                                 17.183634   \n",
       "Algeria                                 27.634343   \n",
       "Andorra                                  3.407351   \n",
       "Angola                                   7.567652   \n",
       "...                                           ...   \n",
       "Vietnam                                 10.270841   \n",
       "West Bank and Gaza                       8.661658   \n",
       "Yemen                                   39.172234   \n",
       "Zambia                                   0.588892   \n",
       "Zimbabwe                                 3.691645   \n",
       "\n",
       "                    porcentaje Decesos/Cerrados  \\\n",
       "Country/Region                                    \n",
       "Afghanistan                            4.688493   \n",
       "Albania                                2.199693   \n",
       "Algeria                                3.664892   \n",
       "Andorra                                0.982957   \n",
       "Angola                                 2.446031   \n",
       "...                                         ...   \n",
       "Vietnam                                1.372011   \n",
       "West Bank and Gaza                     1.191636   \n",
       "Yemen                                 31.797482   \n",
       "Zambia                                 1.371945   \n",
       "Zimbabwe                               4.244820   \n",
       "\n",
       "                    porcentaje Recuperados/Cerrados  \n",
       "Country/Region                                       \n",
       "Afghanistan                               95.311507  \n",
       "Albania                                   97.800307  \n",
       "Algeria                                   96.335108  \n",
       "Andorra                                   99.017043  \n",
       "Angola                                    97.553969  \n",
       "...                                             ...  \n",
       "Vietnam                                   98.627989  \n",
       "West Bank and Gaza                        98.808364  \n",
       "Yemen                                     68.202518  \n",
       "Zambia                                    98.628055  \n",
       "Zimbabwe                                  95.755180  \n",
       "\n",
       "[192 rows x 6 columns]"
      ],
      "text/html": "<div>\n<style scoped>\n    .dataframe tbody tr th:only-of-type {\n        vertical-align: middle;\n    }\n\n    .dataframe tbody tr th {\n        vertical-align: top;\n    }\n\n    .dataframe thead th {\n        text-align: right;\n    }\n</style>\n<table border=\"1\" class=\"dataframe\">\n  <thead>\n    <tr style=\"text-align: right;\">\n      <th></th>\n      <th>Confirmados</th>\n      <th>Cerrados</th>\n      <th>Activos</th>\n      <th>porcentaje Activos/Confirmado</th>\n      <th>porcentaje Decesos/Cerrados</th>\n      <th>porcentaje Recuperados/Cerrados</th>\n    </tr>\n    <tr>\n      <th>Country/Region</th>\n      <th></th>\n      <th></th>\n      <th></th>\n      <th></th>\n      <th></th>\n      <th></th>\n    </tr>\n  </thead>\n  <tbody>\n    <tr>\n      <th>Afghanistan</th>\n      <td>58843</td>\n      <td>55071</td>\n      <td>3772</td>\n      <td>6.410278</td>\n      <td>4.688493</td>\n      <td>95.311507</td>\n    </tr>\n    <tr>\n      <th>Albania</th>\n      <td>130537</td>\n      <td>108106</td>\n      <td>22431</td>\n      <td>17.183634</td>\n      <td>2.199693</td>\n      <td>97.800307</td>\n    </tr>\n    <tr>\n      <th>Algeria</th>\n      <td>120922</td>\n      <td>87506</td>\n      <td>33416</td>\n      <td>27.634343</td>\n      <td>3.664892</td>\n      <td>96.335108</td>\n    </tr>\n    <tr>\n      <th>Andorra</th>\n      <td>13060</td>\n      <td>12615</td>\n      <td>445</td>\n      <td>3.407351</td>\n      <td>0.982957</td>\n      <td>99.017043</td>\n    </tr>\n    <tr>\n      <th>Angola</th>\n      <td>25609</td>\n      <td>23671</td>\n      <td>1938</td>\n      <td>7.567652</td>\n      <td>2.446031</td>\n      <td>97.553969</td>\n    </tr>\n    <tr>\n      <th>...</th>\n      <td>...</td>\n      <td>...</td>\n      <td>...</td>\n      <td>...</td>\n      <td>...</td>\n      <td>...</td>\n    </tr>\n    <tr>\n      <th>Vietnam</th>\n      <td>2843</td>\n      <td>2551</td>\n      <td>292</td>\n      <td>10.270841</td>\n      <td>1.372011</td>\n      <td>98.627989</td>\n    </tr>\n    <tr>\n      <th>West Bank and Gaza</th>\n      <td>290972</td>\n      <td>265769</td>\n      <td>25203</td>\n      <td>8.661658</td>\n      <td>1.191636</td>\n      <td>98.808364</td>\n    </tr>\n    <tr>\n      <th>Yemen</th>\n      <td>6137</td>\n      <td>3733</td>\n      <td>2404</td>\n      <td>39.172234</td>\n      <td>31.797482</td>\n      <td>68.202518</td>\n    </tr>\n    <tr>\n      <th>Zambia</th>\n      <td>91358</td>\n      <td>90820</td>\n      <td>538</td>\n      <td>0.588892</td>\n      <td>1.371945</td>\n      <td>98.628055</td>\n    </tr>\n    <tr>\n      <th>Zimbabwe</th>\n      <td>38086</td>\n      <td>36680</td>\n      <td>1406</td>\n      <td>3.691645</td>\n      <td>4.244820</td>\n      <td>95.755180</td>\n    </tr>\n  </tbody>\n</table>\n<p>192 rows × 6 columns</p>\n</div>"
     },
     "metadata": {},
     "execution_count": 14
    }
   ],
   "source": [
    "data_df = pd.DataFrame(data={\n",
    "    'Confirmados':total_confirmados, \n",
    "    'Cerrados':total_cerrados,\n",
    "    'Activos':total_activos,\n",
    "    'porcentaje Activos/Confirmado':porcentajes_activo_confirmado,\n",
    "    'porcentaje Decesos/Cerrados':porcentajes_decesos_cerrados,\n",
    "    'porcentaje Recuperados/Cerrados':porcentajes_recuperados_cerrados},\n",
    "    index=df_confirmados.index)\n",
    "data_df"
   ]
  },
  {
   "cell_type": "markdown",
   "metadata": {},
   "source": [
    "## 2"
   ]
  },
  {
   "cell_type": "markdown",
   "metadata": {},
   "source": [
    "#### A Tasa de incidencia: confirmados por 100.000 dividido población total"
   ]
  },
  {
   "cell_type": "code",
   "execution_count": 15,
   "metadata": {},
   "outputs": [],
   "source": [
    "incidencia = (total_confirmados*100000)/df_population_merge['Population (2020)']"
   ]
  },
  {
   "cell_type": "markdown",
   "metadata": {},
   "source": [
    "### B Tasa de recuperación: recuperados por 100.000 dividido población total"
   ]
  },
  {
   "cell_type": "code",
   "execution_count": 16,
   "metadata": {},
   "outputs": [],
   "source": [
    "recuperacion = (total_recuperados*100000)/df_population_merge['Population (2020)']"
   ]
  },
  {
   "cell_type": "markdown",
   "metadata": {},
   "source": [
    "### C Tasa de mortalidad: decesos por 100.000 dividido población total"
   ]
  },
  {
   "cell_type": "code",
   "execution_count": 17,
   "metadata": {},
   "outputs": [],
   "source": [
    "mortalidad = (total_muertes*100000)/df_population_merge['Population (2020)']"
   ]
  },
  {
   "cell_type": "code",
   "execution_count": 18,
   "metadata": {},
   "outputs": [
    {
     "output_type": "execute_result",
     "data": {
      "text/plain": [
       "                      Incidencia  Recuperacion  Mortalidad\n",
       "Country/Region                                            \n",
       "Afghanistan           150.592666    134.331330    6.607927\n",
       "Albania              4536.884145   3674.633911   82.648678\n",
       "Algeria               274.919143    191.655851    7.291193\n",
       "Andorra             16898.055300  16161.838343  160.440954\n",
       "Angola                 77.527676     69.907809    1.752842\n",
       "...                          ...           ...         ...\n",
       "Vietnam                 2.916196      2.580777    0.035901\n",
       "West Bank and Gaza           NaN           NaN         NaN\n",
       "Yemen                  20.500765      8.504961    3.965196\n",
       "Zambia                494.675811    485.015993    6.746711\n",
       "Zimbabwe              255.614667    235.728455   10.449825\n",
       "\n",
       "[192 rows x 3 columns]"
      ],
      "text/html": "<div>\n<style scoped>\n    .dataframe tbody tr th:only-of-type {\n        vertical-align: middle;\n    }\n\n    .dataframe tbody tr th {\n        vertical-align: top;\n    }\n\n    .dataframe thead th {\n        text-align: right;\n    }\n</style>\n<table border=\"1\" class=\"dataframe\">\n  <thead>\n    <tr style=\"text-align: right;\">\n      <th></th>\n      <th>Incidencia</th>\n      <th>Recuperacion</th>\n      <th>Mortalidad</th>\n    </tr>\n    <tr>\n      <th>Country/Region</th>\n      <th></th>\n      <th></th>\n      <th></th>\n    </tr>\n  </thead>\n  <tbody>\n    <tr>\n      <th>Afghanistan</th>\n      <td>150.592666</td>\n      <td>134.331330</td>\n      <td>6.607927</td>\n    </tr>\n    <tr>\n      <th>Albania</th>\n      <td>4536.884145</td>\n      <td>3674.633911</td>\n      <td>82.648678</td>\n    </tr>\n    <tr>\n      <th>Algeria</th>\n      <td>274.919143</td>\n      <td>191.655851</td>\n      <td>7.291193</td>\n    </tr>\n    <tr>\n      <th>Andorra</th>\n      <td>16898.055300</td>\n      <td>16161.838343</td>\n      <td>160.440954</td>\n    </tr>\n    <tr>\n      <th>Angola</th>\n      <td>77.527676</td>\n      <td>69.907809</td>\n      <td>1.752842</td>\n    </tr>\n    <tr>\n      <th>...</th>\n      <td>...</td>\n      <td>...</td>\n      <td>...</td>\n    </tr>\n    <tr>\n      <th>Vietnam</th>\n      <td>2.916196</td>\n      <td>2.580777</td>\n      <td>0.035901</td>\n    </tr>\n    <tr>\n      <th>West Bank and Gaza</th>\n      <td>NaN</td>\n      <td>NaN</td>\n      <td>NaN</td>\n    </tr>\n    <tr>\n      <th>Yemen</th>\n      <td>20.500765</td>\n      <td>8.504961</td>\n      <td>3.965196</td>\n    </tr>\n    <tr>\n      <th>Zambia</th>\n      <td>494.675811</td>\n      <td>485.015993</td>\n      <td>6.746711</td>\n    </tr>\n    <tr>\n      <th>Zimbabwe</th>\n      <td>255.614667</td>\n      <td>235.728455</td>\n      <td>10.449825</td>\n    </tr>\n  </tbody>\n</table>\n<p>192 rows × 3 columns</p>\n</div>"
     },
     "metadata": {},
     "execution_count": 18
    }
   ],
   "source": [
    "data_2_df = pd.DataFrame(data={\n",
    "    'Incidencia':incidencia, \n",
    "    'Recuperacion':recuperacion,\n",
    "    'Mortalidad':mortalidad\n",
    "    },index=df_confirmados.index)\n",
    "data_2_df"
   ]
  },
  {
   "cell_type": "markdown",
   "metadata": {},
   "source": [
    "## 3"
   ]
  },
  {
   "cell_type": "markdown",
   "metadata": {},
   "source": [
    "### A La mayor y menor tasa de incidencia, respectivamente\n"
   ]
  },
  {
   "cell_type": "code",
   "execution_count": 19,
   "metadata": {},
   "outputs": [
    {
     "output_type": "display_data",
     "data": {
      "text/plain": "                  Incidencia  Recuperacion  Mortalidad\nCountry/Region                                        \nAndorra         16898.055300  16161.838343  160.440954\nMontenegro      15389.759266  14744.777735  233.250541\nSan Marino      14868.607118  14255.833137  262.196559\nSlovenia        11401.118524  10695.487085  202.406073\nLuxembourg      10515.625199   9906.420861  125.855499",
      "text/html": "<div>\n<style scoped>\n    .dataframe tbody tr th:only-of-type {\n        vertical-align: middle;\n    }\n\n    .dataframe tbody tr th {\n        vertical-align: top;\n    }\n\n    .dataframe thead th {\n        text-align: right;\n    }\n</style>\n<table border=\"1\" class=\"dataframe\">\n  <thead>\n    <tr style=\"text-align: right;\">\n      <th></th>\n      <th>Incidencia</th>\n      <th>Recuperacion</th>\n      <th>Mortalidad</th>\n    </tr>\n    <tr>\n      <th>Country/Region</th>\n      <th></th>\n      <th></th>\n      <th></th>\n    </tr>\n  </thead>\n  <tbody>\n    <tr>\n      <th>Andorra</th>\n      <td>16898.055300</td>\n      <td>16161.838343</td>\n      <td>160.440954</td>\n    </tr>\n    <tr>\n      <th>Montenegro</th>\n      <td>15389.759266</td>\n      <td>14744.777735</td>\n      <td>233.250541</td>\n    </tr>\n    <tr>\n      <th>San Marino</th>\n      <td>14868.607118</td>\n      <td>14255.833137</td>\n      <td>262.196559</td>\n    </tr>\n    <tr>\n      <th>Slovenia</th>\n      <td>11401.118524</td>\n      <td>10695.487085</td>\n      <td>202.406073</td>\n    </tr>\n    <tr>\n      <th>Luxembourg</th>\n      <td>10515.625199</td>\n      <td>9906.420861</td>\n      <td>125.855499</td>\n    </tr>\n  </tbody>\n</table>\n</div>"
     },
     "metadata": {}
    },
    {
     "output_type": "display_data",
     "data": {
      "text/plain": "                 Incidencia  Recuperacion  Mortalidad\nCountry/Region                                       \nTanzania           0.848158      0.304937    0.034993\nMicronesia         0.867822      0.867822    0.000000\nVanuatu            1.297282      0.972961    0.324320\nSamoa              1.510247      1.006831    0.000000\nSolomon Islands    2.899933      2.609940    0.000000",
      "text/html": "<div>\n<style scoped>\n    .dataframe tbody tr th:only-of-type {\n        vertical-align: middle;\n    }\n\n    .dataframe tbody tr th {\n        vertical-align: top;\n    }\n\n    .dataframe thead th {\n        text-align: right;\n    }\n</style>\n<table border=\"1\" class=\"dataframe\">\n  <thead>\n    <tr style=\"text-align: right;\">\n      <th></th>\n      <th>Incidencia</th>\n      <th>Recuperacion</th>\n      <th>Mortalidad</th>\n    </tr>\n    <tr>\n      <th>Country/Region</th>\n      <th></th>\n      <th></th>\n      <th></th>\n    </tr>\n  </thead>\n  <tbody>\n    <tr>\n      <th>Tanzania</th>\n      <td>0.848158</td>\n      <td>0.304937</td>\n      <td>0.034993</td>\n    </tr>\n    <tr>\n      <th>Micronesia</th>\n      <td>0.867822</td>\n      <td>0.867822</td>\n      <td>0.000000</td>\n    </tr>\n    <tr>\n      <th>Vanuatu</th>\n      <td>1.297282</td>\n      <td>0.972961</td>\n      <td>0.324320</td>\n    </tr>\n    <tr>\n      <th>Samoa</th>\n      <td>1.510247</td>\n      <td>1.006831</td>\n      <td>0.000000</td>\n    </tr>\n    <tr>\n      <th>Solomon Islands</th>\n      <td>2.899933</td>\n      <td>2.609940</td>\n      <td>0.000000</td>\n    </tr>\n  </tbody>\n</table>\n</div>"
     },
     "metadata": {}
    }
   ],
   "source": [
    "display(data_2_df.nlargest(5, 'Incidencia'), data_2_df.nsmallest(5, 'Incidencia'))"
   ]
  },
  {
   "cell_type": "markdown",
   "metadata": {},
   "source": [
    "### B La mayor y menor tasa de recuperación, respectivamente"
   ]
  },
  {
   "cell_type": "code",
   "execution_count": 20,
   "metadata": {},
   "outputs": [
    {
     "output_type": "display_data",
     "data": {
      "text/plain": "                  Incidencia  Recuperacion  Mortalidad\nCountry/Region                                        \nAndorra         16898.055300  16161.838343  160.440954\nMontenegro      15389.759266  14744.777735  233.250541\nSan Marino      14868.607118  14255.833137  262.196559\nSlovenia        11401.118524  10695.487085  202.406073\nLuxembourg      10515.625199   9906.420861  125.855499",
      "text/html": "<div>\n<style scoped>\n    .dataframe tbody tr th:only-of-type {\n        vertical-align: middle;\n    }\n\n    .dataframe tbody tr th {\n        vertical-align: top;\n    }\n\n    .dataframe thead th {\n        text-align: right;\n    }\n</style>\n<table border=\"1\" class=\"dataframe\">\n  <thead>\n    <tr style=\"text-align: right;\">\n      <th></th>\n      <th>Incidencia</th>\n      <th>Recuperacion</th>\n      <th>Mortalidad</th>\n    </tr>\n    <tr>\n      <th>Country/Region</th>\n      <th></th>\n      <th></th>\n      <th></th>\n    </tr>\n  </thead>\n  <tbody>\n    <tr>\n      <th>Andorra</th>\n      <td>16898.055300</td>\n      <td>16161.838343</td>\n      <td>160.440954</td>\n    </tr>\n    <tr>\n      <th>Montenegro</th>\n      <td>15389.759266</td>\n      <td>14744.777735</td>\n      <td>233.250541</td>\n    </tr>\n    <tr>\n      <th>San Marino</th>\n      <td>14868.607118</td>\n      <td>14255.833137</td>\n      <td>262.196559</td>\n    </tr>\n    <tr>\n      <th>Slovenia</th>\n      <td>11401.118524</td>\n      <td>10695.487085</td>\n      <td>202.406073</td>\n    </tr>\n    <tr>\n      <th>Luxembourg</th>\n      <td>10515.625199</td>\n      <td>9906.420861</td>\n      <td>125.855499</td>\n    </tr>\n  </tbody>\n</table>\n</div>"
     },
     "metadata": {}
    },
    {
     "output_type": "display_data",
     "data": {
      "text/plain": "                 Incidencia  Recuperacion  Mortalidad\nCountry/Region                                       \nBelgium         8401.277033      0.000000  207.131107\nSerbia          7784.454182      0.000000   71.319920\nSweden          9281.121414      0.000000  137.711960\nTanzania           0.848158      0.304937    0.034993\nLaos               4.428575      0.671827    0.000000",
      "text/html": "<div>\n<style scoped>\n    .dataframe tbody tr th:only-of-type {\n        vertical-align: middle;\n    }\n\n    .dataframe tbody tr th {\n        vertical-align: top;\n    }\n\n    .dataframe thead th {\n        text-align: right;\n    }\n</style>\n<table border=\"1\" class=\"dataframe\">\n  <thead>\n    <tr style=\"text-align: right;\">\n      <th></th>\n      <th>Incidencia</th>\n      <th>Recuperacion</th>\n      <th>Mortalidad</th>\n    </tr>\n    <tr>\n      <th>Country/Region</th>\n      <th></th>\n      <th></th>\n      <th></th>\n    </tr>\n  </thead>\n  <tbody>\n    <tr>\n      <th>Belgium</th>\n      <td>8401.277033</td>\n      <td>0.000000</td>\n      <td>207.131107</td>\n    </tr>\n    <tr>\n      <th>Serbia</th>\n      <td>7784.454182</td>\n      <td>0.000000</td>\n      <td>71.319920</td>\n    </tr>\n    <tr>\n      <th>Sweden</th>\n      <td>9281.121414</td>\n      <td>0.000000</td>\n      <td>137.711960</td>\n    </tr>\n    <tr>\n      <th>Tanzania</th>\n      <td>0.848158</td>\n      <td>0.304937</td>\n      <td>0.034993</td>\n    </tr>\n    <tr>\n      <th>Laos</th>\n      <td>4.428575</td>\n      <td>0.671827</td>\n      <td>0.000000</td>\n    </tr>\n  </tbody>\n</table>\n</div>"
     },
     "metadata": {}
    }
   ],
   "source": [
    "display(data_2_df.nlargest(5, 'Recuperacion'), data_2_df.nsmallest(5, 'Recuperacion'))"
   ]
  },
  {
   "cell_type": "markdown",
   "metadata": {},
   "source": [
    "### C La mayor y menor tasa de mortalidad, respectivamente"
   ]
  },
  {
   "cell_type": "code",
   "execution_count": 21,
   "metadata": {},
   "outputs": [
    {
     "output_type": "display_data",
     "data": {
      "text/plain": "                          Incidencia  Recuperacion  Mortalidad\nCountry/Region                                                \nHungary                  7969.338803   4993.867533  275.735780\nSan Marino              14868.607118  14255.833137  262.196559\nBosnia and Herzegovina   5942.141225   4681.137768  250.308805\nMontenegro              15389.759266  14744.777735  233.250541\nBulgaria                 5728.476277   4682.838407  229.239930",
      "text/html": "<div>\n<style scoped>\n    .dataframe tbody tr th:only-of-type {\n        vertical-align: middle;\n    }\n\n    .dataframe tbody tr th {\n        vertical-align: top;\n    }\n\n    .dataframe thead th {\n        text-align: right;\n    }\n</style>\n<table border=\"1\" class=\"dataframe\">\n  <thead>\n    <tr style=\"text-align: right;\">\n      <th></th>\n      <th>Incidencia</th>\n      <th>Recuperacion</th>\n      <th>Mortalidad</th>\n    </tr>\n    <tr>\n      <th>Country/Region</th>\n      <th></th>\n      <th></th>\n      <th></th>\n    </tr>\n  </thead>\n  <tbody>\n    <tr>\n      <th>Hungary</th>\n      <td>7969.338803</td>\n      <td>4993.867533</td>\n      <td>275.735780</td>\n    </tr>\n    <tr>\n      <th>San Marino</th>\n      <td>14868.607118</td>\n      <td>14255.833137</td>\n      <td>262.196559</td>\n    </tr>\n    <tr>\n      <th>Bosnia and Herzegovina</th>\n      <td>5942.141225</td>\n      <td>4681.137768</td>\n      <td>250.308805</td>\n    </tr>\n    <tr>\n      <th>Montenegro</th>\n      <td>15389.759266</td>\n      <td>14744.777735</td>\n      <td>233.250541</td>\n    </tr>\n    <tr>\n      <th>Bulgaria</th>\n      <td>5728.476277</td>\n      <td>4682.838407</td>\n      <td>229.239930</td>\n    </tr>\n  </tbody>\n</table>\n</div>"
     },
     "metadata": {}
    },
    {
     "output_type": "display_data",
     "data": {
      "text/plain": "                   Incidencia  Recuperacion  Mortalidad\nCountry/Region                                         \nDominica           240.221059    237.443937         0.0\nHoly See          3370.786517   1872.659176         0.0\nLaos                 4.428575      0.671827         0.0\nMarshall Islands     6.750030      6.750030         0.0\nMicronesia           0.867822      0.867822         0.0",
      "text/html": "<div>\n<style scoped>\n    .dataframe tbody tr th:only-of-type {\n        vertical-align: middle;\n    }\n\n    .dataframe tbody tr th {\n        vertical-align: top;\n    }\n\n    .dataframe thead th {\n        text-align: right;\n    }\n</style>\n<table border=\"1\" class=\"dataframe\">\n  <thead>\n    <tr style=\"text-align: right;\">\n      <th></th>\n      <th>Incidencia</th>\n      <th>Recuperacion</th>\n      <th>Mortalidad</th>\n    </tr>\n    <tr>\n      <th>Country/Region</th>\n      <th></th>\n      <th></th>\n      <th></th>\n    </tr>\n  </thead>\n  <tbody>\n    <tr>\n      <th>Dominica</th>\n      <td>240.221059</td>\n      <td>237.443937</td>\n      <td>0.0</td>\n    </tr>\n    <tr>\n      <th>Holy See</th>\n      <td>3370.786517</td>\n      <td>1872.659176</td>\n      <td>0.0</td>\n    </tr>\n    <tr>\n      <th>Laos</th>\n      <td>4.428575</td>\n      <td>0.671827</td>\n      <td>0.0</td>\n    </tr>\n    <tr>\n      <th>Marshall Islands</th>\n      <td>6.750030</td>\n      <td>6.750030</td>\n      <td>0.0</td>\n    </tr>\n    <tr>\n      <th>Micronesia</th>\n      <td>0.867822</td>\n      <td>0.867822</td>\n      <td>0.0</td>\n    </tr>\n  </tbody>\n</table>\n</div>"
     },
     "metadata": {}
    }
   ],
   "source": [
    "display(data_2_df.nlargest(5, 'Mortalidad'), data_2_df.nsmallest(5, 'Mortalidad'))"
   ]
  },
  {
   "cell_type": "markdown",
   "metadata": {},
   "source": [
    "## 4 Responda, analice y discuta: ¿En qué lugar/ranking se encuentra Chile con respecto a cada una de las métricas de los puntos anteriores? ¿A qué países de la OCDE se parece más? ¿A qué paises de latinoamérica se parece más?"
   ]
  },
  {
   "cell_type": "code",
   "execution_count": 22,
   "metadata": {},
   "outputs": [
    {
     "output_type": "execute_result",
     "data": {
      "text/plain": [
       "                    Confirmados  Cerrados  Activos  \\\n",
       "Country/Region                                       \n",
       "Afghanistan               58843     55071     3772   \n",
       "Albania                  130537    108106    22431   \n",
       "Algeria                  120922     87506    33416   \n",
       "Andorra                   13060     12615      445   \n",
       "Angola                    25609     23671     1938   \n",
       "...                         ...       ...      ...   \n",
       "Vietnam                    2843      2551      292   \n",
       "West Bank and Gaza       290972    265769    25203   \n",
       "Yemen                      6137      3733     2404   \n",
       "Zambia                    91358     90820      538   \n",
       "Zimbabwe                  38086     36680     1406   \n",
       "\n",
       "                    porcentaje Activos/Confirmado  \\\n",
       "Country/Region                                      \n",
       "Afghanistan                              6.410278   \n",
       "Albania                                 17.183634   \n",
       "Algeria                                 27.634343   \n",
       "Andorra                                  3.407351   \n",
       "Angola                                   7.567652   \n",
       "...                                           ...   \n",
       "Vietnam                                 10.270841   \n",
       "West Bank and Gaza                       8.661658   \n",
       "Yemen                                   39.172234   \n",
       "Zambia                                   0.588892   \n",
       "Zimbabwe                                 3.691645   \n",
       "\n",
       "                    porcentaje Decesos/Cerrados  \\\n",
       "Country/Region                                    \n",
       "Afghanistan                            4.688493   \n",
       "Albania                                2.199693   \n",
       "Algeria                                3.664892   \n",
       "Andorra                                0.982957   \n",
       "Angola                                 2.446031   \n",
       "...                                         ...   \n",
       "Vietnam                                1.372011   \n",
       "West Bank and Gaza                     1.191636   \n",
       "Yemen                                 31.797482   \n",
       "Zambia                                 1.371945   \n",
       "Zimbabwe                               4.244820   \n",
       "\n",
       "                    porcentaje Recuperados/Cerrados  \n",
       "Country/Region                                       \n",
       "Afghanistan                               95.311507  \n",
       "Albania                                   97.800307  \n",
       "Algeria                                   96.335108  \n",
       "Andorra                                   99.017043  \n",
       "Angola                                    97.553969  \n",
       "...                                             ...  \n",
       "Vietnam                                   98.627989  \n",
       "West Bank and Gaza                        98.808364  \n",
       "Yemen                                     68.202518  \n",
       "Zambia                                    98.628055  \n",
       "Zimbabwe                                  95.755180  \n",
       "\n",
       "[192 rows x 6 columns]"
      ],
      "text/html": "<div>\n<style scoped>\n    .dataframe tbody tr th:only-of-type {\n        vertical-align: middle;\n    }\n\n    .dataframe tbody tr th {\n        vertical-align: top;\n    }\n\n    .dataframe thead th {\n        text-align: right;\n    }\n</style>\n<table border=\"1\" class=\"dataframe\">\n  <thead>\n    <tr style=\"text-align: right;\">\n      <th></th>\n      <th>Confirmados</th>\n      <th>Cerrados</th>\n      <th>Activos</th>\n      <th>porcentaje Activos/Confirmado</th>\n      <th>porcentaje Decesos/Cerrados</th>\n      <th>porcentaje Recuperados/Cerrados</th>\n    </tr>\n    <tr>\n      <th>Country/Region</th>\n      <th></th>\n      <th></th>\n      <th></th>\n      <th></th>\n      <th></th>\n      <th></th>\n    </tr>\n  </thead>\n  <tbody>\n    <tr>\n      <th>Afghanistan</th>\n      <td>58843</td>\n      <td>55071</td>\n      <td>3772</td>\n      <td>6.410278</td>\n      <td>4.688493</td>\n      <td>95.311507</td>\n    </tr>\n    <tr>\n      <th>Albania</th>\n      <td>130537</td>\n      <td>108106</td>\n      <td>22431</td>\n      <td>17.183634</td>\n      <td>2.199693</td>\n      <td>97.800307</td>\n    </tr>\n    <tr>\n      <th>Algeria</th>\n      <td>120922</td>\n      <td>87506</td>\n      <td>33416</td>\n      <td>27.634343</td>\n      <td>3.664892</td>\n      <td>96.335108</td>\n    </tr>\n    <tr>\n      <th>Andorra</th>\n      <td>13060</td>\n      <td>12615</td>\n      <td>445</td>\n      <td>3.407351</td>\n      <td>0.982957</td>\n      <td>99.017043</td>\n    </tr>\n    <tr>\n      <th>Angola</th>\n      <td>25609</td>\n      <td>23671</td>\n      <td>1938</td>\n      <td>7.567652</td>\n      <td>2.446031</td>\n      <td>97.553969</td>\n    </tr>\n    <tr>\n      <th>...</th>\n      <td>...</td>\n      <td>...</td>\n      <td>...</td>\n      <td>...</td>\n      <td>...</td>\n      <td>...</td>\n    </tr>\n    <tr>\n      <th>Vietnam</th>\n      <td>2843</td>\n      <td>2551</td>\n      <td>292</td>\n      <td>10.270841</td>\n      <td>1.372011</td>\n      <td>98.627989</td>\n    </tr>\n    <tr>\n      <th>West Bank and Gaza</th>\n      <td>290972</td>\n      <td>265769</td>\n      <td>25203</td>\n      <td>8.661658</td>\n      <td>1.191636</td>\n      <td>98.808364</td>\n    </tr>\n    <tr>\n      <th>Yemen</th>\n      <td>6137</td>\n      <td>3733</td>\n      <td>2404</td>\n      <td>39.172234</td>\n      <td>31.797482</td>\n      <td>68.202518</td>\n    </tr>\n    <tr>\n      <th>Zambia</th>\n      <td>91358</td>\n      <td>90820</td>\n      <td>538</td>\n      <td>0.588892</td>\n      <td>1.371945</td>\n      <td>98.628055</td>\n    </tr>\n    <tr>\n      <th>Zimbabwe</th>\n      <td>38086</td>\n      <td>36680</td>\n      <td>1406</td>\n      <td>3.691645</td>\n      <td>4.244820</td>\n      <td>95.755180</td>\n    </tr>\n  </tbody>\n</table>\n<p>192 rows × 6 columns</p>\n</div>"
     },
     "metadata": {},
     "execution_count": 22
    }
   ],
   "source": [
    "data_df"
   ]
  },
  {
   "cell_type": "code",
   "execution_count": 23,
   "metadata": {},
   "outputs": [],
   "source": [
    "def chile_respecto_a(dataframe, dataframe2):\n",
    "    ranking_confirmados = dataframe.sort_values(by='Confirmados', ascending = False)\n",
    "    ranking_cerrados = dataframe.sort_values(by='Cerrados', ascending = False)\n",
    "    ranking_activos = dataframe.sort_values(by='Activos', ascending = False)\n",
    "\n",
    "    ranking_porcentaje_activos_confirmados = dataframe.sort_values(by='porcentaje Activos/Confirmado', ascending = False)\n",
    "    ranking_porcentaje_decesos_cerrados = dataframe.sort_values(by='porcentaje Decesos/Cerrados', ascending = False)\n",
    "    ranking_porcentaje_recuperados_cerrados = dataframe.sort_values(by='porcentaje Recuperados/Cerrados', ascending = False)\n",
    "\n",
    "    ranking_incidencia = dataframe2.sort_values(by='Incidencia', ascending = False)\n",
    "    ranking_recuperacion = dataframe2.sort_values(by='Recuperacion', ascending = False)\n",
    "    ranking_mortalidad = dataframe2.sort_values(by='Mortalidad', ascending = False)\n",
    "    print(\n",
    "        'Confirmados: ' + str(ranking_confirmados.index.get_loc('Chile')) + \"\\n\",\n",
    "        'Cerrados: ' + str(ranking_cerrados.index.get_loc('Chile')) + \"\\n\",\n",
    "        'Activos: ' + str(ranking_activos.index.get_loc('Chile')) + \"\\n\",\n",
    "        '%Activos confirmados: ' + str(ranking_porcentaje_activos_confirmados.index.get_loc('Chile')) + \"\\n\",\n",
    "        '%Decesos cerrados: ' + str(ranking_porcentaje_decesos_cerrados.index.get_loc('Chile')) + \"\\n\",\n",
    "        '%Recuperados cerrados: ' + str(ranking_porcentaje_recuperados_cerrados.index.get_loc('Chile')) + \"\\n\",\n",
    "        'Incidencia: ' + str(ranking_incidencia.index.get_loc('Chile')) + \"\\n\",\n",
    "        'Recuperación: ' + str(ranking_recuperacion.index.get_loc('Chile')) + \"\\n\",\n",
    "        'Mortalidad: ' + str(ranking_mortalidad.index.get_loc('Chile')) + \"\\n\"\n",
    "    )"
   ]
  },
  {
   "cell_type": "markdown",
   "metadata": {},
   "source": [
    "### Posición de Chile con respecto a todo el mundo"
   ]
  },
  {
   "cell_type": "code",
   "execution_count": 24,
   "metadata": {},
   "outputs": [
    {
     "output_type": "stream",
     "name": "stdout",
     "text": [
      "Confirmados: 22\n Cerrados: 16\n Activos: 40\n %Activos confirmados: 138\n %Decesos cerrados: 76\n %Recuperados cerrados: 115\n Incidencia: 39\n Recuperación: 26\n Mortalidad: 29\n\n"
     ]
    }
   ],
   "source": [
    "chile_respecto_a(data_df, data_2_df)\n"
   ]
  },
  {
   "cell_type": "markdown",
   "metadata": {},
   "source": [
    "### Poisición de Chile con respecto a la OCDE"
   ]
  },
  {
   "cell_type": "code",
   "execution_count": 25,
   "metadata": {},
   "outputs": [
    {
     "output_type": "stream",
     "name": "stdout",
     "text": [
      "Confirmados: 13\n Cerrados: 7\n Activos: 22\n %Activos confirmados: 32\n %Decesos cerrados: 19\n %Recuperados cerrados: 17\n Incidencia: 19\n Recuperación: 8\n Mortalidad: 14\n\n"
     ]
    }
   ],
   "source": [
    "paises_ocde = ['Australia','Austria','Belgium','Canada','Chile','Colombia','Czechia','Denmark','Estonia','Finland','France','Germany','Greece','Hungary','Iceland','Ireland','Israel','Italy','Japan','Korea, South','Latvia','Lithuania','Luxembourg','Mexico','Netherlands','New Zealand','Norway','Poland','Portugal','Slovakia','Slovenia','Spain','Sweden','Switzerland','Turkey','United Kingdom','US']\n",
    "\n",
    "chile_respecto_a(data_df.loc[paises_ocde], data_2_df.loc[paises_ocde])"
   ]
  },
  {
   "cell_type": "markdown",
   "metadata": {},
   "source": [
    "### Posición de Chile con respecto a latinoamérica"
   ]
  },
  {
   "cell_type": "code",
   "execution_count": 26,
   "metadata": {},
   "outputs": [
    {
     "output_type": "stream",
     "name": "stdout",
     "text": [
      "Confirmados: 5\n Cerrados: 5\n Activos: 5\n %Activos confirmados: 18\n %Decesos cerrados: 13\n %Recuperados cerrados: 9\n Incidencia: 3\n Recuperación: 2\n Mortalidad: 6\n\n"
     ]
    }
   ],
   "source": [
    "paises_latinoamerica = ['Argentina', 'Bolivia', 'Brazil', 'Chile', 'Colombia', 'Costa Rica', 'Cuba', 'Ecuador', 'El Salvador', 'Grenada', 'Guatemala', 'Haiti', 'Honduras', 'Jamaica', 'Mexico', 'Nicaragua', 'Paraguay', 'Panama', 'Peru', 'Dominican Republic', 'Suriname', 'Uruguay', 'Venezuela']\n",
    "\n",
    "chile_respecto_a(data_df.loc[paises_latinoamerica], data_2_df.loc[paises_latinoamerica])"
   ]
  },
  {
   "cell_type": "markdown",
   "metadata": {},
   "source": [
    "Chile con respecto al resto del mundo, se muestra en los primeros lugares tanto en casos confirmados, como de cerrados, en cuanto a los análisis de recuperación y mortalidad también se muestra en los mayores índices de la tabla, esto es debido a que estos valores tienen una estrecha relación con los de confirmados y cerrados. Para realizar una comparacion con el resto de los países del mundo, resultan útiles los valores de Incidencia, recuperación y mortalidad ya que utilizan una proporción en la que no incide la cantidad de población del país.\n",
    "En cuanto al análisis con respecto a los países de la OCDE, se logra apreciar una preocupante cercanía a los primeros lugares tanto en incidencia, recuperación y mortalidad, lo que también se acompaña por la cantidad de casos confirmados, es decir, dentro de los países de la OCDE tenemos relativamente uno de los mayores indices de contagios, y estos han desencadenado en una mayor mortalidad e incidencia, siendo uno de los países con menor PIB respecto al resto de los países miembros se puede deducir que existe una relación entre la riqueza de un país y el comportamiento en esta crisis.\n",
    "Con respecto a los países de latinamérica, también Chile se muestra entre los países con mayor incidencia, recuperación y mortalidad, y aunque la cantidad de casos confirmados es menor en comparación al resto, esto se debe a que la cantidad de población también es menor.\n"
   ]
  },
  {
   "cell_type": "markdown",
   "metadata": {},
   "source": [
    "### Análisis temporal y comparativo (2.0pt)\n",
    "\n",
    "1. Construya una interfaz gráfica usando `ipywidgets` y `matplotlib` que permita realizar comparaciones entre las series de tiempo de COVID-19 de dos países seleccionados arbitrariamente. A modo de simplificación considere sólo los países de la [OCDE](https://es.wikipedia.org/wiki/Organizaci%C3%B3n_para_la_Cooperaci%C3%B3n_y_el_Desarrollo_Econ%C3%B3micos). Requerimientos:\n",
    "    1. La interfaz debe incluir controles para escoger dos países a partir de una lista\n",
    "    1. La interfaz debe incluir tres [tabs](https://ipywidgets.readthedocs.io/en/latest/examples/Widget%20List.html#Tabs), el primero debe mostrar las series de tiempo de ambos países de los casos confirmados, el segundo la de recuperados y el tercero la de los decesos, respectivamente. Use una leyenda para indicar el nombre de los países.\n",
    "    1. La interfaz debe tener un control que permita escoger entre casos acumulados y casos nuevos  \n",
    "    1. La interfaz debe tener un control que permita escoger entre valores absolutos y valores relativos (tasas por 100.000 habitantes)\n",
    "    1. La interfaz debe tener un control que permita escoger entre valores diarios y valores semanales (acumulados). Para esto último se recomienda usar `groupby` con una [frecuencia lunes a lunes](https://pandas.pydata.org/pandas-docs/stable/user_guide/timeseries.html#anchored-offsets)\n",
    "    \n",
    "En base a su interfaz:   \n",
    "\n",
    "1. Describa en detalle la situación de Chile con respecto a la evolución temporal de las series de tiempo. En particular destaque patrones y comportamientos que considere relevantes y compare lo que observa en las distintas series de tiempo. Considerando la evolución a nivel de semana, conteste ¿En qué fechas ocurre un aumento o disminución notoria de los casos? ¿En qué fechas hay máximos y mínimos?\n",
    "1. Considerando métricas que sean relativas compare el caso de Chile contra cinco países de la OCDE seleccionados por ustedes. Destaque semejanzas y diferencias considerando las cantidades y los posibles desfases temporales existentes.\n"
   ]
  },
  {
   "cell_type": "markdown",
   "metadata": {},
   "source": [
    "## 1. Análisis temporal y comparativo"
   ]
  },
  {
   "cell_type": "code",
   "execution_count": 27,
   "metadata": {
    "tags": []
   },
   "outputs": [],
   "source": [
    "\n",
    "def data(country,df):\n",
    "    return df.loc[country]\n",
    "\n",
    "def update_plot_confirmados(country1,country2,control_selector='acumulados',control_selector2='absolutos',control_selector3='diarios'):\n",
    "    fig, ax = plt.subplots(figsize=(9,4), tight_layout = True)\n",
    "    slider_layout = widgets.Layout(width='600px', height='20px', margin='10px')\n",
    "    df = df_nuevos(df_confirmados)\n",
    "    if control_selector == 'acumulados': \n",
    "        df = df_confirmados\n",
    "    if control_selector3 == 'semanal':\n",
    "        df = df_confirmados.T.groupby(pd.Grouper(freq='W-MON', origin='start')).sum().T\n",
    "    else:\n",
    "        df = df_confirmados\n",
    "    if control_selector2 == 'relativos':\n",
    "        ax.plot(data(country1,(df*100000)/df_population_merge['Population (2020)'][country1]),label = country1)\n",
    "        ax.plot(data(country2,(df*100000)/df_population_merge['Population (2020)'][country2]),label = country2)\n",
    "    else:\n",
    "        ax.plot(data(country1,df),label = country1)\n",
    "        ax.plot(data(country2,df),label = country2)\n",
    "    \n",
    "    ax.get_xaxis().set_visible(False)\n",
    "    plt.legend()\n",
    "    \n",
    "def update_plot_recuperados(country1,country2,control_selector='acumulados',control_selector2='absolutos',control_selector3='diarios'):\n",
    "    fig, ax = plt.subplots(figsize=(9,4), tight_layout = True)\n",
    "    slider_layout = widgets.Layout(width='600px', height='20px', margin='10px')\n",
    "    df = df_nuevos(df_recuperados)\n",
    "    if control_selector == 'acumulados': \n",
    "        df = df_recuperados\n",
    "    if control_selector3 == 'semanal':\n",
    "        df = df_recuperados.T.groupby(pd.Grouper(freq='W-MON', origin='start')).sum().T\n",
    "    else:\n",
    "        df = df_recuperados\n",
    "    if control_selector2 == 'relativos':\n",
    "        ax.plot(data(country1,(df*100000)/df_population_merge['Population (2020)'][country1]),label = country1)\n",
    "        ax.plot(data(country2,(df*100000)/df_population_merge['Population (2020)'][country2]),label = country2)\n",
    "    else:\n",
    "        ax.plot(data(country1,df),label = country1)\n",
    "        ax.plot(data(country2,df),label = country2)\n",
    "    ax.get_xaxis().set_visible(False)\n",
    "    plt.legend()\n",
    "    \n",
    "def update_plot_decesos(country1,country2,control_selector='acumulados',control_selector2='absolutos',control_selector3='diarios'):\n",
    "    fig, ax = plt.subplots(figsize=(9,4), tight_layout = True)\n",
    "    slider_layout = widgets.Layout(width='600px', height='20px', margin='10px')\n",
    "    df = df_nuevos(df_muertes)\n",
    "    if control_selector == 'acumulados': \n",
    "        df = df_muertes\n",
    "    \n",
    "    if control_selector3 == 'semanal':\n",
    "        df = df_muertes.T.groupby(pd.Grouper(freq='W-MON', origin='start')).sum().T\n",
    "    else:\n",
    "        df = df_muertes\n",
    "    if control_selector2 == 'relativos':\n",
    "        ax.plot(data(country1,(df*100000)/df_population_merge['Population (2020)'][country1]),label = country1)\n",
    "        ax.plot(data(country2,(df*100000)/df_population_merge['Population (2020)'][country2]),label = country2)\n",
    "    else:\n",
    "        ax.plot(data(country1,df),label = country1)\n",
    "        ax.plot(data(country2,df),label = country2)\n",
    "    ax.get_xaxis().set_visible(False)\n",
    "    plt.legend()\n",
    "    \n",
    "\n",
    "def df_nuevos(df):\n",
    "    string = df.columns.astype(str)\n",
    "    new_data_frame=pd.DataFrame()\n",
    "    new_data_frame[string[0]] = df[string[0]]\n",
    "    for i in range(len(df.columns)-1):\n",
    "        value=df[string[i+1]]-df[string[i]]\n",
    "        new_data_frame[string[i+1]] = value \n",
    "    return new_data_frame\n",
    "\n",
    "\n",
    "    \n",
    "\n"
   ]
  },
  {
   "cell_type": "code",
   "execution_count": 28,
   "metadata": {},
   "outputs": [
    {
     "output_type": "display_data",
     "data": {
      "text/plain": "Tab(children=(HBox(children=(VBox(children=(Dropdown(description='Country1', index=5, options=('Australia', 'A…",
      "application/vnd.jupyter.widget-view+json": {
       "version_major": 2,
       "version_minor": 0,
       "model_id": "fdbc836aed1f4a72a3747c72ec696453"
      }
     },
     "metadata": {}
    }
   ],
   "source": [
    "\n",
    "control1 = widgets.Dropdown(options=paises_ocde,value='Colombia',description='Country1')\n",
    "control2 = widgets.Dropdown(options=paises_ocde,value='Chile',description='Country2')\n",
    "control_selector  = widgets.RadioButtons(value='acumulados', options=['acumulados', 'nuevos'], description='Acumulados/Nuevos')\n",
    "control_selector_abs  = widgets.RadioButtons(value='absolutos', options=['absolutos', 'relativos'], description='Absolutos/Relativos')\n",
    "control_selector_abs4  = widgets.RadioButtons(value='diarios', options=['diarios', 'semanal'], description='Diarios/Semanal')\n",
    "\n",
    "control3 = widgets.Dropdown(options=paises_ocde,value='Colombia',description='Country1')\n",
    "control4 = widgets.Dropdown(options=paises_ocde,value='Chile',description='Country2')\n",
    "control_selector2 = widgets.RadioButtons(value='acumulados', options=['acumulados', 'nuevos'], description='Acumulados/Nuevos')\n",
    "control_selector_abs2  = widgets.RadioButtons(value='absolutos', options=['absolutos', 'relativos'], description='Absolutos/Relativos')\n",
    "control_selector_abs5  = widgets.RadioButtons(value='diarios', options=['diarios', 'semanal'], description='Diarios/Semanal')\n",
    "\n",
    "control5 = widgets.Dropdown(options=paises_ocde,value='Colombia',description='Country1')\n",
    "control6 = widgets.Dropdown(options=paises_ocde,value='Chile',description='Country2')\n",
    "control_selector3 = widgets.RadioButtons(value='acumulados', options=['acumulados', 'nuevos'], description='Acumulados/Nuevos')\n",
    "control_selector_abs3  = widgets.RadioButtons(value='absolutos', options=['absolutos', 'relativos'], description='Absolutos/Relativos')\n",
    "control_selector_abs6  = widgets.RadioButtons(value='diarios', options=['diarios', 'semanal'], description='Diarios/Semanal')\n",
    "\n",
    "\n",
    "out1 = widgets.interactive_output(update_plot_confirmados,{'country1':control1,'country2':control2,'control_selector':control_selector,'control_selector2':control_selector_abs,'control_selector3':control_selector_abs4})\n",
    "out2 =  widgets.interactive_output(update_plot_recuperados,{'country1':control3,'country2':control4,'control_selector':control_selector2,'control_selector2':control_selector_abs2,'control_selector3':control_selector_abs5})\n",
    "out3 =  widgets.interactive_output(update_plot_decesos,{'country1':control5,'country2':control6,'control_selector':control_selector3,'control_selector2':control_selector_abs3,'control_selector3':control_selector_abs6})\n",
    "\n",
    "\n",
    "array_de_array = widgets.VBox([control1,control2,control_selector,control_selector_abs,control_selector_abs4,out1])\n",
    "array_de_array2 = widgets.VBox([control3,control4,control_selector2,control_selector_abs2,control_selector_abs5,out2])\n",
    "array_de_array3 = widgets.VBox([control5,control6,control_selector3,control_selector_abs3,control_selector_abs6,out3])\n",
    "\n",
    "ui = widgets.HBox([array_de_array])\n",
    "ui2 = widgets.HBox([array_de_array2])\n",
    "ui3 = widgets.HBox([array_de_array3])\n",
    "\n",
    "\n",
    "\n",
    "\n",
    "tab = widgets.Tab(children = [ui,ui2,ui3])\n",
    "tab.set_title(0, 'Confirmados')\n",
    "tab.set_title(1, 'Recuperados')\n",
    "tab.set_title(2, 'Decesos')\n",
    "display(tab)\n",
    "\n",
    "\n"
   ]
  },
  {
   "source": [
    "<h2 style=\"color: #ff8474;\">Primer Análisis</h2>\n",
    "\n",
    "Describa en detalle la situación de Chile con respecto a la evolución temporal de las series de tiempo. En particular destaque patrones y comportamientos que considere relevantes y compare lo que observa en las distintas series de tiempo. Considerando la evolución a nivel de semana, conteste ¿En qué fechas ocurre un aumento o disminución notoria de los casos? ¿En qué fechas hay máximos y mínimos?\n",
    "\n",
    "<h2 style=\"color: #ffc996;\">Situacion Total</h2>\n",
    "\n",
    "Con respecto a Chile en la evolución temporal de las series de tiempos tenemos 3 grandes bloque: <br/>\n",
    "Confirmados:\n",
    "Aquí podemos darnos cuenta que ya pasamos el millón de confirmados de COVID-19, y en promedio bordeamos los 5000 casos. <br/>\n",
    "Recuperados: \n",
    "En cuanto a los recuperados hemos ido a la par con los confirmados, esto es lógico ya que se van recuperando una gran cantidad de personas al momento que confirman otras. <br/>\n",
    "Decesos: Por último los decesos a pesar de que pasamos el millón de confirmados podemos observar que el total de decesos es recien una parte de ellos, siendo un total de 25000 aproximadamente hasta el 25 de abril del presente año (2021). <br/>\n",
    "<br/>\n",
    "<h2 style=\"color: #ffc996;\">Situacion Semanal</h2> \n",
    "<br/>\n",
    "Como podemos observar a fecha que más casos hubo fue entre Mayo y Julio del 2020, mientras que donde menos casos hubieron fue entre Agosto a Diciembre, donde en la curva se puede observar una tendencia más logarítmica.\n"
   ],
   "cell_type": "markdown",
   "metadata": {}
  },
  {
   "source": [
    "<h2 style=\"color: #ff8474;\">Segundo Análisis</h2>\n",
    "<br/>\n",
    "Considerando métricas que sean relativas compare el caso de Chile contra cinco países de la OCDE seleccionados por ustedes. Destaque semejanzas y diferencias considerando las cantidades y los posibles desfases temporales existentes. <br/>\n",
    "Chile vs Colombia: Como podemos observar Colobmia en un principio no supo poner las medidas inicialmente, donde Chile si pudo esto se observa desde Mayo hasta Diciembre del 2020, aquí Chile tomó mejores decisiones para confinar a su pueblo y que no se siguiera expandiendo el virus, pero en ese mes es donde Chile se despreocupa un poco más, y Colombia se ve una disminución de nuevos casos en comparación hasta marzo, donde Chile vuelve a tomar las riendas.\n"
   ],
   "cell_type": "markdown",
   "metadata": {}
  },
  {
   "cell_type": "markdown",
   "metadata": {},
   "source": [
    "### Dashboard interactivo (1.0pt)\n",
    "\n",
    "Implemente un *dashboard web* interactivo a partir de la interfaz desarrollada en el punto anterior utilizando la librería [voila](https://github.com/voila-dashboards/voila). Sirva su interfaz en la nube, para esto puede considerar los servicios gratuitos [binder](https://mybinder.org/) o [heroku](https://www.heroku.com/free). Revise la documentación de voila [con respecto a *deployment* en la nube](https://voila.readthedocs.io/en/stable/deploy.html) y este repositorio con [un ejemplo en base a heroku](https://github.com/voila-dashboards/voila-heroku). Entregue el link de su dashboard web"
   ]
  },
  {
   "cell_type": "code",
   "execution_count": null,
   "metadata": {},
   "outputs": [],
   "source": []
  }
 ],
 "metadata": {
  "kernelspec": {
   "display_name": "Python 3",
   "language": "python",
   "name": "python3"
  },
  "metadata": {
   "interpreter": {
    "hash": "63fd5069d213b44bf678585dea6b12cceca9941eaf7f819626cde1f2670de90d"
   }
  },
  "toc": {
   "base_numbering": 1,
   "nav_menu": {},
   "number_sections": true,
   "sideBar": true,
   "skip_h1_title": false,
   "title_cell": "Table of Contents",
   "title_sidebar": "Contents",
   "toc_cell": false,
   "toc_position": {},
   "toc_section_display": true,
   "toc_window_display": false
  }
 },
 "nbformat": 4,
 "nbformat_minor": 2
}